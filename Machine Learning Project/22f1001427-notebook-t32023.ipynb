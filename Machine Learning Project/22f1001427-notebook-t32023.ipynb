{
 "cells": [
  {
   "cell_type": "markdown",
   "id": "29e0e80c",
   "metadata": {
    "papermill": {
     "duration": 0.037455,
     "end_time": "2023-11-26T09:16:56.571086",
     "exception": false,
     "start_time": "2023-11-26T09:16:56.533631",
     "status": "completed"
    },
    "tags": []
   },
   "source": [
    "# Importing Necessary Library"
   ]
  },
  {
   "cell_type": "code",
   "execution_count": 1,
   "id": "999e51e3",
   "metadata": {
    "execution": {
     "iopub.execute_input": "2023-11-26T09:16:56.647984Z",
     "iopub.status.busy": "2023-11-26T09:16:56.647204Z",
     "iopub.status.idle": "2023-11-26T09:17:02.136270Z",
     "shell.execute_reply": "2023-11-26T09:17:02.134559Z"
    },
    "papermill": {
     "duration": 5.530066,
     "end_time": "2023-11-26T09:17:02.139388",
     "exception": false,
     "start_time": "2023-11-26T09:16:56.609322",
     "status": "completed"
    },
    "tags": []
   },
   "outputs": [],
   "source": [
    "import pandas as pd\n",
    "from sklearn.preprocessing import LabelEncoder,OrdinalEncoder\n",
    "import matplotlib.pyplot as plt\n",
    "import seaborn as sns\n",
    "from sklearn.model_selection import train_test_split,RandomizedSearchCV,GridSearchCV\n",
    "from sklearn.compose import ColumnTransformer\n",
    "from sklearn.pipeline import Pipeline,FeatureUnion\n",
    "from sklearn.preprocessing import LabelEncoder, StandardScaler\n",
    "from sklearn.linear_model import LinearRegression,SGDRegressor\n",
    "from sklearn.metrics import r2_score,mean_absolute_error\n",
    "from sklearn.ensemble import RandomForestRegressor\n",
    "from sklearn.impute import SimpleImputer\n",
    "from xgboost import XGBRegressor\n",
    "from lightgbm import LGBMRegressor\n",
    "from sklearn.tree import DecisionTreeRegressor\n",
    "from warnings import filterwarnings\n",
    "from sklearn.neighbors import KNeighborsRegressor\n",
    "from sklearn.model_selection import cross_val_score\n",
    "from sklearn.feature_selection import RFE\n",
    "from sklearn.svm import SVR\n",
    "from sklearn.preprocessing import PolynomialFeatures\n",
    "filterwarnings('ignore')"
   ]
  },
  {
   "cell_type": "markdown",
   "id": "5f59ff87",
   "metadata": {
    "papermill": {
     "duration": 0.035864,
     "end_time": "2023-11-26T09:17:02.212601",
     "exception": false,
     "start_time": "2023-11-26T09:17:02.176737",
     "status": "completed"
    },
    "tags": []
   },
   "source": [
    "# Importing Dataset"
   ]
  },
  {
   "cell_type": "code",
   "execution_count": 2,
   "id": "875327ad",
   "metadata": {
    "execution": {
     "iopub.execute_input": "2023-11-26T09:17:02.350509Z",
     "iopub.status.busy": "2023-11-26T09:17:02.350083Z",
     "iopub.status.idle": "2023-11-26T09:17:03.282602Z",
     "shell.execute_reply": "2023-11-26T09:17:03.280998Z"
    },
    "papermill": {
     "duration": 1.036719,
     "end_time": "2023-11-26T09:17:03.285661",
     "exception": false,
     "start_time": "2023-11-26T09:17:02.248942",
     "status": "completed"
    },
    "tags": []
   },
   "outputs": [],
   "source": [
    "taxi_data=pd.read_csv('/kaggle/input/taxi-fare-guru-total-amount-prediction-challenge/train.csv')"
   ]
  },
  {
   "cell_type": "code",
   "execution_count": 3,
   "id": "0ad78091",
   "metadata": {
    "execution": {
     "iopub.execute_input": "2023-11-26T09:17:03.360127Z",
     "iopub.status.busy": "2023-11-26T09:17:03.359669Z",
     "iopub.status.idle": "2023-11-26T09:17:03.418400Z",
     "shell.execute_reply": "2023-11-26T09:17:03.416992Z"
    },
    "papermill": {
     "duration": 0.099194,
     "end_time": "2023-11-26T09:17:03.421101",
     "exception": false,
     "start_time": "2023-11-26T09:17:03.321907",
     "status": "completed"
    },
    "tags": []
   },
   "outputs": [
    {
     "data": {
      "text/html": [
       "<div>\n",
       "<style scoped>\n",
       "    .dataframe tbody tr th:only-of-type {\n",
       "        vertical-align: middle;\n",
       "    }\n",
       "\n",
       "    .dataframe tbody tr th {\n",
       "        vertical-align: top;\n",
       "    }\n",
       "\n",
       "    .dataframe thead th {\n",
       "        text-align: right;\n",
       "    }\n",
       "</style>\n",
       "<table border=\"1\" class=\"dataframe\">\n",
       "  <thead>\n",
       "    <tr style=\"text-align: right;\">\n",
       "      <th></th>\n",
       "      <th>VendorID</th>\n",
       "      <th>tpep_pickup_datetime</th>\n",
       "      <th>tpep_dropoff_datetime</th>\n",
       "      <th>passenger_count</th>\n",
       "      <th>trip_distance</th>\n",
       "      <th>RatecodeID</th>\n",
       "      <th>store_and_fwd_flag</th>\n",
       "      <th>PULocationID</th>\n",
       "      <th>DOLocationID</th>\n",
       "      <th>payment_type</th>\n",
       "      <th>extra</th>\n",
       "      <th>tip_amount</th>\n",
       "      <th>tolls_amount</th>\n",
       "      <th>improvement_surcharge</th>\n",
       "      <th>total_amount</th>\n",
       "      <th>congestion_surcharge</th>\n",
       "      <th>Airport_fee</th>\n",
       "    </tr>\n",
       "  </thead>\n",
       "  <tbody>\n",
       "    <tr>\n",
       "      <th>0</th>\n",
       "      <td>1</td>\n",
       "      <td>2023-06-28 17:20:21</td>\n",
       "      <td>2023-06-28 16:34:45</td>\n",
       "      <td>1.0</td>\n",
       "      <td>2.14</td>\n",
       "      <td>1.0</td>\n",
       "      <td>N</td>\n",
       "      <td>120</td>\n",
       "      <td>9</td>\n",
       "      <td>Credit Card</td>\n",
       "      <td>2.5</td>\n",
       "      <td>7.165589</td>\n",
       "      <td>0.0</td>\n",
       "      <td>1.0</td>\n",
       "      <td>20.64</td>\n",
       "      <td>2.5</td>\n",
       "      <td>0.00</td>\n",
       "    </tr>\n",
       "    <tr>\n",
       "      <th>1</th>\n",
       "      <td>0</td>\n",
       "      <td>2023-06-29 23:05:01</td>\n",
       "      <td>2023-06-29 22:01:35</td>\n",
       "      <td>1.0</td>\n",
       "      <td>2.70</td>\n",
       "      <td>1.0</td>\n",
       "      <td>N</td>\n",
       "      <td>15</td>\n",
       "      <td>215</td>\n",
       "      <td>Credit Card</td>\n",
       "      <td>3.5</td>\n",
       "      <td>6.067401</td>\n",
       "      <td>0.0</td>\n",
       "      <td>1.0</td>\n",
       "      <td>25.55</td>\n",
       "      <td>2.5</td>\n",
       "      <td>0.00</td>\n",
       "    </tr>\n",
       "    <tr>\n",
       "      <th>2</th>\n",
       "      <td>1</td>\n",
       "      <td>2023-06-30 10:19:31</td>\n",
       "      <td>2023-06-30 11:13:10</td>\n",
       "      <td>1.0</td>\n",
       "      <td>1.15</td>\n",
       "      <td>1.0</td>\n",
       "      <td>N</td>\n",
       "      <td>167</td>\n",
       "      <td>223</td>\n",
       "      <td>Credit Card</td>\n",
       "      <td>0.0</td>\n",
       "      <td>4.111547</td>\n",
       "      <td>0.0</td>\n",
       "      <td>1.0</td>\n",
       "      <td>17.64</td>\n",
       "      <td>2.5</td>\n",
       "      <td>0.00</td>\n",
       "    </tr>\n",
       "    <tr>\n",
       "      <th>3</th>\n",
       "      <td>0</td>\n",
       "      <td>2023-06-29 13:23:09</td>\n",
       "      <td>2023-06-29 14:20:01</td>\n",
       "      <td>1.0</td>\n",
       "      <td>0.40</td>\n",
       "      <td>1.0</td>\n",
       "      <td>N</td>\n",
       "      <td>128</td>\n",
       "      <td>239</td>\n",
       "      <td>Credit Card</td>\n",
       "      <td>2.5</td>\n",
       "      <td>6.411079</td>\n",
       "      <td>0.0</td>\n",
       "      <td>1.0</td>\n",
       "      <td>12.80</td>\n",
       "      <td>2.5</td>\n",
       "      <td>0.00</td>\n",
       "    </tr>\n",
       "    <tr>\n",
       "      <th>4</th>\n",
       "      <td>1</td>\n",
       "      <td>2023-06-29 22:03:32</td>\n",
       "      <td>2023-06-29 22:22:22</td>\n",
       "      <td>3.0</td>\n",
       "      <td>1.10</td>\n",
       "      <td>1.0</td>\n",
       "      <td>N</td>\n",
       "      <td>203</td>\n",
       "      <td>52</td>\n",
       "      <td>Credit Card</td>\n",
       "      <td>1.0</td>\n",
       "      <td>4.769377</td>\n",
       "      <td>0.0</td>\n",
       "      <td>1.0</td>\n",
       "      <td>18.00</td>\n",
       "      <td>2.5</td>\n",
       "      <td>0.00</td>\n",
       "    </tr>\n",
       "    <tr>\n",
       "      <th>...</th>\n",
       "      <td>...</td>\n",
       "      <td>...</td>\n",
       "      <td>...</td>\n",
       "      <td>...</td>\n",
       "      <td>...</td>\n",
       "      <td>...</td>\n",
       "      <td>...</td>\n",
       "      <td>...</td>\n",
       "      <td>...</td>\n",
       "      <td>...</td>\n",
       "      <td>...</td>\n",
       "      <td>...</td>\n",
       "      <td>...</td>\n",
       "      <td>...</td>\n",
       "      <td>...</td>\n",
       "      <td>...</td>\n",
       "      <td>...</td>\n",
       "    </tr>\n",
       "    <tr>\n",
       "      <th>174995</th>\n",
       "      <td>1</td>\n",
       "      <td>2023-06-30 22:50:57</td>\n",
       "      <td>2023-06-30 22:22:22</td>\n",
       "      <td>3.0</td>\n",
       "      <td>3.45</td>\n",
       "      <td>1.0</td>\n",
       "      <td>N</td>\n",
       "      <td>147</td>\n",
       "      <td>167</td>\n",
       "      <td>Credit Card</td>\n",
       "      <td>1.0</td>\n",
       "      <td>8.732495</td>\n",
       "      <td>0.0</td>\n",
       "      <td>1.0</td>\n",
       "      <td>28.08</td>\n",
       "      <td>2.5</td>\n",
       "      <td>0.00</td>\n",
       "    </tr>\n",
       "    <tr>\n",
       "      <th>174996</th>\n",
       "      <td>1</td>\n",
       "      <td>2023-06-30 13:03:33</td>\n",
       "      <td>2023-06-30 14:04:57</td>\n",
       "      <td>1.0</td>\n",
       "      <td>9.44</td>\n",
       "      <td>1.0</td>\n",
       "      <td>N</td>\n",
       "      <td>154</td>\n",
       "      <td>191</td>\n",
       "      <td>Cash</td>\n",
       "      <td>5.0</td>\n",
       "      <td>0.283275</td>\n",
       "      <td>0.0</td>\n",
       "      <td>1.0</td>\n",
       "      <td>59.95</td>\n",
       "      <td>2.5</td>\n",
       "      <td>1.75</td>\n",
       "    </tr>\n",
       "    <tr>\n",
       "      <th>174997</th>\n",
       "      <td>0</td>\n",
       "      <td>2023-06-29 11:03:32</td>\n",
       "      <td>2023-06-29 12:13:34</td>\n",
       "      <td>1.0</td>\n",
       "      <td>2.40</td>\n",
       "      <td>1.0</td>\n",
       "      <td>N</td>\n",
       "      <td>168</td>\n",
       "      <td>106</td>\n",
       "      <td>Credit Card</td>\n",
       "      <td>2.5</td>\n",
       "      <td>4.245354</td>\n",
       "      <td>0.0</td>\n",
       "      <td>1.0</td>\n",
       "      <td>33.50</td>\n",
       "      <td>2.5</td>\n",
       "      <td>0.00</td>\n",
       "    </tr>\n",
       "    <tr>\n",
       "      <th>174998</th>\n",
       "      <td>1</td>\n",
       "      <td>2023-06-29 19:47:17</td>\n",
       "      <td>2023-06-29 19:08:55</td>\n",
       "      <td>1.0</td>\n",
       "      <td>4.71</td>\n",
       "      <td>1.0</td>\n",
       "      <td>N</td>\n",
       "      <td>240</td>\n",
       "      <td>100</td>\n",
       "      <td>Credit Card</td>\n",
       "      <td>2.5</td>\n",
       "      <td>10.479776</td>\n",
       "      <td>0.0</td>\n",
       "      <td>1.0</td>\n",
       "      <td>40.80</td>\n",
       "      <td>2.5</td>\n",
       "      <td>0.00</td>\n",
       "    </tr>\n",
       "    <tr>\n",
       "      <th>174999</th>\n",
       "      <td>1</td>\n",
       "      <td>2023-06-30 21:26:43</td>\n",
       "      <td>2023-06-30 22:54:42</td>\n",
       "      <td>1.0</td>\n",
       "      <td>1.01</td>\n",
       "      <td>1.0</td>\n",
       "      <td>N</td>\n",
       "      <td>153</td>\n",
       "      <td>72</td>\n",
       "      <td>Credit Card</td>\n",
       "      <td>1.0</td>\n",
       "      <td>6.541699</td>\n",
       "      <td>0.0</td>\n",
       "      <td>1.0</td>\n",
       "      <td>16.32</td>\n",
       "      <td>2.5</td>\n",
       "      <td>0.00</td>\n",
       "    </tr>\n",
       "  </tbody>\n",
       "</table>\n",
       "<p>175000 rows × 17 columns</p>\n",
       "</div>"
      ],
      "text/plain": [
       "        VendorID tpep_pickup_datetime tpep_dropoff_datetime  passenger_count  \\\n",
       "0              1  2023-06-28 17:20:21   2023-06-28 16:34:45              1.0   \n",
       "1              0  2023-06-29 23:05:01   2023-06-29 22:01:35              1.0   \n",
       "2              1  2023-06-30 10:19:31   2023-06-30 11:13:10              1.0   \n",
       "3              0  2023-06-29 13:23:09   2023-06-29 14:20:01              1.0   \n",
       "4              1  2023-06-29 22:03:32   2023-06-29 22:22:22              3.0   \n",
       "...          ...                  ...                   ...              ...   \n",
       "174995         1  2023-06-30 22:50:57   2023-06-30 22:22:22              3.0   \n",
       "174996         1  2023-06-30 13:03:33   2023-06-30 14:04:57              1.0   \n",
       "174997         0  2023-06-29 11:03:32   2023-06-29 12:13:34              1.0   \n",
       "174998         1  2023-06-29 19:47:17   2023-06-29 19:08:55              1.0   \n",
       "174999         1  2023-06-30 21:26:43   2023-06-30 22:54:42              1.0   \n",
       "\n",
       "        trip_distance  RatecodeID store_and_fwd_flag  PULocationID  \\\n",
       "0                2.14         1.0                  N           120   \n",
       "1                2.70         1.0                  N            15   \n",
       "2                1.15         1.0                  N           167   \n",
       "3                0.40         1.0                  N           128   \n",
       "4                1.10         1.0                  N           203   \n",
       "...               ...         ...                ...           ...   \n",
       "174995           3.45         1.0                  N           147   \n",
       "174996           9.44         1.0                  N           154   \n",
       "174997           2.40         1.0                  N           168   \n",
       "174998           4.71         1.0                  N           240   \n",
       "174999           1.01         1.0                  N           153   \n",
       "\n",
       "        DOLocationID payment_type  extra  tip_amount  tolls_amount  \\\n",
       "0                  9  Credit Card    2.5    7.165589           0.0   \n",
       "1                215  Credit Card    3.5    6.067401           0.0   \n",
       "2                223  Credit Card    0.0    4.111547           0.0   \n",
       "3                239  Credit Card    2.5    6.411079           0.0   \n",
       "4                 52  Credit Card    1.0    4.769377           0.0   \n",
       "...              ...          ...    ...         ...           ...   \n",
       "174995           167  Credit Card    1.0    8.732495           0.0   \n",
       "174996           191         Cash    5.0    0.283275           0.0   \n",
       "174997           106  Credit Card    2.5    4.245354           0.0   \n",
       "174998           100  Credit Card    2.5   10.479776           0.0   \n",
       "174999            72  Credit Card    1.0    6.541699           0.0   \n",
       "\n",
       "        improvement_surcharge  total_amount  congestion_surcharge  Airport_fee  \n",
       "0                         1.0         20.64                   2.5         0.00  \n",
       "1                         1.0         25.55                   2.5         0.00  \n",
       "2                         1.0         17.64                   2.5         0.00  \n",
       "3                         1.0         12.80                   2.5         0.00  \n",
       "4                         1.0         18.00                   2.5         0.00  \n",
       "...                       ...           ...                   ...          ...  \n",
       "174995                    1.0         28.08                   2.5         0.00  \n",
       "174996                    1.0         59.95                   2.5         1.75  \n",
       "174997                    1.0         33.50                   2.5         0.00  \n",
       "174998                    1.0         40.80                   2.5         0.00  \n",
       "174999                    1.0         16.32                   2.5         0.00  \n",
       "\n",
       "[175000 rows x 17 columns]"
      ]
     },
     "execution_count": 3,
     "metadata": {},
     "output_type": "execute_result"
    }
   ],
   "source": [
    "taxi_data"
   ]
  },
  {
   "cell_type": "code",
   "execution_count": 4,
   "id": "3d545345",
   "metadata": {
    "execution": {
     "iopub.execute_input": "2023-11-26T09:17:03.501598Z",
     "iopub.status.busy": "2023-11-26T09:17:03.501148Z",
     "iopub.status.idle": "2023-11-26T09:17:03.577935Z",
     "shell.execute_reply": "2023-11-26T09:17:03.576675Z"
    },
    "papermill": {
     "duration": 0.118682,
     "end_time": "2023-11-26T09:17:03.580377",
     "exception": false,
     "start_time": "2023-11-26T09:17:03.461695",
     "status": "completed"
    },
    "tags": []
   },
   "outputs": [
    {
     "data": {
      "text/html": [
       "<div>\n",
       "<style scoped>\n",
       "    .dataframe tbody tr th:only-of-type {\n",
       "        vertical-align: middle;\n",
       "    }\n",
       "\n",
       "    .dataframe tbody tr th {\n",
       "        vertical-align: top;\n",
       "    }\n",
       "\n",
       "    .dataframe thead th {\n",
       "        text-align: right;\n",
       "    }\n",
       "</style>\n",
       "<table border=\"1\" class=\"dataframe\">\n",
       "  <thead>\n",
       "    <tr style=\"text-align: right;\">\n",
       "      <th></th>\n",
       "      <th>VendorID</th>\n",
       "      <th>tpep_pickup_datetime</th>\n",
       "      <th>tpep_dropoff_datetime</th>\n",
       "      <th>passenger_count</th>\n",
       "      <th>trip_distance</th>\n",
       "      <th>RatecodeID</th>\n",
       "      <th>store_and_fwd_flag</th>\n",
       "      <th>PULocationID</th>\n",
       "      <th>DOLocationID</th>\n",
       "      <th>payment_type</th>\n",
       "      <th>extra</th>\n",
       "      <th>tip_amount</th>\n",
       "      <th>tolls_amount</th>\n",
       "      <th>improvement_surcharge</th>\n",
       "      <th>total_amount</th>\n",
       "      <th>congestion_surcharge</th>\n",
       "      <th>Airport_fee</th>\n",
       "    </tr>\n",
       "  </thead>\n",
       "  <tbody>\n",
       "    <tr>\n",
       "      <th>174950</th>\n",
       "      <td>1</td>\n",
       "      <td>2023-06-29 13:58:51</td>\n",
       "      <td>2023-06-29 13:40:29</td>\n",
       "      <td>1.0</td>\n",
       "      <td>21.73</td>\n",
       "      <td>2.0</td>\n",
       "      <td>N</td>\n",
       "      <td>21</td>\n",
       "      <td>214</td>\n",
       "      <td>Credit Card</td>\n",
       "      <td>0.00</td>\n",
       "      <td>17.127568</td>\n",
       "      <td>6.55</td>\n",
       "      <td>1.0</td>\n",
       "      <td>98.76</td>\n",
       "      <td>2.5</td>\n",
       "      <td>1.75</td>\n",
       "    </tr>\n",
       "    <tr>\n",
       "      <th>174951</th>\n",
       "      <td>0</td>\n",
       "      <td>2023-06-30 15:08:27</td>\n",
       "      <td>2023-06-30 16:08:03</td>\n",
       "      <td>1.0</td>\n",
       "      <td>1.10</td>\n",
       "      <td>1.0</td>\n",
       "      <td>N</td>\n",
       "      <td>230</td>\n",
       "      <td>61</td>\n",
       "      <td>Credit Card</td>\n",
       "      <td>5.00</td>\n",
       "      <td>6.054478</td>\n",
       "      <td>0.00</td>\n",
       "      <td>1.0</td>\n",
       "      <td>18.10</td>\n",
       "      <td>2.5</td>\n",
       "      <td>0.00</td>\n",
       "    </tr>\n",
       "    <tr>\n",
       "      <th>174952</th>\n",
       "      <td>1</td>\n",
       "      <td>2023-06-28 20:14:34</td>\n",
       "      <td>2023-06-28 19:25:53</td>\n",
       "      <td>1.0</td>\n",
       "      <td>3.47</td>\n",
       "      <td>1.0</td>\n",
       "      <td>N</td>\n",
       "      <td>226</td>\n",
       "      <td>157</td>\n",
       "      <td>Cash</td>\n",
       "      <td>2.50</td>\n",
       "      <td>1.315521</td>\n",
       "      <td>0.00</td>\n",
       "      <td>1.0</td>\n",
       "      <td>27.00</td>\n",
       "      <td>2.5</td>\n",
       "      <td>0.00</td>\n",
       "    </tr>\n",
       "    <tr>\n",
       "      <th>174953</th>\n",
       "      <td>0</td>\n",
       "      <td>2023-06-28 18:53:54</td>\n",
       "      <td>2023-06-28 18:48:24</td>\n",
       "      <td>3.0</td>\n",
       "      <td>10.80</td>\n",
       "      <td>1.0</td>\n",
       "      <td>N</td>\n",
       "      <td>113</td>\n",
       "      <td>52</td>\n",
       "      <td>Credit Card</td>\n",
       "      <td>11.75</td>\n",
       "      <td>16.639958</td>\n",
       "      <td>6.55</td>\n",
       "      <td>1.0</td>\n",
       "      <td>76.05</td>\n",
       "      <td>2.5</td>\n",
       "      <td>1.75</td>\n",
       "    </tr>\n",
       "    <tr>\n",
       "      <th>174954</th>\n",
       "      <td>1</td>\n",
       "      <td>2023-06-30 18:35:40</td>\n",
       "      <td>2023-06-30 18:30:18</td>\n",
       "      <td>2.0</td>\n",
       "      <td>3.80</td>\n",
       "      <td>1.0</td>\n",
       "      <td>N</td>\n",
       "      <td>41</td>\n",
       "      <td>251</td>\n",
       "      <td>Credit Card</td>\n",
       "      <td>2.50</td>\n",
       "      <td>7.123491</td>\n",
       "      <td>0.00</td>\n",
       "      <td>1.0</td>\n",
       "      <td>34.92</td>\n",
       "      <td>2.5</td>\n",
       "      <td>0.00</td>\n",
       "    </tr>\n",
       "    <tr>\n",
       "      <th>174955</th>\n",
       "      <td>1</td>\n",
       "      <td>2023-06-29 10:35:11</td>\n",
       "      <td>2023-06-29 11:17:36</td>\n",
       "      <td>2.0</td>\n",
       "      <td>0.82</td>\n",
       "      <td>1.0</td>\n",
       "      <td>N</td>\n",
       "      <td>57</td>\n",
       "      <td>68</td>\n",
       "      <td>Cash</td>\n",
       "      <td>0.00</td>\n",
       "      <td>1.338299</td>\n",
       "      <td>0.00</td>\n",
       "      <td>1.0</td>\n",
       "      <td>10.50</td>\n",
       "      <td>2.5</td>\n",
       "      <td>0.00</td>\n",
       "    </tr>\n",
       "    <tr>\n",
       "      <th>174956</th>\n",
       "      <td>0</td>\n",
       "      <td>2023-06-28 16:08:27</td>\n",
       "      <td>2023-06-28 16:48:06</td>\n",
       "      <td>2.0</td>\n",
       "      <td>0.50</td>\n",
       "      <td>1.0</td>\n",
       "      <td>N</td>\n",
       "      <td>6</td>\n",
       "      <td>234</td>\n",
       "      <td>Credit Card</td>\n",
       "      <td>5.00</td>\n",
       "      <td>4.503789</td>\n",
       "      <td>0.00</td>\n",
       "      <td>1.0</td>\n",
       "      <td>15.00</td>\n",
       "      <td>2.5</td>\n",
       "      <td>0.00</td>\n",
       "    </tr>\n",
       "    <tr>\n",
       "      <th>174957</th>\n",
       "      <td>1</td>\n",
       "      <td>2023-06-30 08:39:59</td>\n",
       "      <td>2023-06-30 08:41:04</td>\n",
       "      <td>5.0</td>\n",
       "      <td>0.84</td>\n",
       "      <td>1.0</td>\n",
       "      <td>N</td>\n",
       "      <td>176</td>\n",
       "      <td>215</td>\n",
       "      <td>Credit Card</td>\n",
       "      <td>0.00</td>\n",
       "      <td>4.198094</td>\n",
       "      <td>0.00</td>\n",
       "      <td>1.0</td>\n",
       "      <td>13.80</td>\n",
       "      <td>0.0</td>\n",
       "      <td>0.00</td>\n",
       "    </tr>\n",
       "    <tr>\n",
       "      <th>174958</th>\n",
       "      <td>0</td>\n",
       "      <td>2023-06-30 10:30:57</td>\n",
       "      <td>2023-06-30 11:43:19</td>\n",
       "      <td>1.0</td>\n",
       "      <td>1.20</td>\n",
       "      <td>1.0</td>\n",
       "      <td>N</td>\n",
       "      <td>190</td>\n",
       "      <td>23</td>\n",
       "      <td>Cash</td>\n",
       "      <td>2.50</td>\n",
       "      <td>3.154668</td>\n",
       "      <td>0.00</td>\n",
       "      <td>1.0</td>\n",
       "      <td>13.30</td>\n",
       "      <td>2.5</td>\n",
       "      <td>0.00</td>\n",
       "    </tr>\n",
       "    <tr>\n",
       "      <th>174959</th>\n",
       "      <td>1</td>\n",
       "      <td>2023-06-29 14:50:19</td>\n",
       "      <td>2023-06-29 14:48:27</td>\n",
       "      <td>1.0</td>\n",
       "      <td>0.08</td>\n",
       "      <td>1.0</td>\n",
       "      <td>N</td>\n",
       "      <td>37</td>\n",
       "      <td>209</td>\n",
       "      <td>Credit Card</td>\n",
       "      <td>0.00</td>\n",
       "      <td>5.990373</td>\n",
       "      <td>0.00</td>\n",
       "      <td>1.0</td>\n",
       "      <td>10.10</td>\n",
       "      <td>2.5</td>\n",
       "      <td>0.00</td>\n",
       "    </tr>\n",
       "    <tr>\n",
       "      <th>174960</th>\n",
       "      <td>0</td>\n",
       "      <td>2023-06-30 20:11:51</td>\n",
       "      <td>2023-06-30 19:45:16</td>\n",
       "      <td>2.0</td>\n",
       "      <td>1.70</td>\n",
       "      <td>1.0</td>\n",
       "      <td>N</td>\n",
       "      <td>12</td>\n",
       "      <td>30</td>\n",
       "      <td>Credit Card</td>\n",
       "      <td>5.00</td>\n",
       "      <td>2.266740</td>\n",
       "      <td>0.00</td>\n",
       "      <td>1.0</td>\n",
       "      <td>23.80</td>\n",
       "      <td>2.5</td>\n",
       "      <td>0.00</td>\n",
       "    </tr>\n",
       "    <tr>\n",
       "      <th>174961</th>\n",
       "      <td>0</td>\n",
       "      <td>2023-06-29 22:06:33</td>\n",
       "      <td>2023-06-29 21:09:34</td>\n",
       "      <td>1.0</td>\n",
       "      <td>12.10</td>\n",
       "      <td>1.0</td>\n",
       "      <td>N</td>\n",
       "      <td>18</td>\n",
       "      <td>157</td>\n",
       "      <td>Cash</td>\n",
       "      <td>3.50</td>\n",
       "      <td>1.122943</td>\n",
       "      <td>6.55</td>\n",
       "      <td>1.0</td>\n",
       "      <td>64.95</td>\n",
       "      <td>2.5</td>\n",
       "      <td>0.00</td>\n",
       "    </tr>\n",
       "    <tr>\n",
       "      <th>174962</th>\n",
       "      <td>1</td>\n",
       "      <td>2023-06-29 12:49:00</td>\n",
       "      <td>2023-06-29 11:54:48</td>\n",
       "      <td>2.0</td>\n",
       "      <td>1.76</td>\n",
       "      <td>1.0</td>\n",
       "      <td>N</td>\n",
       "      <td>92</td>\n",
       "      <td>75</td>\n",
       "      <td>Credit Card</td>\n",
       "      <td>0.00</td>\n",
       "      <td>8.868153</td>\n",
       "      <td>0.00</td>\n",
       "      <td>1.0</td>\n",
       "      <td>23.52</td>\n",
       "      <td>2.5</td>\n",
       "      <td>0.00</td>\n",
       "    </tr>\n",
       "    <tr>\n",
       "      <th>174963</th>\n",
       "      <td>0</td>\n",
       "      <td>2023-06-29 22:51:45</td>\n",
       "      <td>2023-06-29 23:09:02</td>\n",
       "      <td>1.0</td>\n",
       "      <td>2.20</td>\n",
       "      <td>1.0</td>\n",
       "      <td>N</td>\n",
       "      <td>19</td>\n",
       "      <td>1</td>\n",
       "      <td>Credit Card</td>\n",
       "      <td>3.50</td>\n",
       "      <td>8.616505</td>\n",
       "      <td>0.00</td>\n",
       "      <td>1.0</td>\n",
       "      <td>24.95</td>\n",
       "      <td>2.5</td>\n",
       "      <td>0.00</td>\n",
       "    </tr>\n",
       "    <tr>\n",
       "      <th>174964</th>\n",
       "      <td>0</td>\n",
       "      <td>2023-06-29 14:25:55</td>\n",
       "      <td>2023-06-29 13:56:18</td>\n",
       "      <td>1.0</td>\n",
       "      <td>0.60</td>\n",
       "      <td>1.0</td>\n",
       "      <td>N</td>\n",
       "      <td>26</td>\n",
       "      <td>208</td>\n",
       "      <td>Credit Card</td>\n",
       "      <td>2.50</td>\n",
       "      <td>4.058477</td>\n",
       "      <td>0.00</td>\n",
       "      <td>1.0</td>\n",
       "      <td>20.16</td>\n",
       "      <td>2.5</td>\n",
       "      <td>0.00</td>\n",
       "    </tr>\n",
       "    <tr>\n",
       "      <th>174965</th>\n",
       "      <td>0</td>\n",
       "      <td>2023-06-30 09:43:17</td>\n",
       "      <td>2023-06-30 09:07:14</td>\n",
       "      <td>1.0</td>\n",
       "      <td>3.40</td>\n",
       "      <td>1.0</td>\n",
       "      <td>N</td>\n",
       "      <td>171</td>\n",
       "      <td>156</td>\n",
       "      <td>Credit Card</td>\n",
       "      <td>2.50</td>\n",
       "      <td>5.303701</td>\n",
       "      <td>0.00</td>\n",
       "      <td>1.0</td>\n",
       "      <td>23.87</td>\n",
       "      <td>2.5</td>\n",
       "      <td>0.00</td>\n",
       "    </tr>\n",
       "    <tr>\n",
       "      <th>174966</th>\n",
       "      <td>0</td>\n",
       "      <td>2023-06-28 18:35:06</td>\n",
       "      <td>2023-06-28 17:25:17</td>\n",
       "      <td>1.0</td>\n",
       "      <td>1.00</td>\n",
       "      <td>1.0</td>\n",
       "      <td>N</td>\n",
       "      <td>225</td>\n",
       "      <td>138</td>\n",
       "      <td>Credit Card</td>\n",
       "      <td>5.00</td>\n",
       "      <td>3.454045</td>\n",
       "      <td>0.00</td>\n",
       "      <td>1.0</td>\n",
       "      <td>18.95</td>\n",
       "      <td>2.5</td>\n",
       "      <td>0.00</td>\n",
       "    </tr>\n",
       "    <tr>\n",
       "      <th>174967</th>\n",
       "      <td>1</td>\n",
       "      <td>2023-06-29 19:57:56</td>\n",
       "      <td>2023-06-29 20:06:53</td>\n",
       "      <td>1.0</td>\n",
       "      <td>9.26</td>\n",
       "      <td>1.0</td>\n",
       "      <td>N</td>\n",
       "      <td>24</td>\n",
       "      <td>263</td>\n",
       "      <td>Credit Card</td>\n",
       "      <td>6.00</td>\n",
       "      <td>19.220866</td>\n",
       "      <td>6.55</td>\n",
       "      <td>1.0</td>\n",
       "      <td>78.25</td>\n",
       "      <td>2.5</td>\n",
       "      <td>1.75</td>\n",
       "    </tr>\n",
       "    <tr>\n",
       "      <th>174968</th>\n",
       "      <td>1</td>\n",
       "      <td>2023-06-30 15:03:16</td>\n",
       "      <td>2023-06-30 15:20:22</td>\n",
       "      <td>1.0</td>\n",
       "      <td>0.91</td>\n",
       "      <td>1.0</td>\n",
       "      <td>N</td>\n",
       "      <td>25</td>\n",
       "      <td>200</td>\n",
       "      <td>Credit Card</td>\n",
       "      <td>0.00</td>\n",
       "      <td>3.157564</td>\n",
       "      <td>0.00</td>\n",
       "      <td>1.0</td>\n",
       "      <td>13.90</td>\n",
       "      <td>2.5</td>\n",
       "      <td>0.00</td>\n",
       "    </tr>\n",
       "    <tr>\n",
       "      <th>174969</th>\n",
       "      <td>1</td>\n",
       "      <td>2023-06-30 20:52:35</td>\n",
       "      <td>2023-06-30 20:04:40</td>\n",
       "      <td>2.0</td>\n",
       "      <td>2.66</td>\n",
       "      <td>1.0</td>\n",
       "      <td>N</td>\n",
       "      <td>176</td>\n",
       "      <td>177</td>\n",
       "      <td>Credit Card</td>\n",
       "      <td>2.50</td>\n",
       "      <td>7.361504</td>\n",
       "      <td>0.00</td>\n",
       "      <td>1.0</td>\n",
       "      <td>27.36</td>\n",
       "      <td>2.5</td>\n",
       "      <td>0.00</td>\n",
       "    </tr>\n",
       "    <tr>\n",
       "      <th>174970</th>\n",
       "      <td>1</td>\n",
       "      <td>2023-06-29 19:22:44</td>\n",
       "      <td>2023-06-29 20:32:30</td>\n",
       "      <td>1.0</td>\n",
       "      <td>2.52</td>\n",
       "      <td>1.0</td>\n",
       "      <td>N</td>\n",
       "      <td>237</td>\n",
       "      <td>29</td>\n",
       "      <td>Credit Card</td>\n",
       "      <td>2.50</td>\n",
       "      <td>6.699285</td>\n",
       "      <td>0.00</td>\n",
       "      <td>1.0</td>\n",
       "      <td>25.09</td>\n",
       "      <td>2.5</td>\n",
       "      <td>0.00</td>\n",
       "    </tr>\n",
       "    <tr>\n",
       "      <th>174971</th>\n",
       "      <td>1</td>\n",
       "      <td>2023-06-29 09:10:11</td>\n",
       "      <td>2023-06-29 09:35:44</td>\n",
       "      <td>3.0</td>\n",
       "      <td>1.80</td>\n",
       "      <td>1.0</td>\n",
       "      <td>N</td>\n",
       "      <td>145</td>\n",
       "      <td>87</td>\n",
       "      <td>Cash</td>\n",
       "      <td>0.00</td>\n",
       "      <td>1.146634</td>\n",
       "      <td>0.00</td>\n",
       "      <td>1.0</td>\n",
       "      <td>27.70</td>\n",
       "      <td>2.5</td>\n",
       "      <td>0.00</td>\n",
       "    </tr>\n",
       "    <tr>\n",
       "      <th>174972</th>\n",
       "      <td>1</td>\n",
       "      <td>2023-06-30 22:26:20</td>\n",
       "      <td>2023-06-30 21:29:19</td>\n",
       "      <td>1.0</td>\n",
       "      <td>2.81</td>\n",
       "      <td>1.0</td>\n",
       "      <td>N</td>\n",
       "      <td>186</td>\n",
       "      <td>121</td>\n",
       "      <td>Credit Card</td>\n",
       "      <td>1.00</td>\n",
       "      <td>4.883171</td>\n",
       "      <td>0.00</td>\n",
       "      <td>1.0</td>\n",
       "      <td>24.00</td>\n",
       "      <td>2.5</td>\n",
       "      <td>0.00</td>\n",
       "    </tr>\n",
       "    <tr>\n",
       "      <th>174973</th>\n",
       "      <td>1</td>\n",
       "      <td>2023-06-30 22:25:12</td>\n",
       "      <td>2023-06-30 23:09:48</td>\n",
       "      <td>1.0</td>\n",
       "      <td>1.07</td>\n",
       "      <td>1.0</td>\n",
       "      <td>N</td>\n",
       "      <td>227</td>\n",
       "      <td>66</td>\n",
       "      <td>Credit Card</td>\n",
       "      <td>1.00</td>\n",
       "      <td>5.842724</td>\n",
       "      <td>0.00</td>\n",
       "      <td>1.0</td>\n",
       "      <td>16.32</td>\n",
       "      <td>2.5</td>\n",
       "      <td>0.00</td>\n",
       "    </tr>\n",
       "    <tr>\n",
       "      <th>174974</th>\n",
       "      <td>1</td>\n",
       "      <td>2023-06-30 07:07:25</td>\n",
       "      <td>2023-06-30 06:41:18</td>\n",
       "      <td>1.0</td>\n",
       "      <td>1.87</td>\n",
       "      <td>1.0</td>\n",
       "      <td>N</td>\n",
       "      <td>156</td>\n",
       "      <td>65</td>\n",
       "      <td>Credit Card</td>\n",
       "      <td>0.00</td>\n",
       "      <td>3.473991</td>\n",
       "      <td>0.00</td>\n",
       "      <td>1.0</td>\n",
       "      <td>19.32</td>\n",
       "      <td>2.5</td>\n",
       "      <td>0.00</td>\n",
       "    </tr>\n",
       "    <tr>\n",
       "      <th>174975</th>\n",
       "      <td>1</td>\n",
       "      <td>2023-06-29 00:47:31</td>\n",
       "      <td>2023-06-29 00:30:57</td>\n",
       "      <td>1.0</td>\n",
       "      <td>1.52</td>\n",
       "      <td>1.0</td>\n",
       "      <td>N</td>\n",
       "      <td>96</td>\n",
       "      <td>253</td>\n",
       "      <td>Credit Card</td>\n",
       "      <td>1.00</td>\n",
       "      <td>4.402858</td>\n",
       "      <td>0.00</td>\n",
       "      <td>1.0</td>\n",
       "      <td>17.16</td>\n",
       "      <td>2.5</td>\n",
       "      <td>0.00</td>\n",
       "    </tr>\n",
       "    <tr>\n",
       "      <th>174976</th>\n",
       "      <td>1</td>\n",
       "      <td>2023-06-29 12:49:06</td>\n",
       "      <td>2023-06-29 12:48:53</td>\n",
       "      <td>1.0</td>\n",
       "      <td>0.91</td>\n",
       "      <td>1.0</td>\n",
       "      <td>N</td>\n",
       "      <td>84</td>\n",
       "      <td>220</td>\n",
       "      <td>Credit Card</td>\n",
       "      <td>0.00</td>\n",
       "      <td>3.165693</td>\n",
       "      <td>0.00</td>\n",
       "      <td>1.0</td>\n",
       "      <td>20.90</td>\n",
       "      <td>2.5</td>\n",
       "      <td>0.00</td>\n",
       "    </tr>\n",
       "    <tr>\n",
       "      <th>174977</th>\n",
       "      <td>1</td>\n",
       "      <td>2023-06-29 22:58:30</td>\n",
       "      <td>2023-06-29 23:48:22</td>\n",
       "      <td>1.0</td>\n",
       "      <td>1.23</td>\n",
       "      <td>1.0</td>\n",
       "      <td>N</td>\n",
       "      <td>24</td>\n",
       "      <td>76</td>\n",
       "      <td>Credit Card</td>\n",
       "      <td>1.00</td>\n",
       "      <td>7.294986</td>\n",
       "      <td>0.00</td>\n",
       "      <td>1.0</td>\n",
       "      <td>19.68</td>\n",
       "      <td>2.5</td>\n",
       "      <td>0.00</td>\n",
       "    </tr>\n",
       "    <tr>\n",
       "      <th>174978</th>\n",
       "      <td>0</td>\n",
       "      <td>2023-06-30 01:39:17</td>\n",
       "      <td>2023-06-30 01:31:08</td>\n",
       "      <td>3.0</td>\n",
       "      <td>1.50</td>\n",
       "      <td>1.0</td>\n",
       "      <td>N</td>\n",
       "      <td>221</td>\n",
       "      <td>127</td>\n",
       "      <td>Cash</td>\n",
       "      <td>3.50</td>\n",
       "      <td>3.220076</td>\n",
       "      <td>0.00</td>\n",
       "      <td>1.0</td>\n",
       "      <td>15.00</td>\n",
       "      <td>2.5</td>\n",
       "      <td>0.00</td>\n",
       "    </tr>\n",
       "    <tr>\n",
       "      <th>174979</th>\n",
       "      <td>0</td>\n",
       "      <td>2023-06-29 23:36:06</td>\n",
       "      <td>2023-06-30 00:24:30</td>\n",
       "      <td>1.0</td>\n",
       "      <td>7.60</td>\n",
       "      <td>1.0</td>\n",
       "      <td>N</td>\n",
       "      <td>181</td>\n",
       "      <td>46</td>\n",
       "      <td>Credit Card</td>\n",
       "      <td>10.25</td>\n",
       "      <td>11.221238</td>\n",
       "      <td>6.55</td>\n",
       "      <td>1.0</td>\n",
       "      <td>58.30</td>\n",
       "      <td>2.5</td>\n",
       "      <td>1.75</td>\n",
       "    </tr>\n",
       "    <tr>\n",
       "      <th>174980</th>\n",
       "      <td>1</td>\n",
       "      <td>2023-06-30 17:48:25</td>\n",
       "      <td>2023-06-30 19:05:33</td>\n",
       "      <td>1.0</td>\n",
       "      <td>2.99</td>\n",
       "      <td>1.0</td>\n",
       "      <td>N</td>\n",
       "      <td>151</td>\n",
       "      <td>37</td>\n",
       "      <td>Credit Card</td>\n",
       "      <td>2.50</td>\n",
       "      <td>10.157970</td>\n",
       "      <td>0.00</td>\n",
       "      <td>1.0</td>\n",
       "      <td>32.40</td>\n",
       "      <td>2.5</td>\n",
       "      <td>0.00</td>\n",
       "    </tr>\n",
       "    <tr>\n",
       "      <th>174981</th>\n",
       "      <td>1</td>\n",
       "      <td>2023-06-29 21:09:44</td>\n",
       "      <td>2023-06-29 22:45:10</td>\n",
       "      <td>1.0</td>\n",
       "      <td>17.10</td>\n",
       "      <td>2.0</td>\n",
       "      <td>N</td>\n",
       "      <td>57</td>\n",
       "      <td>193</td>\n",
       "      <td>Cash</td>\n",
       "      <td>0.00</td>\n",
       "      <td>4.632879</td>\n",
       "      <td>6.55</td>\n",
       "      <td>1.0</td>\n",
       "      <td>82.30</td>\n",
       "      <td>2.5</td>\n",
       "      <td>1.75</td>\n",
       "    </tr>\n",
       "    <tr>\n",
       "      <th>174982</th>\n",
       "      <td>0</td>\n",
       "      <td>2023-06-29 10:55:35</td>\n",
       "      <td>2023-06-29 12:27:31</td>\n",
       "      <td>1.0</td>\n",
       "      <td>1.60</td>\n",
       "      <td>1.0</td>\n",
       "      <td>N</td>\n",
       "      <td>16</td>\n",
       "      <td>164</td>\n",
       "      <td>Credit Card</td>\n",
       "      <td>2.50</td>\n",
       "      <td>0.218549</td>\n",
       "      <td>0.00</td>\n",
       "      <td>1.0</td>\n",
       "      <td>29.40</td>\n",
       "      <td>2.5</td>\n",
       "      <td>0.00</td>\n",
       "    </tr>\n",
       "    <tr>\n",
       "      <th>174983</th>\n",
       "      <td>1</td>\n",
       "      <td>2023-06-30 21:57:30</td>\n",
       "      <td>2023-06-30 20:55:40</td>\n",
       "      <td>NaN</td>\n",
       "      <td>4.22</td>\n",
       "      <td>NaN</td>\n",
       "      <td>NaN</td>\n",
       "      <td>193</td>\n",
       "      <td>108</td>\n",
       "      <td>Wallet</td>\n",
       "      <td>0.00</td>\n",
       "      <td>9.141031</td>\n",
       "      <td>0.00</td>\n",
       "      <td>1.0</td>\n",
       "      <td>34.19</td>\n",
       "      <td>NaN</td>\n",
       "      <td>NaN</td>\n",
       "    </tr>\n",
       "    <tr>\n",
       "      <th>174984</th>\n",
       "      <td>1</td>\n",
       "      <td>2023-06-28 19:02:14</td>\n",
       "      <td>2023-06-28 19:23:49</td>\n",
       "      <td>2.0</td>\n",
       "      <td>2.69</td>\n",
       "      <td>1.0</td>\n",
       "      <td>N</td>\n",
       "      <td>100</td>\n",
       "      <td>225</td>\n",
       "      <td>Cash</td>\n",
       "      <td>2.50</td>\n",
       "      <td>4.681097</td>\n",
       "      <td>0.00</td>\n",
       "      <td>1.0</td>\n",
       "      <td>24.20</td>\n",
       "      <td>2.5</td>\n",
       "      <td>0.00</td>\n",
       "    </tr>\n",
       "    <tr>\n",
       "      <th>174985</th>\n",
       "      <td>1</td>\n",
       "      <td>2023-06-30 08:12:28</td>\n",
       "      <td>2023-06-30 08:36:47</td>\n",
       "      <td>NaN</td>\n",
       "      <td>2.51</td>\n",
       "      <td>NaN</td>\n",
       "      <td>NaN</td>\n",
       "      <td>97</td>\n",
       "      <td>17</td>\n",
       "      <td>Wallet</td>\n",
       "      <td>0.00</td>\n",
       "      <td>4.679583</td>\n",
       "      <td>0.00</td>\n",
       "      <td>1.0</td>\n",
       "      <td>23.44</td>\n",
       "      <td>NaN</td>\n",
       "      <td>NaN</td>\n",
       "    </tr>\n",
       "    <tr>\n",
       "      <th>174986</th>\n",
       "      <td>1</td>\n",
       "      <td>2023-06-29 22:23:35</td>\n",
       "      <td>2023-06-29 22:36:11</td>\n",
       "      <td>NaN</td>\n",
       "      <td>8.85</td>\n",
       "      <td>NaN</td>\n",
       "      <td>NaN</td>\n",
       "      <td>115</td>\n",
       "      <td>143</td>\n",
       "      <td>Wallet</td>\n",
       "      <td>0.00</td>\n",
       "      <td>2.647932</td>\n",
       "      <td>6.55</td>\n",
       "      <td>1.0</td>\n",
       "      <td>70.98</td>\n",
       "      <td>NaN</td>\n",
       "      <td>NaN</td>\n",
       "    </tr>\n",
       "    <tr>\n",
       "      <th>174987</th>\n",
       "      <td>1</td>\n",
       "      <td>2023-06-30 15:22:23</td>\n",
       "      <td>2023-06-30 15:46:39</td>\n",
       "      <td>1.0</td>\n",
       "      <td>1.25</td>\n",
       "      <td>1.0</td>\n",
       "      <td>N</td>\n",
       "      <td>10</td>\n",
       "      <td>225</td>\n",
       "      <td>Cash</td>\n",
       "      <td>0.00</td>\n",
       "      <td>0.057138</td>\n",
       "      <td>0.00</td>\n",
       "      <td>1.0</td>\n",
       "      <td>14.00</td>\n",
       "      <td>2.5</td>\n",
       "      <td>0.00</td>\n",
       "    </tr>\n",
       "    <tr>\n",
       "      <th>174988</th>\n",
       "      <td>0</td>\n",
       "      <td>2023-06-29 11:57:27</td>\n",
       "      <td>2023-06-29 12:16:25</td>\n",
       "      <td>4.0</td>\n",
       "      <td>3.40</td>\n",
       "      <td>1.0</td>\n",
       "      <td>N</td>\n",
       "      <td>263</td>\n",
       "      <td>121</td>\n",
       "      <td>Cash</td>\n",
       "      <td>2.50</td>\n",
       "      <td>4.797708</td>\n",
       "      <td>0.00</td>\n",
       "      <td>1.0</td>\n",
       "      <td>28.70</td>\n",
       "      <td>2.5</td>\n",
       "      <td>0.00</td>\n",
       "    </tr>\n",
       "    <tr>\n",
       "      <th>174989</th>\n",
       "      <td>1</td>\n",
       "      <td>2023-06-29 17:47:15</td>\n",
       "      <td>2023-06-29 19:38:07</td>\n",
       "      <td>2.0</td>\n",
       "      <td>2.47</td>\n",
       "      <td>1.0</td>\n",
       "      <td>N</td>\n",
       "      <td>167</td>\n",
       "      <td>170</td>\n",
       "      <td>Credit Card</td>\n",
       "      <td>2.50</td>\n",
       "      <td>7.028377</td>\n",
       "      <td>0.00</td>\n",
       "      <td>1.0</td>\n",
       "      <td>34.08</td>\n",
       "      <td>2.5</td>\n",
       "      <td>0.00</td>\n",
       "    </tr>\n",
       "    <tr>\n",
       "      <th>174990</th>\n",
       "      <td>1</td>\n",
       "      <td>2023-06-30 21:47:11</td>\n",
       "      <td>2023-06-30 22:39:19</td>\n",
       "      <td>1.0</td>\n",
       "      <td>2.89</td>\n",
       "      <td>1.0</td>\n",
       "      <td>N</td>\n",
       "      <td>122</td>\n",
       "      <td>159</td>\n",
       "      <td>Credit Card</td>\n",
       "      <td>1.00</td>\n",
       "      <td>4.549999</td>\n",
       "      <td>0.00</td>\n",
       "      <td>1.0</td>\n",
       "      <td>27.24</td>\n",
       "      <td>2.5</td>\n",
       "      <td>0.00</td>\n",
       "    </tr>\n",
       "    <tr>\n",
       "      <th>174991</th>\n",
       "      <td>0</td>\n",
       "      <td>2023-06-30 18:21:08</td>\n",
       "      <td>2023-06-30 19:02:20</td>\n",
       "      <td>1.0</td>\n",
       "      <td>1.20</td>\n",
       "      <td>1.0</td>\n",
       "      <td>N</td>\n",
       "      <td>55</td>\n",
       "      <td>115</td>\n",
       "      <td>Credit Card</td>\n",
       "      <td>5.00</td>\n",
       "      <td>5.929246</td>\n",
       "      <td>0.00</td>\n",
       "      <td>1.0</td>\n",
       "      <td>18.10</td>\n",
       "      <td>2.5</td>\n",
       "      <td>0.00</td>\n",
       "    </tr>\n",
       "    <tr>\n",
       "      <th>174992</th>\n",
       "      <td>1</td>\n",
       "      <td>2023-06-29 00:15:57</td>\n",
       "      <td>2023-06-28 23:54:25</td>\n",
       "      <td>2.0</td>\n",
       "      <td>0.37</td>\n",
       "      <td>1.0</td>\n",
       "      <td>N</td>\n",
       "      <td>219</td>\n",
       "      <td>67</td>\n",
       "      <td>Cash</td>\n",
       "      <td>-1.00</td>\n",
       "      <td>1.855890</td>\n",
       "      <td>0.00</td>\n",
       "      <td>-1.0</td>\n",
       "      <td>-10.10</td>\n",
       "      <td>-2.5</td>\n",
       "      <td>0.00</td>\n",
       "    </tr>\n",
       "    <tr>\n",
       "      <th>174993</th>\n",
       "      <td>1</td>\n",
       "      <td>2023-06-29 20:54:29</td>\n",
       "      <td>2023-06-29 21:01:20</td>\n",
       "      <td>1.0</td>\n",
       "      <td>1.91</td>\n",
       "      <td>1.0</td>\n",
       "      <td>N</td>\n",
       "      <td>52</td>\n",
       "      <td>164</td>\n",
       "      <td>Credit Card</td>\n",
       "      <td>1.00</td>\n",
       "      <td>6.522254</td>\n",
       "      <td>0.00</td>\n",
       "      <td>1.0</td>\n",
       "      <td>25.56</td>\n",
       "      <td>2.5</td>\n",
       "      <td>0.00</td>\n",
       "    </tr>\n",
       "    <tr>\n",
       "      <th>174994</th>\n",
       "      <td>0</td>\n",
       "      <td>2023-06-29 14:08:39</td>\n",
       "      <td>2023-06-29 13:42:20</td>\n",
       "      <td>1.0</td>\n",
       "      <td>1.90</td>\n",
       "      <td>1.0</td>\n",
       "      <td>N</td>\n",
       "      <td>95</td>\n",
       "      <td>95</td>\n",
       "      <td>Credit Card</td>\n",
       "      <td>2.50</td>\n",
       "      <td>5.928588</td>\n",
       "      <td>0.00</td>\n",
       "      <td>1.0</td>\n",
       "      <td>20.15</td>\n",
       "      <td>2.5</td>\n",
       "      <td>0.00</td>\n",
       "    </tr>\n",
       "    <tr>\n",
       "      <th>174995</th>\n",
       "      <td>1</td>\n",
       "      <td>2023-06-30 22:50:57</td>\n",
       "      <td>2023-06-30 22:22:22</td>\n",
       "      <td>3.0</td>\n",
       "      <td>3.45</td>\n",
       "      <td>1.0</td>\n",
       "      <td>N</td>\n",
       "      <td>147</td>\n",
       "      <td>167</td>\n",
       "      <td>Credit Card</td>\n",
       "      <td>1.00</td>\n",
       "      <td>8.732495</td>\n",
       "      <td>0.00</td>\n",
       "      <td>1.0</td>\n",
       "      <td>28.08</td>\n",
       "      <td>2.5</td>\n",
       "      <td>0.00</td>\n",
       "    </tr>\n",
       "    <tr>\n",
       "      <th>174996</th>\n",
       "      <td>1</td>\n",
       "      <td>2023-06-30 13:03:33</td>\n",
       "      <td>2023-06-30 14:04:57</td>\n",
       "      <td>1.0</td>\n",
       "      <td>9.44</td>\n",
       "      <td>1.0</td>\n",
       "      <td>N</td>\n",
       "      <td>154</td>\n",
       "      <td>191</td>\n",
       "      <td>Cash</td>\n",
       "      <td>5.00</td>\n",
       "      <td>0.283275</td>\n",
       "      <td>0.00</td>\n",
       "      <td>1.0</td>\n",
       "      <td>59.95</td>\n",
       "      <td>2.5</td>\n",
       "      <td>1.75</td>\n",
       "    </tr>\n",
       "    <tr>\n",
       "      <th>174997</th>\n",
       "      <td>0</td>\n",
       "      <td>2023-06-29 11:03:32</td>\n",
       "      <td>2023-06-29 12:13:34</td>\n",
       "      <td>1.0</td>\n",
       "      <td>2.40</td>\n",
       "      <td>1.0</td>\n",
       "      <td>N</td>\n",
       "      <td>168</td>\n",
       "      <td>106</td>\n",
       "      <td>Credit Card</td>\n",
       "      <td>2.50</td>\n",
       "      <td>4.245354</td>\n",
       "      <td>0.00</td>\n",
       "      <td>1.0</td>\n",
       "      <td>33.50</td>\n",
       "      <td>2.5</td>\n",
       "      <td>0.00</td>\n",
       "    </tr>\n",
       "    <tr>\n",
       "      <th>174998</th>\n",
       "      <td>1</td>\n",
       "      <td>2023-06-29 19:47:17</td>\n",
       "      <td>2023-06-29 19:08:55</td>\n",
       "      <td>1.0</td>\n",
       "      <td>4.71</td>\n",
       "      <td>1.0</td>\n",
       "      <td>N</td>\n",
       "      <td>240</td>\n",
       "      <td>100</td>\n",
       "      <td>Credit Card</td>\n",
       "      <td>2.50</td>\n",
       "      <td>10.479776</td>\n",
       "      <td>0.00</td>\n",
       "      <td>1.0</td>\n",
       "      <td>40.80</td>\n",
       "      <td>2.5</td>\n",
       "      <td>0.00</td>\n",
       "    </tr>\n",
       "    <tr>\n",
       "      <th>174999</th>\n",
       "      <td>1</td>\n",
       "      <td>2023-06-30 21:26:43</td>\n",
       "      <td>2023-06-30 22:54:42</td>\n",
       "      <td>1.0</td>\n",
       "      <td>1.01</td>\n",
       "      <td>1.0</td>\n",
       "      <td>N</td>\n",
       "      <td>153</td>\n",
       "      <td>72</td>\n",
       "      <td>Credit Card</td>\n",
       "      <td>1.00</td>\n",
       "      <td>6.541699</td>\n",
       "      <td>0.00</td>\n",
       "      <td>1.0</td>\n",
       "      <td>16.32</td>\n",
       "      <td>2.5</td>\n",
       "      <td>0.00</td>\n",
       "    </tr>\n",
       "  </tbody>\n",
       "</table>\n",
       "</div>"
      ],
      "text/plain": [
       "        VendorID tpep_pickup_datetime tpep_dropoff_datetime  passenger_count  \\\n",
       "174950         1  2023-06-29 13:58:51   2023-06-29 13:40:29              1.0   \n",
       "174951         0  2023-06-30 15:08:27   2023-06-30 16:08:03              1.0   \n",
       "174952         1  2023-06-28 20:14:34   2023-06-28 19:25:53              1.0   \n",
       "174953         0  2023-06-28 18:53:54   2023-06-28 18:48:24              3.0   \n",
       "174954         1  2023-06-30 18:35:40   2023-06-30 18:30:18              2.0   \n",
       "174955         1  2023-06-29 10:35:11   2023-06-29 11:17:36              2.0   \n",
       "174956         0  2023-06-28 16:08:27   2023-06-28 16:48:06              2.0   \n",
       "174957         1  2023-06-30 08:39:59   2023-06-30 08:41:04              5.0   \n",
       "174958         0  2023-06-30 10:30:57   2023-06-30 11:43:19              1.0   \n",
       "174959         1  2023-06-29 14:50:19   2023-06-29 14:48:27              1.0   \n",
       "174960         0  2023-06-30 20:11:51   2023-06-30 19:45:16              2.0   \n",
       "174961         0  2023-06-29 22:06:33   2023-06-29 21:09:34              1.0   \n",
       "174962         1  2023-06-29 12:49:00   2023-06-29 11:54:48              2.0   \n",
       "174963         0  2023-06-29 22:51:45   2023-06-29 23:09:02              1.0   \n",
       "174964         0  2023-06-29 14:25:55   2023-06-29 13:56:18              1.0   \n",
       "174965         0  2023-06-30 09:43:17   2023-06-30 09:07:14              1.0   \n",
       "174966         0  2023-06-28 18:35:06   2023-06-28 17:25:17              1.0   \n",
       "174967         1  2023-06-29 19:57:56   2023-06-29 20:06:53              1.0   \n",
       "174968         1  2023-06-30 15:03:16   2023-06-30 15:20:22              1.0   \n",
       "174969         1  2023-06-30 20:52:35   2023-06-30 20:04:40              2.0   \n",
       "174970         1  2023-06-29 19:22:44   2023-06-29 20:32:30              1.0   \n",
       "174971         1  2023-06-29 09:10:11   2023-06-29 09:35:44              3.0   \n",
       "174972         1  2023-06-30 22:26:20   2023-06-30 21:29:19              1.0   \n",
       "174973         1  2023-06-30 22:25:12   2023-06-30 23:09:48              1.0   \n",
       "174974         1  2023-06-30 07:07:25   2023-06-30 06:41:18              1.0   \n",
       "174975         1  2023-06-29 00:47:31   2023-06-29 00:30:57              1.0   \n",
       "174976         1  2023-06-29 12:49:06   2023-06-29 12:48:53              1.0   \n",
       "174977         1  2023-06-29 22:58:30   2023-06-29 23:48:22              1.0   \n",
       "174978         0  2023-06-30 01:39:17   2023-06-30 01:31:08              3.0   \n",
       "174979         0  2023-06-29 23:36:06   2023-06-30 00:24:30              1.0   \n",
       "174980         1  2023-06-30 17:48:25   2023-06-30 19:05:33              1.0   \n",
       "174981         1  2023-06-29 21:09:44   2023-06-29 22:45:10              1.0   \n",
       "174982         0  2023-06-29 10:55:35   2023-06-29 12:27:31              1.0   \n",
       "174983         1  2023-06-30 21:57:30   2023-06-30 20:55:40              NaN   \n",
       "174984         1  2023-06-28 19:02:14   2023-06-28 19:23:49              2.0   \n",
       "174985         1  2023-06-30 08:12:28   2023-06-30 08:36:47              NaN   \n",
       "174986         1  2023-06-29 22:23:35   2023-06-29 22:36:11              NaN   \n",
       "174987         1  2023-06-30 15:22:23   2023-06-30 15:46:39              1.0   \n",
       "174988         0  2023-06-29 11:57:27   2023-06-29 12:16:25              4.0   \n",
       "174989         1  2023-06-29 17:47:15   2023-06-29 19:38:07              2.0   \n",
       "174990         1  2023-06-30 21:47:11   2023-06-30 22:39:19              1.0   \n",
       "174991         0  2023-06-30 18:21:08   2023-06-30 19:02:20              1.0   \n",
       "174992         1  2023-06-29 00:15:57   2023-06-28 23:54:25              2.0   \n",
       "174993         1  2023-06-29 20:54:29   2023-06-29 21:01:20              1.0   \n",
       "174994         0  2023-06-29 14:08:39   2023-06-29 13:42:20              1.0   \n",
       "174995         1  2023-06-30 22:50:57   2023-06-30 22:22:22              3.0   \n",
       "174996         1  2023-06-30 13:03:33   2023-06-30 14:04:57              1.0   \n",
       "174997         0  2023-06-29 11:03:32   2023-06-29 12:13:34              1.0   \n",
       "174998         1  2023-06-29 19:47:17   2023-06-29 19:08:55              1.0   \n",
       "174999         1  2023-06-30 21:26:43   2023-06-30 22:54:42              1.0   \n",
       "\n",
       "        trip_distance  RatecodeID store_and_fwd_flag  PULocationID  \\\n",
       "174950          21.73         2.0                  N            21   \n",
       "174951           1.10         1.0                  N           230   \n",
       "174952           3.47         1.0                  N           226   \n",
       "174953          10.80         1.0                  N           113   \n",
       "174954           3.80         1.0                  N            41   \n",
       "174955           0.82         1.0                  N            57   \n",
       "174956           0.50         1.0                  N             6   \n",
       "174957           0.84         1.0                  N           176   \n",
       "174958           1.20         1.0                  N           190   \n",
       "174959           0.08         1.0                  N            37   \n",
       "174960           1.70         1.0                  N            12   \n",
       "174961          12.10         1.0                  N            18   \n",
       "174962           1.76         1.0                  N            92   \n",
       "174963           2.20         1.0                  N            19   \n",
       "174964           0.60         1.0                  N            26   \n",
       "174965           3.40         1.0                  N           171   \n",
       "174966           1.00         1.0                  N           225   \n",
       "174967           9.26         1.0                  N            24   \n",
       "174968           0.91         1.0                  N            25   \n",
       "174969           2.66         1.0                  N           176   \n",
       "174970           2.52         1.0                  N           237   \n",
       "174971           1.80         1.0                  N           145   \n",
       "174972           2.81         1.0                  N           186   \n",
       "174973           1.07         1.0                  N           227   \n",
       "174974           1.87         1.0                  N           156   \n",
       "174975           1.52         1.0                  N            96   \n",
       "174976           0.91         1.0                  N            84   \n",
       "174977           1.23         1.0                  N            24   \n",
       "174978           1.50         1.0                  N           221   \n",
       "174979           7.60         1.0                  N           181   \n",
       "174980           2.99         1.0                  N           151   \n",
       "174981          17.10         2.0                  N            57   \n",
       "174982           1.60         1.0                  N            16   \n",
       "174983           4.22         NaN                NaN           193   \n",
       "174984           2.69         1.0                  N           100   \n",
       "174985           2.51         NaN                NaN            97   \n",
       "174986           8.85         NaN                NaN           115   \n",
       "174987           1.25         1.0                  N            10   \n",
       "174988           3.40         1.0                  N           263   \n",
       "174989           2.47         1.0                  N           167   \n",
       "174990           2.89         1.0                  N           122   \n",
       "174991           1.20         1.0                  N            55   \n",
       "174992           0.37         1.0                  N           219   \n",
       "174993           1.91         1.0                  N            52   \n",
       "174994           1.90         1.0                  N            95   \n",
       "174995           3.45         1.0                  N           147   \n",
       "174996           9.44         1.0                  N           154   \n",
       "174997           2.40         1.0                  N           168   \n",
       "174998           4.71         1.0                  N           240   \n",
       "174999           1.01         1.0                  N           153   \n",
       "\n",
       "        DOLocationID payment_type  extra  tip_amount  tolls_amount  \\\n",
       "174950           214  Credit Card   0.00   17.127568          6.55   \n",
       "174951            61  Credit Card   5.00    6.054478          0.00   \n",
       "174952           157         Cash   2.50    1.315521          0.00   \n",
       "174953            52  Credit Card  11.75   16.639958          6.55   \n",
       "174954           251  Credit Card   2.50    7.123491          0.00   \n",
       "174955            68         Cash   0.00    1.338299          0.00   \n",
       "174956           234  Credit Card   5.00    4.503789          0.00   \n",
       "174957           215  Credit Card   0.00    4.198094          0.00   \n",
       "174958            23         Cash   2.50    3.154668          0.00   \n",
       "174959           209  Credit Card   0.00    5.990373          0.00   \n",
       "174960            30  Credit Card   5.00    2.266740          0.00   \n",
       "174961           157         Cash   3.50    1.122943          6.55   \n",
       "174962            75  Credit Card   0.00    8.868153          0.00   \n",
       "174963             1  Credit Card   3.50    8.616505          0.00   \n",
       "174964           208  Credit Card   2.50    4.058477          0.00   \n",
       "174965           156  Credit Card   2.50    5.303701          0.00   \n",
       "174966           138  Credit Card   5.00    3.454045          0.00   \n",
       "174967           263  Credit Card   6.00   19.220866          6.55   \n",
       "174968           200  Credit Card   0.00    3.157564          0.00   \n",
       "174969           177  Credit Card   2.50    7.361504          0.00   \n",
       "174970            29  Credit Card   2.50    6.699285          0.00   \n",
       "174971            87         Cash   0.00    1.146634          0.00   \n",
       "174972           121  Credit Card   1.00    4.883171          0.00   \n",
       "174973            66  Credit Card   1.00    5.842724          0.00   \n",
       "174974            65  Credit Card   0.00    3.473991          0.00   \n",
       "174975           253  Credit Card   1.00    4.402858          0.00   \n",
       "174976           220  Credit Card   0.00    3.165693          0.00   \n",
       "174977            76  Credit Card   1.00    7.294986          0.00   \n",
       "174978           127         Cash   3.50    3.220076          0.00   \n",
       "174979            46  Credit Card  10.25   11.221238          6.55   \n",
       "174980            37  Credit Card   2.50   10.157970          0.00   \n",
       "174981           193         Cash   0.00    4.632879          6.55   \n",
       "174982           164  Credit Card   2.50    0.218549          0.00   \n",
       "174983           108       Wallet   0.00    9.141031          0.00   \n",
       "174984           225         Cash   2.50    4.681097          0.00   \n",
       "174985            17       Wallet   0.00    4.679583          0.00   \n",
       "174986           143       Wallet   0.00    2.647932          6.55   \n",
       "174987           225         Cash   0.00    0.057138          0.00   \n",
       "174988           121         Cash   2.50    4.797708          0.00   \n",
       "174989           170  Credit Card   2.50    7.028377          0.00   \n",
       "174990           159  Credit Card   1.00    4.549999          0.00   \n",
       "174991           115  Credit Card   5.00    5.929246          0.00   \n",
       "174992            67         Cash  -1.00    1.855890          0.00   \n",
       "174993           164  Credit Card   1.00    6.522254          0.00   \n",
       "174994            95  Credit Card   2.50    5.928588          0.00   \n",
       "174995           167  Credit Card   1.00    8.732495          0.00   \n",
       "174996           191         Cash   5.00    0.283275          0.00   \n",
       "174997           106  Credit Card   2.50    4.245354          0.00   \n",
       "174998           100  Credit Card   2.50   10.479776          0.00   \n",
       "174999            72  Credit Card   1.00    6.541699          0.00   \n",
       "\n",
       "        improvement_surcharge  total_amount  congestion_surcharge  Airport_fee  \n",
       "174950                    1.0         98.76                   2.5         1.75  \n",
       "174951                    1.0         18.10                   2.5         0.00  \n",
       "174952                    1.0         27.00                   2.5         0.00  \n",
       "174953                    1.0         76.05                   2.5         1.75  \n",
       "174954                    1.0         34.92                   2.5         0.00  \n",
       "174955                    1.0         10.50                   2.5         0.00  \n",
       "174956                    1.0         15.00                   2.5         0.00  \n",
       "174957                    1.0         13.80                   0.0         0.00  \n",
       "174958                    1.0         13.30                   2.5         0.00  \n",
       "174959                    1.0         10.10                   2.5         0.00  \n",
       "174960                    1.0         23.80                   2.5         0.00  \n",
       "174961                    1.0         64.95                   2.5         0.00  \n",
       "174962                    1.0         23.52                   2.5         0.00  \n",
       "174963                    1.0         24.95                   2.5         0.00  \n",
       "174964                    1.0         20.16                   2.5         0.00  \n",
       "174965                    1.0         23.87                   2.5         0.00  \n",
       "174966                    1.0         18.95                   2.5         0.00  \n",
       "174967                    1.0         78.25                   2.5         1.75  \n",
       "174968                    1.0         13.90                   2.5         0.00  \n",
       "174969                    1.0         27.36                   2.5         0.00  \n",
       "174970                    1.0         25.09                   2.5         0.00  \n",
       "174971                    1.0         27.70                   2.5         0.00  \n",
       "174972                    1.0         24.00                   2.5         0.00  \n",
       "174973                    1.0         16.32                   2.5         0.00  \n",
       "174974                    1.0         19.32                   2.5         0.00  \n",
       "174975                    1.0         17.16                   2.5         0.00  \n",
       "174976                    1.0         20.90                   2.5         0.00  \n",
       "174977                    1.0         19.68                   2.5         0.00  \n",
       "174978                    1.0         15.00                   2.5         0.00  \n",
       "174979                    1.0         58.30                   2.5         1.75  \n",
       "174980                    1.0         32.40                   2.5         0.00  \n",
       "174981                    1.0         82.30                   2.5         1.75  \n",
       "174982                    1.0         29.40                   2.5         0.00  \n",
       "174983                    1.0         34.19                   NaN          NaN  \n",
       "174984                    1.0         24.20                   2.5         0.00  \n",
       "174985                    1.0         23.44                   NaN          NaN  \n",
       "174986                    1.0         70.98                   NaN          NaN  \n",
       "174987                    1.0         14.00                   2.5         0.00  \n",
       "174988                    1.0         28.70                   2.5         0.00  \n",
       "174989                    1.0         34.08                   2.5         0.00  \n",
       "174990                    1.0         27.24                   2.5         0.00  \n",
       "174991                    1.0         18.10                   2.5         0.00  \n",
       "174992                   -1.0        -10.10                  -2.5         0.00  \n",
       "174993                    1.0         25.56                   2.5         0.00  \n",
       "174994                    1.0         20.15                   2.5         0.00  \n",
       "174995                    1.0         28.08                   2.5         0.00  \n",
       "174996                    1.0         59.95                   2.5         1.75  \n",
       "174997                    1.0         33.50                   2.5         0.00  \n",
       "174998                    1.0         40.80                   2.5         0.00  \n",
       "174999                    1.0         16.32                   2.5         0.00  "
      ]
     },
     "execution_count": 4,
     "metadata": {},
     "output_type": "execute_result"
    }
   ],
   "source": [
    "taxi_data.tail(50)"
   ]
  },
  {
   "cell_type": "markdown",
   "id": "d3635247",
   "metadata": {
    "papermill": {
     "duration": 0.038853,
     "end_time": "2023-11-26T09:17:03.657787",
     "exception": false,
     "start_time": "2023-11-26T09:17:03.618934",
     "status": "completed"
    },
    "tags": []
   },
   "source": [
    "# Data Understanding"
   ]
  },
  {
   "cell_type": "code",
   "execution_count": 5,
   "id": "d9c1592d",
   "metadata": {
    "execution": {
     "iopub.execute_input": "2023-11-26T09:17:03.736518Z",
     "iopub.status.busy": "2023-11-26T09:17:03.736079Z",
     "iopub.status.idle": "2023-11-26T09:17:03.743738Z",
     "shell.execute_reply": "2023-11-26T09:17:03.742663Z"
    },
    "papermill": {
     "duration": 0.05006,
     "end_time": "2023-11-26T09:17:03.746113",
     "exception": false,
     "start_time": "2023-11-26T09:17:03.696053",
     "status": "completed"
    },
    "tags": []
   },
   "outputs": [
    {
     "data": {
      "text/plain": [
       "(175000, 17)"
      ]
     },
     "execution_count": 5,
     "metadata": {},
     "output_type": "execute_result"
    }
   ],
   "source": [
    "taxi_data.shape"
   ]
  },
  {
   "cell_type": "code",
   "execution_count": 6,
   "id": "34cb0a33",
   "metadata": {
    "execution": {
     "iopub.execute_input": "2023-11-26T09:17:03.828213Z",
     "iopub.status.busy": "2023-11-26T09:17:03.827824Z",
     "iopub.status.idle": "2023-11-26T09:17:03.837207Z",
     "shell.execute_reply": "2023-11-26T09:17:03.835995Z"
    },
    "papermill": {
     "duration": 0.054798,
     "end_time": "2023-11-26T09:17:03.839789",
     "exception": false,
     "start_time": "2023-11-26T09:17:03.784991",
     "status": "completed"
    },
    "tags": []
   },
   "outputs": [
    {
     "data": {
      "text/plain": [
       "VendorID                   int64\n",
       "tpep_pickup_datetime      object\n",
       "tpep_dropoff_datetime     object\n",
       "passenger_count          float64\n",
       "trip_distance            float64\n",
       "RatecodeID               float64\n",
       "store_and_fwd_flag        object\n",
       "PULocationID               int64\n",
       "DOLocationID               int64\n",
       "payment_type              object\n",
       "extra                    float64\n",
       "tip_amount               float64\n",
       "tolls_amount             float64\n",
       "improvement_surcharge    float64\n",
       "total_amount             float64\n",
       "congestion_surcharge     float64\n",
       "Airport_fee              float64\n",
       "dtype: object"
      ]
     },
     "execution_count": 6,
     "metadata": {},
     "output_type": "execute_result"
    }
   ],
   "source": [
    "taxi_data.dtypes"
   ]
  },
  {
   "cell_type": "code",
   "execution_count": 7,
   "id": "2aca6500",
   "metadata": {
    "execution": {
     "iopub.execute_input": "2023-11-26T09:17:03.922228Z",
     "iopub.status.busy": "2023-11-26T09:17:03.921771Z",
     "iopub.status.idle": "2023-11-26T09:17:04.007611Z",
     "shell.execute_reply": "2023-11-26T09:17:04.006276Z"
    },
    "papermill": {
     "duration": 0.131083,
     "end_time": "2023-11-26T09:17:04.010674",
     "exception": false,
     "start_time": "2023-11-26T09:17:03.879591",
     "status": "completed"
    },
    "tags": []
   },
   "outputs": [
    {
     "data": {
      "text/plain": [
       "VendorID                    0\n",
       "tpep_pickup_datetime        0\n",
       "tpep_dropoff_datetime       0\n",
       "passenger_count          6077\n",
       "trip_distance               0\n",
       "RatecodeID               6077\n",
       "store_and_fwd_flag       6077\n",
       "PULocationID                0\n",
       "DOLocationID                0\n",
       "payment_type                0\n",
       "extra                       0\n",
       "tip_amount                  0\n",
       "tolls_amount                0\n",
       "improvement_surcharge       0\n",
       "total_amount                0\n",
       "congestion_surcharge     6077\n",
       "Airport_fee              6077\n",
       "dtype: int64"
      ]
     },
     "execution_count": 7,
     "metadata": {},
     "output_type": "execute_result"
    }
   ],
   "source": [
    "taxi_data.isna().sum()\n"
   ]
  },
  {
   "cell_type": "code",
   "execution_count": 8,
   "id": "78d0104f",
   "metadata": {
    "execution": {
     "iopub.execute_input": "2023-11-26T09:17:04.090768Z",
     "iopub.status.busy": "2023-11-26T09:17:04.090356Z",
     "iopub.status.idle": "2023-11-26T09:17:04.110762Z",
     "shell.execute_reply": "2023-11-26T09:17:04.109103Z"
    },
    "papermill": {
     "duration": 0.064048,
     "end_time": "2023-11-26T09:17:04.114092",
     "exception": false,
     "start_time": "2023-11-26T09:17:04.050044",
     "status": "completed"
    },
    "tags": []
   },
   "outputs": [
    {
     "data": {
      "text/plain": [
       "RatecodeID\n",
       "1.0     158652\n",
       "2.0       7314\n",
       "5.0       1036\n",
       "99.0       748\n",
       "3.0        727\n",
       "4.0        446\n",
       "Name: count, dtype: int64"
      ]
     },
     "execution_count": 8,
     "metadata": {},
     "output_type": "execute_result"
    }
   ],
   "source": [
    "taxi_data['RatecodeID'].value_counts()"
   ]
  },
  {
   "cell_type": "code",
   "execution_count": 9,
   "id": "098ba193",
   "metadata": {
    "execution": {
     "iopub.execute_input": "2023-11-26T09:17:04.196355Z",
     "iopub.status.busy": "2023-11-26T09:17:04.195866Z",
     "iopub.status.idle": "2023-11-26T09:17:04.228669Z",
     "shell.execute_reply": "2023-11-26T09:17:04.227484Z"
    },
    "papermill": {
     "duration": 0.076915,
     "end_time": "2023-11-26T09:17:04.231378",
     "exception": false,
     "start_time": "2023-11-26T09:17:04.154463",
     "status": "completed"
    },
    "tags": []
   },
   "outputs": [
    {
     "data": {
      "text/plain": [
       "store_and_fwd_flag\n",
       "N    167729\n",
       "Y      1194\n",
       "Name: count, dtype: int64"
      ]
     },
     "execution_count": 9,
     "metadata": {},
     "output_type": "execute_result"
    }
   ],
   "source": [
    "taxi_data['store_and_fwd_flag'].value_counts()"
   ]
  },
  {
   "cell_type": "code",
   "execution_count": 10,
   "id": "75a547b4",
   "metadata": {
    "execution": {
     "iopub.execute_input": "2023-11-26T09:17:04.313941Z",
     "iopub.status.busy": "2023-11-26T09:17:04.313552Z",
     "iopub.status.idle": "2023-11-26T09:17:04.352377Z",
     "shell.execute_reply": "2023-11-26T09:17:04.351191Z"
    },
    "papermill": {
     "duration": 0.084088,
     "end_time": "2023-11-26T09:17:04.355033",
     "exception": false,
     "start_time": "2023-11-26T09:17:04.270945",
     "status": "completed"
    },
    "tags": []
   },
   "outputs": [
    {
     "data": {
      "text/plain": [
       "payment_type\n",
       "Credit Card    135257\n",
       "Cash            30141\n",
       "Wallet           6077\n",
       "unknown          2333\n",
       "UPI              1192\n",
       "Name: count, dtype: int64"
      ]
     },
     "execution_count": 10,
     "metadata": {},
     "output_type": "execute_result"
    }
   ],
   "source": [
    "taxi_data['payment_type'].value_counts()"
   ]
  },
  {
   "cell_type": "code",
   "execution_count": 11,
   "id": "0fd23ca7",
   "metadata": {
    "execution": {
     "iopub.execute_input": "2023-11-26T09:17:04.439501Z",
     "iopub.status.busy": "2023-11-26T09:17:04.439049Z",
     "iopub.status.idle": "2023-11-26T09:17:04.452225Z",
     "shell.execute_reply": "2023-11-26T09:17:04.450907Z"
    },
    "papermill": {
     "duration": 0.058813,
     "end_time": "2023-11-26T09:17:04.454759",
     "exception": false,
     "start_time": "2023-11-26T09:17:04.395946",
     "status": "completed"
    },
    "tags": []
   },
   "outputs": [
    {
     "data": {
      "text/plain": [
       "VendorID\n",
       "1    127340\n",
       "0     47597\n",
       "2        63\n",
       "Name: count, dtype: int64"
      ]
     },
     "execution_count": 11,
     "metadata": {},
     "output_type": "execute_result"
    }
   ],
   "source": [
    "taxi_data['VendorID'].value_counts()"
   ]
  },
  {
   "cell_type": "code",
   "execution_count": 12,
   "id": "d400fa22",
   "metadata": {
    "execution": {
     "iopub.execute_input": "2023-11-26T09:17:04.536756Z",
     "iopub.status.busy": "2023-11-26T09:17:04.536060Z",
     "iopub.status.idle": "2023-11-26T09:17:04.548442Z",
     "shell.execute_reply": "2023-11-26T09:17:04.547387Z"
    },
    "papermill": {
     "duration": 0.056425,
     "end_time": "2023-11-26T09:17:04.550966",
     "exception": false,
     "start_time": "2023-11-26T09:17:04.494541",
     "status": "completed"
    },
    "tags": []
   },
   "outputs": [
    {
     "data": {
      "text/plain": [
       "passenger_count\n",
       "1.0    128534\n",
       "2.0     24316\n",
       "3.0      6018\n",
       "4.0      3668\n",
       "0.0      2818\n",
       "5.0      1970\n",
       "6.0      1596\n",
       "8.0         2\n",
       "9.0         1\n",
       "Name: count, dtype: int64"
      ]
     },
     "execution_count": 12,
     "metadata": {},
     "output_type": "execute_result"
    }
   ],
   "source": [
    "taxi_data['passenger_count'].value_counts()"
   ]
  },
  {
   "cell_type": "code",
   "execution_count": 13,
   "id": "633b3b8c",
   "metadata": {
    "execution": {
     "iopub.execute_input": "2023-11-26T09:17:04.635643Z",
     "iopub.status.busy": "2023-11-26T09:17:04.634471Z",
     "iopub.status.idle": "2023-11-26T09:17:04.732331Z",
     "shell.execute_reply": "2023-11-26T09:17:04.731412Z"
    },
    "papermill": {
     "duration": 0.142969,
     "end_time": "2023-11-26T09:17:04.735033",
     "exception": false,
     "start_time": "2023-11-26T09:17:04.592064",
     "status": "completed"
    },
    "tags": []
   },
   "outputs": [
    {
     "name": "stdout",
     "output_type": "stream",
     "text": [
      "<class 'pandas.core.frame.DataFrame'>\n",
      "RangeIndex: 175000 entries, 0 to 174999\n",
      "Data columns (total 17 columns):\n",
      " #   Column                 Non-Null Count   Dtype  \n",
      "---  ------                 --------------   -----  \n",
      " 0   VendorID               175000 non-null  int64  \n",
      " 1   tpep_pickup_datetime   175000 non-null  object \n",
      " 2   tpep_dropoff_datetime  175000 non-null  object \n",
      " 3   passenger_count        168923 non-null  float64\n",
      " 4   trip_distance          175000 non-null  float64\n",
      " 5   RatecodeID             168923 non-null  float64\n",
      " 6   store_and_fwd_flag     168923 non-null  object \n",
      " 7   PULocationID           175000 non-null  int64  \n",
      " 8   DOLocationID           175000 non-null  int64  \n",
      " 9   payment_type           175000 non-null  object \n",
      " 10  extra                  175000 non-null  float64\n",
      " 11  tip_amount             175000 non-null  float64\n",
      " 12  tolls_amount           175000 non-null  float64\n",
      " 13  improvement_surcharge  175000 non-null  float64\n",
      " 14  total_amount           175000 non-null  float64\n",
      " 15  congestion_surcharge   168923 non-null  float64\n",
      " 16  Airport_fee            168923 non-null  float64\n",
      "dtypes: float64(10), int64(3), object(4)\n",
      "memory usage: 22.7+ MB\n"
     ]
    }
   ],
   "source": [
    "taxi_data.info()"
   ]
  },
  {
   "cell_type": "code",
   "execution_count": 14,
   "id": "c37caa56",
   "metadata": {
    "execution": {
     "iopub.execute_input": "2023-11-26T09:17:04.817033Z",
     "iopub.status.busy": "2023-11-26T09:17:04.816278Z",
     "iopub.status.idle": "2023-11-26T09:17:04.966636Z",
     "shell.execute_reply": "2023-11-26T09:17:04.965129Z"
    },
    "papermill": {
     "duration": 0.194416,
     "end_time": "2023-11-26T09:17:04.969309",
     "exception": false,
     "start_time": "2023-11-26T09:17:04.774893",
     "status": "completed"
    },
    "tags": []
   },
   "outputs": [
    {
     "data": {
      "text/html": [
       "<div>\n",
       "<style scoped>\n",
       "    .dataframe tbody tr th:only-of-type {\n",
       "        vertical-align: middle;\n",
       "    }\n",
       "\n",
       "    .dataframe tbody tr th {\n",
       "        vertical-align: top;\n",
       "    }\n",
       "\n",
       "    .dataframe thead th {\n",
       "        text-align: right;\n",
       "    }\n",
       "</style>\n",
       "<table border=\"1\" class=\"dataframe\">\n",
       "  <thead>\n",
       "    <tr style=\"text-align: right;\">\n",
       "      <th></th>\n",
       "      <th>VendorID</th>\n",
       "      <th>passenger_count</th>\n",
       "      <th>trip_distance</th>\n",
       "      <th>RatecodeID</th>\n",
       "      <th>PULocationID</th>\n",
       "      <th>DOLocationID</th>\n",
       "      <th>extra</th>\n",
       "      <th>tip_amount</th>\n",
       "      <th>tolls_amount</th>\n",
       "      <th>improvement_surcharge</th>\n",
       "      <th>total_amount</th>\n",
       "      <th>congestion_surcharge</th>\n",
       "      <th>Airport_fee</th>\n",
       "    </tr>\n",
       "  </thead>\n",
       "  <tbody>\n",
       "    <tr>\n",
       "      <th>count</th>\n",
       "      <td>175000.000000</td>\n",
       "      <td>168923.000000</td>\n",
       "      <td>175000.000000</td>\n",
       "      <td>168923.000000</td>\n",
       "      <td>175000.000000</td>\n",
       "      <td>175000.000000</td>\n",
       "      <td>175000.000000</td>\n",
       "      <td>175000.000000</td>\n",
       "      <td>175000.000000</td>\n",
       "      <td>175000.000000</td>\n",
       "      <td>175000.000000</td>\n",
       "      <td>168923.000000</td>\n",
       "      <td>168923.000000</td>\n",
       "    </tr>\n",
       "    <tr>\n",
       "      <th>mean</th>\n",
       "      <td>0.728377</td>\n",
       "      <td>1.357678</td>\n",
       "      <td>5.145930</td>\n",
       "      <td>1.518307</td>\n",
       "      <td>132.710349</td>\n",
       "      <td>132.701429</td>\n",
       "      <td>1.932143</td>\n",
       "      <td>6.127497</td>\n",
       "      <td>0.646816</td>\n",
       "      <td>0.979689</td>\n",
       "      <td>29.633901</td>\n",
       "      <td>2.246971</td>\n",
       "      <td>0.158825</td>\n",
       "    </tr>\n",
       "    <tr>\n",
       "      <th>std</th>\n",
       "      <td>0.445606</td>\n",
       "      <td>0.891283</td>\n",
       "      <td>394.971052</td>\n",
       "      <td>6.514678</td>\n",
       "      <td>76.148799</td>\n",
       "      <td>76.192493</td>\n",
       "      <td>1.948497</td>\n",
       "      <td>4.610834</td>\n",
       "      <td>2.328274</td>\n",
       "      <td>0.198775</td>\n",
       "      <td>25.425206</td>\n",
       "      <td>0.819216</td>\n",
       "      <td>0.511968</td>\n",
       "    </tr>\n",
       "    <tr>\n",
       "      <th>min</th>\n",
       "      <td>0.000000</td>\n",
       "      <td>0.000000</td>\n",
       "      <td>0.000000</td>\n",
       "      <td>1.000000</td>\n",
       "      <td>1.000000</td>\n",
       "      <td>1.000000</td>\n",
       "      <td>-7.500000</td>\n",
       "      <td>0.000079</td>\n",
       "      <td>-29.300000</td>\n",
       "      <td>-1.000000</td>\n",
       "      <td>-576.750000</td>\n",
       "      <td>-2.500000</td>\n",
       "      <td>-1.750000</td>\n",
       "    </tr>\n",
       "    <tr>\n",
       "      <th>25%</th>\n",
       "      <td>0.000000</td>\n",
       "      <td>1.000000</td>\n",
       "      <td>1.080000</td>\n",
       "      <td>1.000000</td>\n",
       "      <td>67.000000</td>\n",
       "      <td>67.000000</td>\n",
       "      <td>0.000000</td>\n",
       "      <td>3.473321</td>\n",
       "      <td>0.000000</td>\n",
       "      <td>1.000000</td>\n",
       "      <td>16.300000</td>\n",
       "      <td>2.500000</td>\n",
       "      <td>0.000000</td>\n",
       "    </tr>\n",
       "    <tr>\n",
       "      <th>50%</th>\n",
       "      <td>1.000000</td>\n",
       "      <td>1.000000</td>\n",
       "      <td>1.840000</td>\n",
       "      <td>1.000000</td>\n",
       "      <td>133.000000</td>\n",
       "      <td>133.000000</td>\n",
       "      <td>1.000000</td>\n",
       "      <td>5.286217</td>\n",
       "      <td>0.000000</td>\n",
       "      <td>1.000000</td>\n",
       "      <td>21.450000</td>\n",
       "      <td>2.500000</td>\n",
       "      <td>0.000000</td>\n",
       "    </tr>\n",
       "    <tr>\n",
       "      <th>75%</th>\n",
       "      <td>1.000000</td>\n",
       "      <td>1.000000</td>\n",
       "      <td>3.610000</td>\n",
       "      <td>1.000000</td>\n",
       "      <td>199.000000</td>\n",
       "      <td>199.000000</td>\n",
       "      <td>2.500000</td>\n",
       "      <td>7.502746</td>\n",
       "      <td>0.000000</td>\n",
       "      <td>1.000000</td>\n",
       "      <td>31.800000</td>\n",
       "      <td>2.500000</td>\n",
       "      <td>0.000000</td>\n",
       "    </tr>\n",
       "    <tr>\n",
       "      <th>max</th>\n",
       "      <td>2.000000</td>\n",
       "      <td>9.000000</td>\n",
       "      <td>135182.060000</td>\n",
       "      <td>99.000000</td>\n",
       "      <td>264.000000</td>\n",
       "      <td>264.000000</td>\n",
       "      <td>11.750000</td>\n",
       "      <td>484.876151</td>\n",
       "      <td>80.000000</td>\n",
       "      <td>1.000000</td>\n",
       "      <td>587.250000</td>\n",
       "      <td>2.500000</td>\n",
       "      <td>1.750000</td>\n",
       "    </tr>\n",
       "  </tbody>\n",
       "</table>\n",
       "</div>"
      ],
      "text/plain": [
       "            VendorID  passenger_count  trip_distance     RatecodeID  \\\n",
       "count  175000.000000    168923.000000  175000.000000  168923.000000   \n",
       "mean        0.728377         1.357678       5.145930       1.518307   \n",
       "std         0.445606         0.891283     394.971052       6.514678   \n",
       "min         0.000000         0.000000       0.000000       1.000000   \n",
       "25%         0.000000         1.000000       1.080000       1.000000   \n",
       "50%         1.000000         1.000000       1.840000       1.000000   \n",
       "75%         1.000000         1.000000       3.610000       1.000000   \n",
       "max         2.000000         9.000000  135182.060000      99.000000   \n",
       "\n",
       "        PULocationID   DOLocationID          extra     tip_amount  \\\n",
       "count  175000.000000  175000.000000  175000.000000  175000.000000   \n",
       "mean      132.710349     132.701429       1.932143       6.127497   \n",
       "std        76.148799      76.192493       1.948497       4.610834   \n",
       "min         1.000000       1.000000      -7.500000       0.000079   \n",
       "25%        67.000000      67.000000       0.000000       3.473321   \n",
       "50%       133.000000     133.000000       1.000000       5.286217   \n",
       "75%       199.000000     199.000000       2.500000       7.502746   \n",
       "max       264.000000     264.000000      11.750000     484.876151   \n",
       "\n",
       "        tolls_amount  improvement_surcharge   total_amount  \\\n",
       "count  175000.000000          175000.000000  175000.000000   \n",
       "mean        0.646816               0.979689      29.633901   \n",
       "std         2.328274               0.198775      25.425206   \n",
       "min       -29.300000              -1.000000    -576.750000   \n",
       "25%         0.000000               1.000000      16.300000   \n",
       "50%         0.000000               1.000000      21.450000   \n",
       "75%         0.000000               1.000000      31.800000   \n",
       "max        80.000000               1.000000     587.250000   \n",
       "\n",
       "       congestion_surcharge    Airport_fee  \n",
       "count         168923.000000  168923.000000  \n",
       "mean               2.246971       0.158825  \n",
       "std                0.819216       0.511968  \n",
       "min               -2.500000      -1.750000  \n",
       "25%                2.500000       0.000000  \n",
       "50%                2.500000       0.000000  \n",
       "75%                2.500000       0.000000  \n",
       "max                2.500000       1.750000  "
      ]
     },
     "execution_count": 14,
     "metadata": {},
     "output_type": "execute_result"
    }
   ],
   "source": [
    "taxi_data.describe()"
   ]
  },
  {
   "cell_type": "code",
   "execution_count": 15,
   "id": "3e3e0dc6",
   "metadata": {
    "execution": {
     "iopub.execute_input": "2023-11-26T09:17:05.053470Z",
     "iopub.status.busy": "2023-11-26T09:17:05.053033Z",
     "iopub.status.idle": "2023-11-26T09:17:06.221274Z",
     "shell.execute_reply": "2023-11-26T09:17:06.220309Z"
    },
    "papermill": {
     "duration": 1.213988,
     "end_time": "2023-11-26T09:17:06.224856",
     "exception": false,
     "start_time": "2023-11-26T09:17:05.010868",
     "status": "completed"
    },
    "tags": []
   },
   "outputs": [
    {
     "data": {
      "image/png": "[encoded data removed]",
      "text/plain": [
       "<Figure size 2000x1500 with 2 Axes>"
      ]
     },
     "metadata": {},
     "output_type": "display_data"
    }
   ],
   "source": [
    "numeric_columns = taxi_data.select_dtypes(include=['number'])\n",
    "\n",
    "\n",
    "plt.figure(figsize=(20, 15))\n",
    "sns.heatmap(numeric_columns.corr(), annot=True)\n",
    "plt.show()"
   ]
  },
  {
   "cell_type": "code",
   "execution_count": 16,
   "id": "1672cc61",
   "metadata": {
    "execution": {
     "iopub.execute_input": "2023-11-26T09:17:06.317069Z",
     "iopub.status.busy": "2023-11-26T09:17:06.316259Z",
     "iopub.status.idle": "2023-11-26T09:17:06.354756Z",
     "shell.execute_reply": "2023-11-26T09:17:06.353451Z"
    },
    "papermill": {
     "duration": 0.086987,
     "end_time": "2023-11-26T09:17:06.357209",
     "exception": false,
     "start_time": "2023-11-26T09:17:06.270222",
     "status": "completed"
    },
    "tags": []
   },
   "outputs": [
    {
     "data": {
      "text/html": [
       "<div>\n",
       "<style scoped>\n",
       "    .dataframe tbody tr th:only-of-type {\n",
       "        vertical-align: middle;\n",
       "    }\n",
       "\n",
       "    .dataframe tbody tr th {\n",
       "        vertical-align: top;\n",
       "    }\n",
       "\n",
       "    .dataframe thead th {\n",
       "        text-align: right;\n",
       "    }\n",
       "</style>\n",
       "<table border=\"1\" class=\"dataframe\">\n",
       "  <thead>\n",
       "    <tr style=\"text-align: right;\">\n",
       "      <th></th>\n",
       "      <th>VendorID</th>\n",
       "      <th>tpep_pickup_datetime</th>\n",
       "      <th>tpep_dropoff_datetime</th>\n",
       "      <th>passenger_count</th>\n",
       "      <th>trip_distance</th>\n",
       "      <th>RatecodeID</th>\n",
       "      <th>store_and_fwd_flag</th>\n",
       "      <th>PULocationID</th>\n",
       "      <th>DOLocationID</th>\n",
       "      <th>payment_type</th>\n",
       "      <th>extra</th>\n",
       "      <th>tip_amount</th>\n",
       "      <th>tolls_amount</th>\n",
       "      <th>improvement_surcharge</th>\n",
       "      <th>total_amount</th>\n",
       "      <th>congestion_surcharge</th>\n",
       "      <th>Airport_fee</th>\n",
       "    </tr>\n",
       "  </thead>\n",
       "  <tbody>\n",
       "    <tr>\n",
       "      <th>27</th>\n",
       "      <td>1</td>\n",
       "      <td>2023-06-29 17:43:29</td>\n",
       "      <td>2023-06-29 18:51:13</td>\n",
       "      <td>2.0</td>\n",
       "      <td>33.95</td>\n",
       "      <td>3.0</td>\n",
       "      <td>N</td>\n",
       "      <td>223</td>\n",
       "      <td>223</td>\n",
       "      <td>Cash</td>\n",
       "      <td>2.5</td>\n",
       "      <td>3.177106</td>\n",
       "      <td>29.0</td>\n",
       "      <td>1.0</td>\n",
       "      <td>194.80</td>\n",
       "      <td>0.0</td>\n",
       "      <td>0.0</td>\n",
       "    </tr>\n",
       "    <tr>\n",
       "      <th>422</th>\n",
       "      <td>0</td>\n",
       "      <td>2023-06-29 22:37:21</td>\n",
       "      <td>2023-06-29 22:46:44</td>\n",
       "      <td>NaN</td>\n",
       "      <td>0.00</td>\n",
       "      <td>NaN</td>\n",
       "      <td>NaN</td>\n",
       "      <td>149</td>\n",
       "      <td>149</td>\n",
       "      <td>Wallet</td>\n",
       "      <td>0.0</td>\n",
       "      <td>3.765160</td>\n",
       "      <td>0.0</td>\n",
       "      <td>1.0</td>\n",
       "      <td>31.59</td>\n",
       "      <td>NaN</td>\n",
       "      <td>NaN</td>\n",
       "    </tr>\n",
       "    <tr>\n",
       "      <th>728</th>\n",
       "      <td>1</td>\n",
       "      <td>2023-06-29 15:08:21</td>\n",
       "      <td>2023-06-29 16:14:40</td>\n",
       "      <td>1.0</td>\n",
       "      <td>3.09</td>\n",
       "      <td>1.0</td>\n",
       "      <td>N</td>\n",
       "      <td>26</td>\n",
       "      <td>26</td>\n",
       "      <td>Credit Card</td>\n",
       "      <td>0.0</td>\n",
       "      <td>7.110698</td>\n",
       "      <td>0.0</td>\n",
       "      <td>1.0</td>\n",
       "      <td>35.28</td>\n",
       "      <td>2.5</td>\n",
       "      <td>0.0</td>\n",
       "    </tr>\n",
       "    <tr>\n",
       "      <th>1252</th>\n",
       "      <td>1</td>\n",
       "      <td>2023-06-29 15:35:19</td>\n",
       "      <td>2023-06-29 17:25:48</td>\n",
       "      <td>1.0</td>\n",
       "      <td>1.58</td>\n",
       "      <td>1.0</td>\n",
       "      <td>N</td>\n",
       "      <td>106</td>\n",
       "      <td>106</td>\n",
       "      <td>Credit Card</td>\n",
       "      <td>2.5</td>\n",
       "      <td>5.979510</td>\n",
       "      <td>0.0</td>\n",
       "      <td>1.0</td>\n",
       "      <td>28.50</td>\n",
       "      <td>2.5</td>\n",
       "      <td>0.0</td>\n",
       "    </tr>\n",
       "    <tr>\n",
       "      <th>1460</th>\n",
       "      <td>1</td>\n",
       "      <td>2023-06-30 08:27:07</td>\n",
       "      <td>2023-06-30 09:11:19</td>\n",
       "      <td>1.0</td>\n",
       "      <td>2.70</td>\n",
       "      <td>1.0</td>\n",
       "      <td>N</td>\n",
       "      <td>237</td>\n",
       "      <td>237</td>\n",
       "      <td>Credit Card</td>\n",
       "      <td>0.0</td>\n",
       "      <td>6.646116</td>\n",
       "      <td>0.0</td>\n",
       "      <td>1.0</td>\n",
       "      <td>26.88</td>\n",
       "      <td>2.5</td>\n",
       "      <td>0.0</td>\n",
       "    </tr>\n",
       "    <tr>\n",
       "      <th>...</th>\n",
       "      <td>...</td>\n",
       "      <td>...</td>\n",
       "      <td>...</td>\n",
       "      <td>...</td>\n",
       "      <td>...</td>\n",
       "      <td>...</td>\n",
       "      <td>...</td>\n",
       "      <td>...</td>\n",
       "      <td>...</td>\n",
       "      <td>...</td>\n",
       "      <td>...</td>\n",
       "      <td>...</td>\n",
       "      <td>...</td>\n",
       "      <td>...</td>\n",
       "      <td>...</td>\n",
       "      <td>...</td>\n",
       "      <td>...</td>\n",
       "    </tr>\n",
       "    <tr>\n",
       "      <th>174166</th>\n",
       "      <td>1</td>\n",
       "      <td>2023-06-29 11:03:07</td>\n",
       "      <td>2023-06-29 11:00:11</td>\n",
       "      <td>1.0</td>\n",
       "      <td>1.81</td>\n",
       "      <td>1.0</td>\n",
       "      <td>N</td>\n",
       "      <td>28</td>\n",
       "      <td>28</td>\n",
       "      <td>Credit Card</td>\n",
       "      <td>0.0</td>\n",
       "      <td>7.436511</td>\n",
       "      <td>0.0</td>\n",
       "      <td>1.0</td>\n",
       "      <td>21.84</td>\n",
       "      <td>2.5</td>\n",
       "      <td>0.0</td>\n",
       "    </tr>\n",
       "    <tr>\n",
       "      <th>174196</th>\n",
       "      <td>1</td>\n",
       "      <td>2023-06-28 23:53:57</td>\n",
       "      <td>2023-06-28 22:41:39</td>\n",
       "      <td>1.0</td>\n",
       "      <td>1.56</td>\n",
       "      <td>1.0</td>\n",
       "      <td>N</td>\n",
       "      <td>79</td>\n",
       "      <td>79</td>\n",
       "      <td>Credit Card</td>\n",
       "      <td>1.0</td>\n",
       "      <td>4.479095</td>\n",
       "      <td>0.0</td>\n",
       "      <td>1.0</td>\n",
       "      <td>16.44</td>\n",
       "      <td>2.5</td>\n",
       "      <td>0.0</td>\n",
       "    </tr>\n",
       "    <tr>\n",
       "      <th>174671</th>\n",
       "      <td>1</td>\n",
       "      <td>2023-06-30 13:34:39</td>\n",
       "      <td>2023-06-30 13:39:27</td>\n",
       "      <td>1.0</td>\n",
       "      <td>0.75</td>\n",
       "      <td>1.0</td>\n",
       "      <td>N</td>\n",
       "      <td>186</td>\n",
       "      <td>186</td>\n",
       "      <td>Credit Card</td>\n",
       "      <td>0.0</td>\n",
       "      <td>6.353968</td>\n",
       "      <td>0.0</td>\n",
       "      <td>1.0</td>\n",
       "      <td>16.30</td>\n",
       "      <td>2.5</td>\n",
       "      <td>0.0</td>\n",
       "    </tr>\n",
       "    <tr>\n",
       "      <th>174806</th>\n",
       "      <td>1</td>\n",
       "      <td>2023-06-28 18:18:55</td>\n",
       "      <td>2023-06-28 16:41:32</td>\n",
       "      <td>1.0</td>\n",
       "      <td>1.01</td>\n",
       "      <td>1.0</td>\n",
       "      <td>N</td>\n",
       "      <td>201</td>\n",
       "      <td>201</td>\n",
       "      <td>Credit Card</td>\n",
       "      <td>2.5</td>\n",
       "      <td>6.123848</td>\n",
       "      <td>0.0</td>\n",
       "      <td>1.0</td>\n",
       "      <td>17.10</td>\n",
       "      <td>2.5</td>\n",
       "      <td>0.0</td>\n",
       "    </tr>\n",
       "    <tr>\n",
       "      <th>174994</th>\n",
       "      <td>0</td>\n",
       "      <td>2023-06-29 14:08:39</td>\n",
       "      <td>2023-06-29 13:42:20</td>\n",
       "      <td>1.0</td>\n",
       "      <td>1.90</td>\n",
       "      <td>1.0</td>\n",
       "      <td>N</td>\n",
       "      <td>95</td>\n",
       "      <td>95</td>\n",
       "      <td>Credit Card</td>\n",
       "      <td>2.5</td>\n",
       "      <td>5.928588</td>\n",
       "      <td>0.0</td>\n",
       "      <td>1.0</td>\n",
       "      <td>20.15</td>\n",
       "      <td>2.5</td>\n",
       "      <td>0.0</td>\n",
       "    </tr>\n",
       "  </tbody>\n",
       "</table>\n",
       "<p>644 rows × 17 columns</p>\n",
       "</div>"
      ],
      "text/plain": [
       "        VendorID tpep_pickup_datetime tpep_dropoff_datetime  passenger_count  \\\n",
       "27             1  2023-06-29 17:43:29   2023-06-29 18:51:13              2.0   \n",
       "422            0  2023-06-29 22:37:21   2023-06-29 22:46:44              NaN   \n",
       "728            1  2023-06-29 15:08:21   2023-06-29 16:14:40              1.0   \n",
       "1252           1  2023-06-29 15:35:19   2023-06-29 17:25:48              1.0   \n",
       "1460           1  2023-06-30 08:27:07   2023-06-30 09:11:19              1.0   \n",
       "...          ...                  ...                   ...              ...   \n",
       "174166         1  2023-06-29 11:03:07   2023-06-29 11:00:11              1.0   \n",
       "174196         1  2023-06-28 23:53:57   2023-06-28 22:41:39              1.0   \n",
       "174671         1  2023-06-30 13:34:39   2023-06-30 13:39:27              1.0   \n",
       "174806         1  2023-06-28 18:18:55   2023-06-28 16:41:32              1.0   \n",
       "174994         0  2023-06-29 14:08:39   2023-06-29 13:42:20              1.0   \n",
       "\n",
       "        trip_distance  RatecodeID store_and_fwd_flag  PULocationID  \\\n",
       "27              33.95         3.0                  N           223   \n",
       "422              0.00         NaN                NaN           149   \n",
       "728              3.09         1.0                  N            26   \n",
       "1252             1.58         1.0                  N           106   \n",
       "1460             2.70         1.0                  N           237   \n",
       "...               ...         ...                ...           ...   \n",
       "174166           1.81         1.0                  N            28   \n",
       "174196           1.56         1.0                  N            79   \n",
       "174671           0.75         1.0                  N           186   \n",
       "174806           1.01         1.0                  N           201   \n",
       "174994           1.90         1.0                  N            95   \n",
       "\n",
       "        DOLocationID payment_type  extra  tip_amount  tolls_amount  \\\n",
       "27               223         Cash    2.5    3.177106          29.0   \n",
       "422              149       Wallet    0.0    3.765160           0.0   \n",
       "728               26  Credit Card    0.0    7.110698           0.0   \n",
       "1252             106  Credit Card    2.5    5.979510           0.0   \n",
       "1460             237  Credit Card    0.0    6.646116           0.0   \n",
       "...              ...          ...    ...         ...           ...   \n",
       "174166            28  Credit Card    0.0    7.436511           0.0   \n",
       "174196            79  Credit Card    1.0    4.479095           0.0   \n",
       "174671           186  Credit Card    0.0    6.353968           0.0   \n",
       "174806           201  Credit Card    2.5    6.123848           0.0   \n",
       "174994            95  Credit Card    2.5    5.928588           0.0   \n",
       "\n",
       "        improvement_surcharge  total_amount  congestion_surcharge  Airport_fee  \n",
       "27                        1.0        194.80                   0.0          0.0  \n",
       "422                       1.0         31.59                   NaN          NaN  \n",
       "728                       1.0         35.28                   2.5          0.0  \n",
       "1252                      1.0         28.50                   2.5          0.0  \n",
       "1460                      1.0         26.88                   2.5          0.0  \n",
       "...                       ...           ...                   ...          ...  \n",
       "174166                    1.0         21.84                   2.5          0.0  \n",
       "174196                    1.0         16.44                   2.5          0.0  \n",
       "174671                    1.0         16.30                   2.5          0.0  \n",
       "174806                    1.0         17.10                   2.5          0.0  \n",
       "174994                    1.0         20.15                   2.5          0.0  \n",
       "\n",
       "[644 rows x 17 columns]"
      ]
     },
     "execution_count": 16,
     "metadata": {},
     "output_type": "execute_result"
    }
   ],
   "source": [
    "taxi_data[taxi_data['PULocationID']==taxi_data['DOLocationID']]"
   ]
  },
  {
   "cell_type": "markdown",
   "id": "cdba327b",
   "metadata": {
    "papermill": {
     "duration": 0.043477,
     "end_time": "2023-11-26T09:17:06.446507",
     "exception": false,
     "start_time": "2023-11-26T09:17:06.403030",
     "status": "completed"
    },
    "tags": []
   },
   "source": [
    "# DATA VISUALIZATION"
   ]
  },
  {
   "cell_type": "code",
   "execution_count": 17,
   "id": "2e0a3490",
   "metadata": {
    "execution": {
     "iopub.execute_input": "2023-11-26T09:17:06.536176Z",
     "iopub.status.busy": "2023-11-26T09:17:06.535725Z",
     "iopub.status.idle": "2023-11-26T09:17:06.864485Z",
     "shell.execute_reply": "2023-11-26T09:17:06.863232Z"
    },
    "papermill": {
     "duration": 0.376509,
     "end_time": "2023-11-26T09:17:06.866951",
     "exception": false,
     "start_time": "2023-11-26T09:17:06.490442",
     "status": "completed"
    },
    "scrolled": true,
    "tags": []
   },
   "outputs": [
    {
     "data": {
      "image/png": "[encoded data removed]",
      "text/plain": [
       "<Figure size 600x500 with 1 Axes>"
      ]
     },
     "metadata": {},
     "output_type": "display_data"
    }
   ],
   "source": [
    "plt.figure(figsize=(6,5))\n",
    "taxi_data['passenger_count'].value_counts().plot.bar()\n",
    "plt.xlabel('Passengers')\n",
    "plt.ylabel('Counts')\n",
    "plt.title('Most Passenger Travelling Alone ')\n",
    "plt.show()"
   ]
  },
  {
   "cell_type": "code",
   "execution_count": 18,
   "id": "a1117008",
   "metadata": {
    "execution": {
     "iopub.execute_input": "2023-11-26T09:17:06.958791Z",
     "iopub.status.busy": "2023-11-26T09:17:06.957509Z",
     "iopub.status.idle": "2023-11-26T09:17:07.219820Z",
     "shell.execute_reply": "2023-11-26T09:17:07.218228Z"
    },
    "papermill": {
     "duration": 0.311202,
     "end_time": "2023-11-26T09:17:07.222554",
     "exception": false,
     "start_time": "2023-11-26T09:17:06.911352",
     "status": "completed"
    },
    "tags": []
   },
   "outputs": [
    {
     "data": {
      "image/png": "[encoded data removed]",
      "text/plain": [
       "<Figure size 640x480 with 1 Axes>"
      ]
     },
     "metadata": {},
     "output_type": "display_data"
    }
   ],
   "source": [
    "average_fare_from_each_vendor_id=taxi_data.groupby('VendorID')['total_amount'].mean()\n",
    "average_fare_from_each_vendor_id.plot(kind='bar', color='skyblue')\n",
    "plt.title('Vendor ID 0 and 1 offers the most affordable taxi fare.')\n",
    "plt.xlabel('Vendor ID')\n",
    "plt.ylabel('Average Total Amount')\n",
    "plt.show()"
   ]
  },
  {
   "cell_type": "code",
   "execution_count": 19,
   "id": "eaa77aff",
   "metadata": {
    "execution": {
     "iopub.execute_input": "2023-11-26T09:17:07.317064Z",
     "iopub.status.busy": "2023-11-26T09:17:07.316604Z",
     "iopub.status.idle": "2023-11-26T09:17:07.618556Z",
     "shell.execute_reply": "2023-11-26T09:17:07.617672Z"
    },
    "papermill": {
     "duration": 0.352697,
     "end_time": "2023-11-26T09:17:07.620865",
     "exception": false,
     "start_time": "2023-11-26T09:17:07.268168",
     "status": "completed"
    },
    "tags": []
   },
   "outputs": [
    {
     "data": {
      "image/png": "[encoded data removed]",
      "text/plain": [
       "<Figure size 640x480 with 1 Axes>"
      ]
     },
     "metadata": {},
     "output_type": "display_data"
    }
   ],
   "source": [
    "average_fare_from_each_vendor_id=taxi_data.groupby('VendorID')['extra'].mean()\n",
    "average_fare_from_each_vendor_id.plot(kind='bar', color='skyblue')\n",
    "plt.title('Vendor 0 charges additional fees, followed by Vendor 1, whereas Vendor 2 does not impose any extra charges')\n",
    "plt.xlabel('Vendor ID')\n",
    "plt.ylabel('Average Total Amount')\n",
    "plt.show()"
   ]
  },
  {
   "cell_type": "code",
   "execution_count": 20,
   "id": "4c6177ba",
   "metadata": {
    "execution": {
     "iopub.execute_input": "2023-11-26T09:17:07.718481Z",
     "iopub.status.busy": "2023-11-26T09:17:07.717224Z",
     "iopub.status.idle": "2023-11-26T09:17:07.999269Z",
     "shell.execute_reply": "2023-11-26T09:17:07.997737Z"
    },
    "papermill": {
     "duration": 0.334349,
     "end_time": "2023-11-26T09:17:08.002508",
     "exception": false,
     "start_time": "2023-11-26T09:17:07.668159",
     "status": "completed"
    },
    "tags": []
   },
   "outputs": [
    {
     "data": {
      "image/png": "[encoded data removed]",
      "text/plain": [
       "<Figure size 640x480 with 1 Axes>"
      ]
     },
     "metadata": {},
     "output_type": "display_data"
    }
   ],
   "source": [
    "average_fare_from_each_RateCodeID_id=taxi_data.groupby('RatecodeID')['total_amount'].mean()\n",
    "average_fare_from_each_RateCodeID_id.plot(kind='bar', color='blue')\n",
    "plt.title('RateCode ID  1 & 99  offers the most affordable taxi fare.')\n",
    "plt.xlabel('RateCode ID')\n",
    "plt.ylabel('Average Fare Amount')\n",
    " \n",
    "plt.show()"
   ]
  },
  {
   "cell_type": "code",
   "execution_count": 21,
   "id": "3b06a253",
   "metadata": {
    "execution": {
     "iopub.execute_input": "2023-11-26T09:17:08.097633Z",
     "iopub.status.busy": "2023-11-26T09:17:08.097202Z",
     "iopub.status.idle": "2023-11-26T09:17:08.381959Z",
     "shell.execute_reply": "2023-11-26T09:17:08.380424Z"
    },
    "papermill": {
     "duration": 0.335604,
     "end_time": "2023-11-26T09:17:08.385070",
     "exception": false,
     "start_time": "2023-11-26T09:17:08.049466",
     "status": "completed"
    },
    "tags": []
   },
   "outputs": [
    {
     "data": {
      "image/png": "[encoded data removed]",
      "text/plain": [
       "<Figure size 800x600 with 1 Axes>"
      ]
     },
     "metadata": {},
     "output_type": "display_data"
    }
   ],
   "source": [
    "payment_type_counts = taxi_data['payment_type'].value_counts()\n",
    "\n",
    "plt.figure(figsize=(8, 6))\n",
    "payment_type_counts.plot(kind='bar', color='red')\n",
    "plt.title('Most Passenger uses Credit Card For Bill Payemnt ')\n",
    "plt.xlabel('Payment Type')\n",
    "plt.ylabel('Count')\n",
    "plt.xticks(rotation=0)  \n",
    "plt.show()"
   ]
  },
  {
   "cell_type": "code",
   "execution_count": 22,
   "id": "5f989375",
   "metadata": {
    "execution": {
     "iopub.execute_input": "2023-11-26T09:17:08.483537Z",
     "iopub.status.busy": "2023-11-26T09:17:08.483076Z",
     "iopub.status.idle": "2023-11-26T09:17:11.248085Z",
     "shell.execute_reply": "2023-11-26T09:17:11.246868Z"
    },
    "papermill": {
     "duration": 2.817018,
     "end_time": "2023-11-26T09:17:11.250685",
     "exception": false,
     "start_time": "2023-11-26T09:17:08.433667",
     "status": "completed"
    },
    "tags": []
   },
   "outputs": [
    {
     "data": {
      "image/png": "[encoded data removed]",
      "text/plain": [
       "<Figure size 800x600 with 1 Axes>"
      ]
     },
     "metadata": {},
     "output_type": "display_data"
    }
   ],
   "source": [
    "plt.figure(figsize=(8, 6))\n",
    "sns.barplot(x='passenger_count',y='total_amount',data =taxi_data )\n",
    "plt.xlabel('NO OF PASSENGERS ')\n",
    "plt.ylabel('Fare Amount')\n",
    "plt.title('Number of Passengers VS Fare Amount')\n",
    "plt.show()"
   ]
  },
  {
   "cell_type": "code",
   "execution_count": 23,
   "id": "446fdf5f",
   "metadata": {
    "execution": {
     "iopub.execute_input": "2023-11-26T09:17:11.348892Z",
     "iopub.status.busy": "2023-11-26T09:17:11.348478Z",
     "iopub.status.idle": "2023-11-26T09:17:11.747374Z",
     "shell.execute_reply": "2023-11-26T09:17:11.746199Z"
    },
    "papermill": {
     "duration": 0.45132,
     "end_time": "2023-11-26T09:17:11.749867",
     "exception": false,
     "start_time": "2023-11-26T09:17:11.298547",
     "status": "completed"
    },
    "tags": []
   },
   "outputs": [
    {
     "data": {
      "image/png": "[encoded data removed]",
      "text/plain": [
       "<Figure size 640x480 with 1 Axes>"
      ]
     },
     "metadata": {},
     "output_type": "display_data"
    }
   ],
   "source": [
    "\n",
    "sns.countplot(x='store_and_fwd_flag', data = taxi_data)\n",
    "plt.title('store_and_fwd_flag distribution')\n",
    "plt.show()"
   ]
  },
  {
   "cell_type": "code",
   "execution_count": 24,
   "id": "691ec0ac",
   "metadata": {
    "execution": {
     "iopub.execute_input": "2023-11-26T09:17:11.848883Z",
     "iopub.status.busy": "2023-11-26T09:17:11.847943Z",
     "iopub.status.idle": "2023-11-26T09:17:12.941064Z",
     "shell.execute_reply": "2023-11-26T09:17:12.939721Z"
    },
    "papermill": {
     "duration": 1.146218,
     "end_time": "2023-11-26T09:17:12.943790",
     "exception": false,
     "start_time": "2023-11-26T09:17:11.797572",
     "status": "completed"
    },
    "tags": []
   },
   "outputs": [
    {
     "data": {
      "image/png": "[encoded data removed]",
      "text/plain": [
       "<Figure size 800x600 with 1 Axes>"
      ]
     },
     "metadata": {},
     "output_type": "display_data"
    }
   ],
   "source": [
    "plt.figure(figsize=(8, 6))\n",
    "sns.kdeplot(data=taxi_data,x='total_amount')\n",
    "plt.title('Total Amount Distribution')\n",
    "plt.show()"
   ]
  },
  {
   "cell_type": "markdown",
   "id": "6071e011",
   "metadata": {
    "papermill": {
     "duration": 0.050787,
     "end_time": "2023-11-26T09:17:13.043878",
     "exception": false,
     "start_time": "2023-11-26T09:17:12.993091",
     "status": "completed"
    },
    "tags": []
   },
   "source": [
    "\n",
    "\n",
    "\n",
    "# Some Insights From Data Understanding And Data Vislualization\n",
    "\n",
    "> The dataset contains 4 categorical columns and 13 numerical columns.\n",
    "> Its shape is (175,000, 17).\n",
    "> There are null values in 5 columns.\n",
    "\n",
    "**Passenger Count Distribution:**\n",
    "\n",
    "The majority of passengers (represented by the passenger count) is 1, suggesting that most passengers travel alone.\n",
    "\n",
    "\n",
    "**Vendor ID and Fare Insights:**\n",
    "\n",
    "Vendor IDs 1 and 2 offer affordable taxi fares, while Vendor ID 3 is notably the most expensive.\n",
    "Vendor ID 3 does not impose extra charges, unlike Vendor IDs 1 and 2.\n",
    "\n",
    "\n",
    "**Payment Preferences:**\n",
    "\n",
    "Most passengers prefer using credit cards for taxi ride payments.\n",
    "\n",
    "\n",
    "**RateCode ID and Fare Affordability:**\n",
    "\n",
    "RateCode IDs 1 and 99 provide the most affordable taxi fares.\n",
    "\n",
    "\n",
    "**Impact of Passenger Count on Fare:**\n",
    "\n",
    "As the number of passengers increases to 8 or more, there is a significant spike in fare prices compared to counts below 8.\n",
    "\n",
    "\n",
    "**Kernel Density Plot of Total Amount:**\n",
    "\n",
    "The plot reveals a symmetric distribution with the maximum total amount falling between 0 and 100.\n",
    "Heatmap \n",
    "\n",
    "**Correlation Matrix:**\n",
    "\n",
    "The correlation matrix indicates weak correlations between pairs of variables in the dataset."
   ]
  },
  {
   "cell_type": "markdown",
   "id": "416b1c11",
   "metadata": {
    "papermill": {
     "duration": 0.048873,
     "end_time": "2023-11-26T09:17:13.143054",
     "exception": false,
     "start_time": "2023-11-26T09:17:13.094181",
     "status": "completed"
    },
    "tags": []
   },
   "source": [
    "# Data Preprocessing"
   ]
  },
  {
   "cell_type": "code",
   "execution_count": 25,
   "id": "16d51e15",
   "metadata": {
    "execution": {
     "iopub.execute_input": "2023-11-26T09:17:13.245457Z",
     "iopub.status.busy": "2023-11-26T09:17:13.245018Z",
     "iopub.status.idle": "2023-11-26T09:17:13.260717Z",
     "shell.execute_reply": "2023-11-26T09:17:13.259484Z"
    },
    "jupyter": {
     "source_hidden": true
    },
    "papermill": {
     "duration": 0.070106,
     "end_time": "2023-11-26T09:17:13.263449",
     "exception": false,
     "start_time": "2023-11-26T09:17:13.193343",
     "status": "completed"
    },
    "tags": []
   },
   "outputs": [],
   "source": [
    "fare_data=taxi_data.drop([ 'tpep_pickup_datetime', 'tpep_dropoff_datetime' ], axis=1)\n"
   ]
  },
  {
   "cell_type": "code",
   "execution_count": 26,
   "id": "88f09211",
   "metadata": {
    "execution": {
     "iopub.execute_input": "2023-11-26T09:17:13.366915Z",
     "iopub.status.busy": "2023-11-26T09:17:13.366451Z",
     "iopub.status.idle": "2023-11-26T09:17:13.403593Z",
     "shell.execute_reply": "2023-11-26T09:17:13.402342Z"
    },
    "papermill": {
     "duration": 0.091912,
     "end_time": "2023-11-26T09:17:13.406089",
     "exception": false,
     "start_time": "2023-11-26T09:17:13.314177",
     "status": "completed"
    },
    "tags": []
   },
   "outputs": [
    {
     "data": {
      "text/html": [
       "<div>\n",
       "<style scoped>\n",
       "    .dataframe tbody tr th:only-of-type {\n",
       "        vertical-align: middle;\n",
       "    }\n",
       "\n",
       "    .dataframe tbody tr th {\n",
       "        vertical-align: top;\n",
       "    }\n",
       "\n",
       "    .dataframe thead th {\n",
       "        text-align: right;\n",
       "    }\n",
       "</style>\n",
       "<table border=\"1\" class=\"dataframe\">\n",
       "  <thead>\n",
       "    <tr style=\"text-align: right;\">\n",
       "      <th></th>\n",
       "      <th>VendorID</th>\n",
       "      <th>passenger_count</th>\n",
       "      <th>trip_distance</th>\n",
       "      <th>RatecodeID</th>\n",
       "      <th>store_and_fwd_flag</th>\n",
       "      <th>PULocationID</th>\n",
       "      <th>DOLocationID</th>\n",
       "      <th>payment_type</th>\n",
       "      <th>extra</th>\n",
       "      <th>tip_amount</th>\n",
       "      <th>tolls_amount</th>\n",
       "      <th>improvement_surcharge</th>\n",
       "      <th>total_amount</th>\n",
       "      <th>congestion_surcharge</th>\n",
       "      <th>Airport_fee</th>\n",
       "    </tr>\n",
       "  </thead>\n",
       "  <tbody>\n",
       "    <tr>\n",
       "      <th>0</th>\n",
       "      <td>1</td>\n",
       "      <td>1.0</td>\n",
       "      <td>2.14</td>\n",
       "      <td>1.0</td>\n",
       "      <td>N</td>\n",
       "      <td>120</td>\n",
       "      <td>9</td>\n",
       "      <td>Credit Card</td>\n",
       "      <td>2.5</td>\n",
       "      <td>7.165589</td>\n",
       "      <td>0.0</td>\n",
       "      <td>1.0</td>\n",
       "      <td>20.64</td>\n",
       "      <td>2.5</td>\n",
       "      <td>0.00</td>\n",
       "    </tr>\n",
       "    <tr>\n",
       "      <th>1</th>\n",
       "      <td>0</td>\n",
       "      <td>1.0</td>\n",
       "      <td>2.70</td>\n",
       "      <td>1.0</td>\n",
       "      <td>N</td>\n",
       "      <td>15</td>\n",
       "      <td>215</td>\n",
       "      <td>Credit Card</td>\n",
       "      <td>3.5</td>\n",
       "      <td>6.067401</td>\n",
       "      <td>0.0</td>\n",
       "      <td>1.0</td>\n",
       "      <td>25.55</td>\n",
       "      <td>2.5</td>\n",
       "      <td>0.00</td>\n",
       "    </tr>\n",
       "    <tr>\n",
       "      <th>2</th>\n",
       "      <td>1</td>\n",
       "      <td>1.0</td>\n",
       "      <td>1.15</td>\n",
       "      <td>1.0</td>\n",
       "      <td>N</td>\n",
       "      <td>167</td>\n",
       "      <td>223</td>\n",
       "      <td>Credit Card</td>\n",
       "      <td>0.0</td>\n",
       "      <td>4.111547</td>\n",
       "      <td>0.0</td>\n",
       "      <td>1.0</td>\n",
       "      <td>17.64</td>\n",
       "      <td>2.5</td>\n",
       "      <td>0.00</td>\n",
       "    </tr>\n",
       "    <tr>\n",
       "      <th>3</th>\n",
       "      <td>0</td>\n",
       "      <td>1.0</td>\n",
       "      <td>0.40</td>\n",
       "      <td>1.0</td>\n",
       "      <td>N</td>\n",
       "      <td>128</td>\n",
       "      <td>239</td>\n",
       "      <td>Credit Card</td>\n",
       "      <td>2.5</td>\n",
       "      <td>6.411079</td>\n",
       "      <td>0.0</td>\n",
       "      <td>1.0</td>\n",
       "      <td>12.80</td>\n",
       "      <td>2.5</td>\n",
       "      <td>0.00</td>\n",
       "    </tr>\n",
       "    <tr>\n",
       "      <th>4</th>\n",
       "      <td>1</td>\n",
       "      <td>3.0</td>\n",
       "      <td>1.10</td>\n",
       "      <td>1.0</td>\n",
       "      <td>N</td>\n",
       "      <td>203</td>\n",
       "      <td>52</td>\n",
       "      <td>Credit Card</td>\n",
       "      <td>1.0</td>\n",
       "      <td>4.769377</td>\n",
       "      <td>0.0</td>\n",
       "      <td>1.0</td>\n",
       "      <td>18.00</td>\n",
       "      <td>2.5</td>\n",
       "      <td>0.00</td>\n",
       "    </tr>\n",
       "    <tr>\n",
       "      <th>...</th>\n",
       "      <td>...</td>\n",
       "      <td>...</td>\n",
       "      <td>...</td>\n",
       "      <td>...</td>\n",
       "      <td>...</td>\n",
       "      <td>...</td>\n",
       "      <td>...</td>\n",
       "      <td>...</td>\n",
       "      <td>...</td>\n",
       "      <td>...</td>\n",
       "      <td>...</td>\n",
       "      <td>...</td>\n",
       "      <td>...</td>\n",
       "      <td>...</td>\n",
       "      <td>...</td>\n",
       "    </tr>\n",
       "    <tr>\n",
       "      <th>174995</th>\n",
       "      <td>1</td>\n",
       "      <td>3.0</td>\n",
       "      <td>3.45</td>\n",
       "      <td>1.0</td>\n",
       "      <td>N</td>\n",
       "      <td>147</td>\n",
       "      <td>167</td>\n",
       "      <td>Credit Card</td>\n",
       "      <td>1.0</td>\n",
       "      <td>8.732495</td>\n",
       "      <td>0.0</td>\n",
       "      <td>1.0</td>\n",
       "      <td>28.08</td>\n",
       "      <td>2.5</td>\n",
       "      <td>0.00</td>\n",
       "    </tr>\n",
       "    <tr>\n",
       "      <th>174996</th>\n",
       "      <td>1</td>\n",
       "      <td>1.0</td>\n",
       "      <td>9.44</td>\n",
       "      <td>1.0</td>\n",
       "      <td>N</td>\n",
       "      <td>154</td>\n",
       "      <td>191</td>\n",
       "      <td>Cash</td>\n",
       "      <td>5.0</td>\n",
       "      <td>0.283275</td>\n",
       "      <td>0.0</td>\n",
       "      <td>1.0</td>\n",
       "      <td>59.95</td>\n",
       "      <td>2.5</td>\n",
       "      <td>1.75</td>\n",
       "    </tr>\n",
       "    <tr>\n",
       "      <th>174997</th>\n",
       "      <td>0</td>\n",
       "      <td>1.0</td>\n",
       "      <td>2.40</td>\n",
       "      <td>1.0</td>\n",
       "      <td>N</td>\n",
       "      <td>168</td>\n",
       "      <td>106</td>\n",
       "      <td>Credit Card</td>\n",
       "      <td>2.5</td>\n",
       "      <td>4.245354</td>\n",
       "      <td>0.0</td>\n",
       "      <td>1.0</td>\n",
       "      <td>33.50</td>\n",
       "      <td>2.5</td>\n",
       "      <td>0.00</td>\n",
       "    </tr>\n",
       "    <tr>\n",
       "      <th>174998</th>\n",
       "      <td>1</td>\n",
       "      <td>1.0</td>\n",
       "      <td>4.71</td>\n",
       "      <td>1.0</td>\n",
       "      <td>N</td>\n",
       "      <td>240</td>\n",
       "      <td>100</td>\n",
       "      <td>Credit Card</td>\n",
       "      <td>2.5</td>\n",
       "      <td>10.479776</td>\n",
       "      <td>0.0</td>\n",
       "      <td>1.0</td>\n",
       "      <td>40.80</td>\n",
       "      <td>2.5</td>\n",
       "      <td>0.00</td>\n",
       "    </tr>\n",
       "    <tr>\n",
       "      <th>174999</th>\n",
       "      <td>1</td>\n",
       "      <td>1.0</td>\n",
       "      <td>1.01</td>\n",
       "      <td>1.0</td>\n",
       "      <td>N</td>\n",
       "      <td>153</td>\n",
       "      <td>72</td>\n",
       "      <td>Credit Card</td>\n",
       "      <td>1.0</td>\n",
       "      <td>6.541699</td>\n",
       "      <td>0.0</td>\n",
       "      <td>1.0</td>\n",
       "      <td>16.32</td>\n",
       "      <td>2.5</td>\n",
       "      <td>0.00</td>\n",
       "    </tr>\n",
       "  </tbody>\n",
       "</table>\n",
       "<p>175000 rows × 15 columns</p>\n",
       "</div>"
      ],
      "text/plain": [
       "        VendorID  passenger_count  trip_distance  RatecodeID  \\\n",
       "0              1              1.0           2.14         1.0   \n",
       "1              0              1.0           2.70         1.0   \n",
       "2              1              1.0           1.15         1.0   \n",
       "3              0              1.0           0.40         1.0   \n",
       "4              1              3.0           1.10         1.0   \n",
       "...          ...              ...            ...         ...   \n",
       "174995         1              3.0           3.45         1.0   \n",
       "174996         1              1.0           9.44         1.0   \n",
       "174997         0              1.0           2.40         1.0   \n",
       "174998         1              1.0           4.71         1.0   \n",
       "174999         1              1.0           1.01         1.0   \n",
       "\n",
       "       store_and_fwd_flag  PULocationID  DOLocationID payment_type  extra  \\\n",
       "0                       N           120             9  Credit Card    2.5   \n",
       "1                       N            15           215  Credit Card    3.5   \n",
       "2                       N           167           223  Credit Card    0.0   \n",
       "3                       N           128           239  Credit Card    2.5   \n",
       "4                       N           203            52  Credit Card    1.0   \n",
       "...                   ...           ...           ...          ...    ...   \n",
       "174995                  N           147           167  Credit Card    1.0   \n",
       "174996                  N           154           191         Cash    5.0   \n",
       "174997                  N           168           106  Credit Card    2.5   \n",
       "174998                  N           240           100  Credit Card    2.5   \n",
       "174999                  N           153            72  Credit Card    1.0   \n",
       "\n",
       "        tip_amount  tolls_amount  improvement_surcharge  total_amount  \\\n",
       "0         7.165589           0.0                    1.0         20.64   \n",
       "1         6.067401           0.0                    1.0         25.55   \n",
       "2         4.111547           0.0                    1.0         17.64   \n",
       "3         6.411079           0.0                    1.0         12.80   \n",
       "4         4.769377           0.0                    1.0         18.00   \n",
       "...            ...           ...                    ...           ...   \n",
       "174995    8.732495           0.0                    1.0         28.08   \n",
       "174996    0.283275           0.0                    1.0         59.95   \n",
       "174997    4.245354           0.0                    1.0         33.50   \n",
       "174998   10.479776           0.0                    1.0         40.80   \n",
       "174999    6.541699           0.0                    1.0         16.32   \n",
       "\n",
       "        congestion_surcharge  Airport_fee  \n",
       "0                        2.5         0.00  \n",
       "1                        2.5         0.00  \n",
       "2                        2.5         0.00  \n",
       "3                        2.5         0.00  \n",
       "4                        2.5         0.00  \n",
       "...                      ...          ...  \n",
       "174995                   2.5         0.00  \n",
       "174996                   2.5         1.75  \n",
       "174997                   2.5         0.00  \n",
       "174998                   2.5         0.00  \n",
       "174999                   2.5         0.00  \n",
       "\n",
       "[175000 rows x 15 columns]"
      ]
     },
     "execution_count": 26,
     "metadata": {},
     "output_type": "execute_result"
    }
   ],
   "source": [
    "fare_data"
   ]
  },
  {
   "cell_type": "code",
   "execution_count": 27,
   "id": "93f224b2",
   "metadata": {
    "execution": {
     "iopub.execute_input": "2023-11-26T09:17:13.509837Z",
     "iopub.status.busy": "2023-11-26T09:17:13.508841Z",
     "iopub.status.idle": "2023-11-26T09:17:13.547803Z",
     "shell.execute_reply": "2023-11-26T09:17:13.546462Z"
    },
    "papermill": {
     "duration": 0.094261,
     "end_time": "2023-11-26T09:17:13.550513",
     "exception": false,
     "start_time": "2023-11-26T09:17:13.456252",
     "status": "completed"
    },
    "tags": []
   },
   "outputs": [
    {
     "data": {
      "text/html": [
       "<div>\n",
       "<style scoped>\n",
       "    .dataframe tbody tr th:only-of-type {\n",
       "        vertical-align: middle;\n",
       "    }\n",
       "\n",
       "    .dataframe tbody tr th {\n",
       "        vertical-align: top;\n",
       "    }\n",
       "\n",
       "    .dataframe thead th {\n",
       "        text-align: right;\n",
       "    }\n",
       "</style>\n",
       "<table border=\"1\" class=\"dataframe\">\n",
       "  <thead>\n",
       "    <tr style=\"text-align: right;\">\n",
       "      <th></th>\n",
       "      <th>VendorID</th>\n",
       "      <th>passenger_count</th>\n",
       "      <th>trip_distance</th>\n",
       "      <th>RatecodeID</th>\n",
       "      <th>store_and_fwd_flag</th>\n",
       "      <th>PULocationID</th>\n",
       "      <th>DOLocationID</th>\n",
       "      <th>payment_type</th>\n",
       "      <th>extra</th>\n",
       "      <th>tip_amount</th>\n",
       "      <th>tolls_amount</th>\n",
       "      <th>improvement_surcharge</th>\n",
       "      <th>total_amount</th>\n",
       "      <th>congestion_surcharge</th>\n",
       "      <th>Airport_fee</th>\n",
       "    </tr>\n",
       "  </thead>\n",
       "  <tbody>\n",
       "    <tr>\n",
       "      <th>24</th>\n",
       "      <td>1</td>\n",
       "      <td>2.0</td>\n",
       "      <td>0.47</td>\n",
       "      <td>1.0</td>\n",
       "      <td>N</td>\n",
       "      <td>34</td>\n",
       "      <td>224</td>\n",
       "      <td>Credit Card</td>\n",
       "      <td>2.5</td>\n",
       "      <td>2.403976</td>\n",
       "      <td>0.0</td>\n",
       "      <td>1.0</td>\n",
       "      <td>13.92</td>\n",
       "      <td>2.5</td>\n",
       "      <td>0.0</td>\n",
       "    </tr>\n",
       "    <tr>\n",
       "      <th>25</th>\n",
       "      <td>0</td>\n",
       "      <td>2.0</td>\n",
       "      <td>4.30</td>\n",
       "      <td>1.0</td>\n",
       "      <td>N</td>\n",
       "      <td>25</td>\n",
       "      <td>225</td>\n",
       "      <td>Cash</td>\n",
       "      <td>2.5</td>\n",
       "      <td>2.898170</td>\n",
       "      <td>0.0</td>\n",
       "      <td>1.0</td>\n",
       "      <td>27.30</td>\n",
       "      <td>2.5</td>\n",
       "      <td>0.0</td>\n",
       "    </tr>\n",
       "    <tr>\n",
       "      <th>27</th>\n",
       "      <td>1</td>\n",
       "      <td>2.0</td>\n",
       "      <td>33.95</td>\n",
       "      <td>3.0</td>\n",
       "      <td>N</td>\n",
       "      <td>223</td>\n",
       "      <td>223</td>\n",
       "      <td>Cash</td>\n",
       "      <td>2.5</td>\n",
       "      <td>3.177106</td>\n",
       "      <td>29.0</td>\n",
       "      <td>1.0</td>\n",
       "      <td>194.80</td>\n",
       "      <td>0.0</td>\n",
       "      <td>0.0</td>\n",
       "    </tr>\n",
       "    <tr>\n",
       "      <th>34</th>\n",
       "      <td>1</td>\n",
       "      <td>2.0</td>\n",
       "      <td>3.29</td>\n",
       "      <td>1.0</td>\n",
       "      <td>N</td>\n",
       "      <td>192</td>\n",
       "      <td>113</td>\n",
       "      <td>Credit Card</td>\n",
       "      <td>0.0</td>\n",
       "      <td>2.684438</td>\n",
       "      <td>0.0</td>\n",
       "      <td>1.0</td>\n",
       "      <td>29.30</td>\n",
       "      <td>2.5</td>\n",
       "      <td>0.0</td>\n",
       "    </tr>\n",
       "    <tr>\n",
       "      <th>37</th>\n",
       "      <td>0</td>\n",
       "      <td>2.0</td>\n",
       "      <td>1.60</td>\n",
       "      <td>1.0</td>\n",
       "      <td>N</td>\n",
       "      <td>93</td>\n",
       "      <td>254</td>\n",
       "      <td>Cash</td>\n",
       "      <td>5.0</td>\n",
       "      <td>2.282790</td>\n",
       "      <td>0.0</td>\n",
       "      <td>1.0</td>\n",
       "      <td>17.20</td>\n",
       "      <td>2.5</td>\n",
       "      <td>0.0</td>\n",
       "    </tr>\n",
       "    <tr>\n",
       "      <th>...</th>\n",
       "      <td>...</td>\n",
       "      <td>...</td>\n",
       "      <td>...</td>\n",
       "      <td>...</td>\n",
       "      <td>...</td>\n",
       "      <td>...</td>\n",
       "      <td>...</td>\n",
       "      <td>...</td>\n",
       "      <td>...</td>\n",
       "      <td>...</td>\n",
       "      <td>...</td>\n",
       "      <td>...</td>\n",
       "      <td>...</td>\n",
       "      <td>...</td>\n",
       "      <td>...</td>\n",
       "    </tr>\n",
       "    <tr>\n",
       "      <th>174962</th>\n",
       "      <td>1</td>\n",
       "      <td>2.0</td>\n",
       "      <td>1.76</td>\n",
       "      <td>1.0</td>\n",
       "      <td>N</td>\n",
       "      <td>92</td>\n",
       "      <td>75</td>\n",
       "      <td>Credit Card</td>\n",
       "      <td>0.0</td>\n",
       "      <td>8.868153</td>\n",
       "      <td>0.0</td>\n",
       "      <td>1.0</td>\n",
       "      <td>23.52</td>\n",
       "      <td>2.5</td>\n",
       "      <td>0.0</td>\n",
       "    </tr>\n",
       "    <tr>\n",
       "      <th>174969</th>\n",
       "      <td>1</td>\n",
       "      <td>2.0</td>\n",
       "      <td>2.66</td>\n",
       "      <td>1.0</td>\n",
       "      <td>N</td>\n",
       "      <td>176</td>\n",
       "      <td>177</td>\n",
       "      <td>Credit Card</td>\n",
       "      <td>2.5</td>\n",
       "      <td>7.361504</td>\n",
       "      <td>0.0</td>\n",
       "      <td>1.0</td>\n",
       "      <td>27.36</td>\n",
       "      <td>2.5</td>\n",
       "      <td>0.0</td>\n",
       "    </tr>\n",
       "    <tr>\n",
       "      <th>174984</th>\n",
       "      <td>1</td>\n",
       "      <td>2.0</td>\n",
       "      <td>2.69</td>\n",
       "      <td>1.0</td>\n",
       "      <td>N</td>\n",
       "      <td>100</td>\n",
       "      <td>225</td>\n",
       "      <td>Cash</td>\n",
       "      <td>2.5</td>\n",
       "      <td>4.681097</td>\n",
       "      <td>0.0</td>\n",
       "      <td>1.0</td>\n",
       "      <td>24.20</td>\n",
       "      <td>2.5</td>\n",
       "      <td>0.0</td>\n",
       "    </tr>\n",
       "    <tr>\n",
       "      <th>174989</th>\n",
       "      <td>1</td>\n",
       "      <td>2.0</td>\n",
       "      <td>2.47</td>\n",
       "      <td>1.0</td>\n",
       "      <td>N</td>\n",
       "      <td>167</td>\n",
       "      <td>170</td>\n",
       "      <td>Credit Card</td>\n",
       "      <td>2.5</td>\n",
       "      <td>7.028377</td>\n",
       "      <td>0.0</td>\n",
       "      <td>1.0</td>\n",
       "      <td>34.08</td>\n",
       "      <td>2.5</td>\n",
       "      <td>0.0</td>\n",
       "    </tr>\n",
       "    <tr>\n",
       "      <th>174992</th>\n",
       "      <td>1</td>\n",
       "      <td>2.0</td>\n",
       "      <td>0.37</td>\n",
       "      <td>1.0</td>\n",
       "      <td>N</td>\n",
       "      <td>219</td>\n",
       "      <td>67</td>\n",
       "      <td>Cash</td>\n",
       "      <td>-1.0</td>\n",
       "      <td>1.855890</td>\n",
       "      <td>0.0</td>\n",
       "      <td>-1.0</td>\n",
       "      <td>-10.10</td>\n",
       "      <td>-2.5</td>\n",
       "      <td>0.0</td>\n",
       "    </tr>\n",
       "  </tbody>\n",
       "</table>\n",
       "<p>24316 rows × 15 columns</p>\n",
       "</div>"
      ],
      "text/plain": [
       "        VendorID  passenger_count  trip_distance  RatecodeID  \\\n",
       "24             1              2.0           0.47         1.0   \n",
       "25             0              2.0           4.30         1.0   \n",
       "27             1              2.0          33.95         3.0   \n",
       "34             1              2.0           3.29         1.0   \n",
       "37             0              2.0           1.60         1.0   \n",
       "...          ...              ...            ...         ...   \n",
       "174962         1              2.0           1.76         1.0   \n",
       "174969         1              2.0           2.66         1.0   \n",
       "174984         1              2.0           2.69         1.0   \n",
       "174989         1              2.0           2.47         1.0   \n",
       "174992         1              2.0           0.37         1.0   \n",
       "\n",
       "       store_and_fwd_flag  PULocationID  DOLocationID payment_type  extra  \\\n",
       "24                      N            34           224  Credit Card    2.5   \n",
       "25                      N            25           225         Cash    2.5   \n",
       "27                      N           223           223         Cash    2.5   \n",
       "34                      N           192           113  Credit Card    0.0   \n",
       "37                      N            93           254         Cash    5.0   \n",
       "...                   ...           ...           ...          ...    ...   \n",
       "174962                  N            92            75  Credit Card    0.0   \n",
       "174969                  N           176           177  Credit Card    2.5   \n",
       "174984                  N           100           225         Cash    2.5   \n",
       "174989                  N           167           170  Credit Card    2.5   \n",
       "174992                  N           219            67         Cash   -1.0   \n",
       "\n",
       "        tip_amount  tolls_amount  improvement_surcharge  total_amount  \\\n",
       "24        2.403976           0.0                    1.0         13.92   \n",
       "25        2.898170           0.0                    1.0         27.30   \n",
       "27        3.177106          29.0                    1.0        194.80   \n",
       "34        2.684438           0.0                    1.0         29.30   \n",
       "37        2.282790           0.0                    1.0         17.20   \n",
       "...            ...           ...                    ...           ...   \n",
       "174962    8.868153           0.0                    1.0         23.52   \n",
       "174969    7.361504           0.0                    1.0         27.36   \n",
       "174984    4.681097           0.0                    1.0         24.20   \n",
       "174989    7.028377           0.0                    1.0         34.08   \n",
       "174992    1.855890           0.0                   -1.0        -10.10   \n",
       "\n",
       "        congestion_surcharge  Airport_fee  \n",
       "24                       2.5          0.0  \n",
       "25                       2.5          0.0  \n",
       "27                       0.0          0.0  \n",
       "34                       2.5          0.0  \n",
       "37                       2.5          0.0  \n",
       "...                      ...          ...  \n",
       "174962                   2.5          0.0  \n",
       "174969                   2.5          0.0  \n",
       "174984                   2.5          0.0  \n",
       "174989                   2.5          0.0  \n",
       "174992                  -2.5          0.0  \n",
       "\n",
       "[24316 rows x 15 columns]"
      ]
     },
     "execution_count": 27,
     "metadata": {},
     "output_type": "execute_result"
    }
   ],
   "source": [
    "fare_data[fare_data['passenger_count']==2.0]"
   ]
  },
  {
   "cell_type": "code",
   "execution_count": 28,
   "id": "d3a67591",
   "metadata": {
    "execution": {
     "iopub.execute_input": "2023-11-26T09:17:13.651573Z",
     "iopub.status.busy": "2023-11-26T09:17:13.650643Z",
     "iopub.status.idle": "2023-11-26T09:17:13.669903Z",
     "shell.execute_reply": "2023-11-26T09:17:13.668653Z"
    },
    "papermill": {
     "duration": 0.0731,
     "end_time": "2023-11-26T09:17:13.672717",
     "exception": false,
     "start_time": "2023-11-26T09:17:13.599617",
     "status": "completed"
    },
    "tags": []
   },
   "outputs": [],
   "source": [
    "fare_data2=fare_data.drop(['total_amount'],axis=1)\n"
   ]
  },
  {
   "cell_type": "code",
   "execution_count": 29,
   "id": "07776eb8",
   "metadata": {
    "execution": {
     "iopub.execute_input": "2023-11-26T09:17:13.775364Z",
     "iopub.status.busy": "2023-11-26T09:17:13.773925Z",
     "iopub.status.idle": "2023-11-26T09:17:13.806756Z",
     "shell.execute_reply": "2023-11-26T09:17:13.805570Z"
    },
    "papermill": {
     "duration": 0.086842,
     "end_time": "2023-11-26T09:17:13.809344",
     "exception": false,
     "start_time": "2023-11-26T09:17:13.722502",
     "status": "completed"
    },
    "tags": []
   },
   "outputs": [
    {
     "data": {
      "text/html": [
       "<div>\n",
       "<style scoped>\n",
       "    .dataframe tbody tr th:only-of-type {\n",
       "        vertical-align: middle;\n",
       "    }\n",
       "\n",
       "    .dataframe tbody tr th {\n",
       "        vertical-align: top;\n",
       "    }\n",
       "\n",
       "    .dataframe thead th {\n",
       "        text-align: right;\n",
       "    }\n",
       "</style>\n",
       "<table border=\"1\" class=\"dataframe\">\n",
       "  <thead>\n",
       "    <tr style=\"text-align: right;\">\n",
       "      <th></th>\n",
       "      <th>VendorID</th>\n",
       "      <th>passenger_count</th>\n",
       "      <th>trip_distance</th>\n",
       "      <th>RatecodeID</th>\n",
       "      <th>store_and_fwd_flag</th>\n",
       "      <th>PULocationID</th>\n",
       "      <th>DOLocationID</th>\n",
       "      <th>payment_type</th>\n",
       "      <th>extra</th>\n",
       "      <th>tip_amount</th>\n",
       "      <th>tolls_amount</th>\n",
       "      <th>improvement_surcharge</th>\n",
       "      <th>congestion_surcharge</th>\n",
       "      <th>Airport_fee</th>\n",
       "    </tr>\n",
       "  </thead>\n",
       "  <tbody>\n",
       "    <tr>\n",
       "      <th>0</th>\n",
       "      <td>1</td>\n",
       "      <td>1.0</td>\n",
       "      <td>2.14</td>\n",
       "      <td>1.0</td>\n",
       "      <td>N</td>\n",
       "      <td>120</td>\n",
       "      <td>9</td>\n",
       "      <td>Credit Card</td>\n",
       "      <td>2.5</td>\n",
       "      <td>7.165589</td>\n",
       "      <td>0.0</td>\n",
       "      <td>1.0</td>\n",
       "      <td>2.5</td>\n",
       "      <td>0.00</td>\n",
       "    </tr>\n",
       "    <tr>\n",
       "      <th>1</th>\n",
       "      <td>0</td>\n",
       "      <td>1.0</td>\n",
       "      <td>2.70</td>\n",
       "      <td>1.0</td>\n",
       "      <td>N</td>\n",
       "      <td>15</td>\n",
       "      <td>215</td>\n",
       "      <td>Credit Card</td>\n",
       "      <td>3.5</td>\n",
       "      <td>6.067401</td>\n",
       "      <td>0.0</td>\n",
       "      <td>1.0</td>\n",
       "      <td>2.5</td>\n",
       "      <td>0.00</td>\n",
       "    </tr>\n",
       "    <tr>\n",
       "      <th>2</th>\n",
       "      <td>1</td>\n",
       "      <td>1.0</td>\n",
       "      <td>1.15</td>\n",
       "      <td>1.0</td>\n",
       "      <td>N</td>\n",
       "      <td>167</td>\n",
       "      <td>223</td>\n",
       "      <td>Credit Card</td>\n",
       "      <td>0.0</td>\n",
       "      <td>4.111547</td>\n",
       "      <td>0.0</td>\n",
       "      <td>1.0</td>\n",
       "      <td>2.5</td>\n",
       "      <td>0.00</td>\n",
       "    </tr>\n",
       "    <tr>\n",
       "      <th>3</th>\n",
       "      <td>0</td>\n",
       "      <td>1.0</td>\n",
       "      <td>0.40</td>\n",
       "      <td>1.0</td>\n",
       "      <td>N</td>\n",
       "      <td>128</td>\n",
       "      <td>239</td>\n",
       "      <td>Credit Card</td>\n",
       "      <td>2.5</td>\n",
       "      <td>6.411079</td>\n",
       "      <td>0.0</td>\n",
       "      <td>1.0</td>\n",
       "      <td>2.5</td>\n",
       "      <td>0.00</td>\n",
       "    </tr>\n",
       "    <tr>\n",
       "      <th>4</th>\n",
       "      <td>1</td>\n",
       "      <td>3.0</td>\n",
       "      <td>1.10</td>\n",
       "      <td>1.0</td>\n",
       "      <td>N</td>\n",
       "      <td>203</td>\n",
       "      <td>52</td>\n",
       "      <td>Credit Card</td>\n",
       "      <td>1.0</td>\n",
       "      <td>4.769377</td>\n",
       "      <td>0.0</td>\n",
       "      <td>1.0</td>\n",
       "      <td>2.5</td>\n",
       "      <td>0.00</td>\n",
       "    </tr>\n",
       "    <tr>\n",
       "      <th>...</th>\n",
       "      <td>...</td>\n",
       "      <td>...</td>\n",
       "      <td>...</td>\n",
       "      <td>...</td>\n",
       "      <td>...</td>\n",
       "      <td>...</td>\n",
       "      <td>...</td>\n",
       "      <td>...</td>\n",
       "      <td>...</td>\n",
       "      <td>...</td>\n",
       "      <td>...</td>\n",
       "      <td>...</td>\n",
       "      <td>...</td>\n",
       "      <td>...</td>\n",
       "    </tr>\n",
       "    <tr>\n",
       "      <th>174995</th>\n",
       "      <td>1</td>\n",
       "      <td>3.0</td>\n",
       "      <td>3.45</td>\n",
       "      <td>1.0</td>\n",
       "      <td>N</td>\n",
       "      <td>147</td>\n",
       "      <td>167</td>\n",
       "      <td>Credit Card</td>\n",
       "      <td>1.0</td>\n",
       "      <td>8.732495</td>\n",
       "      <td>0.0</td>\n",
       "      <td>1.0</td>\n",
       "      <td>2.5</td>\n",
       "      <td>0.00</td>\n",
       "    </tr>\n",
       "    <tr>\n",
       "      <th>174996</th>\n",
       "      <td>1</td>\n",
       "      <td>1.0</td>\n",
       "      <td>9.44</td>\n",
       "      <td>1.0</td>\n",
       "      <td>N</td>\n",
       "      <td>154</td>\n",
       "      <td>191</td>\n",
       "      <td>Cash</td>\n",
       "      <td>5.0</td>\n",
       "      <td>0.283275</td>\n",
       "      <td>0.0</td>\n",
       "      <td>1.0</td>\n",
       "      <td>2.5</td>\n",
       "      <td>1.75</td>\n",
       "    </tr>\n",
       "    <tr>\n",
       "      <th>174997</th>\n",
       "      <td>0</td>\n",
       "      <td>1.0</td>\n",
       "      <td>2.40</td>\n",
       "      <td>1.0</td>\n",
       "      <td>N</td>\n",
       "      <td>168</td>\n",
       "      <td>106</td>\n",
       "      <td>Credit Card</td>\n",
       "      <td>2.5</td>\n",
       "      <td>4.245354</td>\n",
       "      <td>0.0</td>\n",
       "      <td>1.0</td>\n",
       "      <td>2.5</td>\n",
       "      <td>0.00</td>\n",
       "    </tr>\n",
       "    <tr>\n",
       "      <th>174998</th>\n",
       "      <td>1</td>\n",
       "      <td>1.0</td>\n",
       "      <td>4.71</td>\n",
       "      <td>1.0</td>\n",
       "      <td>N</td>\n",
       "      <td>240</td>\n",
       "      <td>100</td>\n",
       "      <td>Credit Card</td>\n",
       "      <td>2.5</td>\n",
       "      <td>10.479776</td>\n",
       "      <td>0.0</td>\n",
       "      <td>1.0</td>\n",
       "      <td>2.5</td>\n",
       "      <td>0.00</td>\n",
       "    </tr>\n",
       "    <tr>\n",
       "      <th>174999</th>\n",
       "      <td>1</td>\n",
       "      <td>1.0</td>\n",
       "      <td>1.01</td>\n",
       "      <td>1.0</td>\n",
       "      <td>N</td>\n",
       "      <td>153</td>\n",
       "      <td>72</td>\n",
       "      <td>Credit Card</td>\n",
       "      <td>1.0</td>\n",
       "      <td>6.541699</td>\n",
       "      <td>0.0</td>\n",
       "      <td>1.0</td>\n",
       "      <td>2.5</td>\n",
       "      <td>0.00</td>\n",
       "    </tr>\n",
       "  </tbody>\n",
       "</table>\n",
       "<p>175000 rows × 14 columns</p>\n",
       "</div>"
      ],
      "text/plain": [
       "        VendorID  passenger_count  trip_distance  RatecodeID  \\\n",
       "0              1              1.0           2.14         1.0   \n",
       "1              0              1.0           2.70         1.0   \n",
       "2              1              1.0           1.15         1.0   \n",
       "3              0              1.0           0.40         1.0   \n",
       "4              1              3.0           1.10         1.0   \n",
       "...          ...              ...            ...         ...   \n",
       "174995         1              3.0           3.45         1.0   \n",
       "174996         1              1.0           9.44         1.0   \n",
       "174997         0              1.0           2.40         1.0   \n",
       "174998         1              1.0           4.71         1.0   \n",
       "174999         1              1.0           1.01         1.0   \n",
       "\n",
       "       store_and_fwd_flag  PULocationID  DOLocationID payment_type  extra  \\\n",
       "0                       N           120             9  Credit Card    2.5   \n",
       "1                       N            15           215  Credit Card    3.5   \n",
       "2                       N           167           223  Credit Card    0.0   \n",
       "3                       N           128           239  Credit Card    2.5   \n",
       "4                       N           203            52  Credit Card    1.0   \n",
       "...                   ...           ...           ...          ...    ...   \n",
       "174995                  N           147           167  Credit Card    1.0   \n",
       "174996                  N           154           191         Cash    5.0   \n",
       "174997                  N           168           106  Credit Card    2.5   \n",
       "174998                  N           240           100  Credit Card    2.5   \n",
       "174999                  N           153            72  Credit Card    1.0   \n",
       "\n",
       "        tip_amount  tolls_amount  improvement_surcharge  congestion_surcharge  \\\n",
       "0         7.165589           0.0                    1.0                   2.5   \n",
       "1         6.067401           0.0                    1.0                   2.5   \n",
       "2         4.111547           0.0                    1.0                   2.5   \n",
       "3         6.411079           0.0                    1.0                   2.5   \n",
       "4         4.769377           0.0                    1.0                   2.5   \n",
       "...            ...           ...                    ...                   ...   \n",
       "174995    8.732495           0.0                    1.0                   2.5   \n",
       "174996    0.283275           0.0                    1.0                   2.5   \n",
       "174997    4.245354           0.0                    1.0                   2.5   \n",
       "174998   10.479776           0.0                    1.0                   2.5   \n",
       "174999    6.541699           0.0                    1.0                   2.5   \n",
       "\n",
       "        Airport_fee  \n",
       "0              0.00  \n",
       "1              0.00  \n",
       "2              0.00  \n",
       "3              0.00  \n",
       "4              0.00  \n",
       "...             ...  \n",
       "174995         0.00  \n",
       "174996         1.75  \n",
       "174997         0.00  \n",
       "174998         0.00  \n",
       "174999         0.00  \n",
       "\n",
       "[175000 rows x 14 columns]"
      ]
     },
     "execution_count": 29,
     "metadata": {},
     "output_type": "execute_result"
    }
   ],
   "source": [
    "fare_data2"
   ]
  },
  {
   "cell_type": "code",
   "execution_count": 30,
   "id": "204d5e92",
   "metadata": {
    "execution": {
     "iopub.execute_input": "2023-11-26T09:17:13.915316Z",
     "iopub.status.busy": "2023-11-26T09:17:13.914853Z",
     "iopub.status.idle": "2023-11-26T09:17:14.487938Z",
     "shell.execute_reply": "2023-11-26T09:17:14.486878Z"
    },
    "papermill": {
     "duration": 0.628191,
     "end_time": "2023-11-26T09:17:14.490836",
     "exception": false,
     "start_time": "2023-11-26T09:17:13.862645",
     "status": "completed"
    },
    "tags": []
   },
   "outputs": [],
   "source": [
    "# Define a numerical pipeline to handle missing values with median and scale features\n",
    "num_pipline=ColumnTransformer(transformers=[('impute',SimpleImputer(strategy='median'),[0,1,2,3,5,6,8,9,10,11,12,13])])\n",
    "scale_pipe=Pipeline(steps=[('numeric',num_pipline),\n",
    "                          ('scale',StandardScaler())])\n",
    "cat_pipeline=ColumnTransformer(transformers=[('cat',OrdinalEncoder(),[4,7])])\n",
    "complete_pipe=FeatureUnion([('numeric',scale_pipe),('cat',cat_pipeline)])\n",
    "pipe=Pipeline(steps=[('cp',complete_pipe),\n",
    "             ('imputer',SimpleImputer())])\n",
    "# Create the final preprocessing pipeline including imputation\n",
    "transformed_fare_data = pipe.fit_transform(fare_data2)\n",
    "# Define column names for the transformed data\n",
    "column_names = ['VendorID','passenger_count', 'trip_distance', 'RatecodeID','PULocationID','DOLocationID','extra', 'tip_amount', 'tolls_amount','improvement_surcharge','congestion_surcharge','Airport_fee','store_and_fwd_flag','payment_type']\n",
    "\n",
    "# Creating a DataFrame\n",
    "transformed_fare_data = pd.DataFrame(transformed_fare_data, columns=column_names)"
   ]
  },
  {
   "cell_type": "code",
   "execution_count": 31,
   "id": "99a1c1b0",
   "metadata": {
    "execution": {
     "iopub.execute_input": "2023-11-26T09:17:14.595725Z",
     "iopub.status.busy": "2023-11-26T09:17:14.594980Z",
     "iopub.status.idle": "2023-11-26T09:17:14.625657Z",
     "shell.execute_reply": "2023-11-26T09:17:14.624356Z"
    },
    "papermill": {
     "duration": 0.086453,
     "end_time": "2023-11-26T09:17:14.628683",
     "exception": false,
     "start_time": "2023-11-26T09:17:14.542230",
     "status": "completed"
    },
    "tags": []
   },
   "outputs": [
    {
     "data": {
      "text/html": [
       "<div>\n",
       "<style scoped>\n",
       "    .dataframe tbody tr th:only-of-type {\n",
       "        vertical-align: middle;\n",
       "    }\n",
       "\n",
       "    .dataframe tbody tr th {\n",
       "        vertical-align: top;\n",
       "    }\n",
       "\n",
       "    .dataframe thead th {\n",
       "        text-align: right;\n",
       "    }\n",
       "</style>\n",
       "<table border=\"1\" class=\"dataframe\">\n",
       "  <thead>\n",
       "    <tr style=\"text-align: right;\">\n",
       "      <th></th>\n",
       "      <th>VendorID</th>\n",
       "      <th>passenger_count</th>\n",
       "      <th>trip_distance</th>\n",
       "      <th>RatecodeID</th>\n",
       "      <th>PULocationID</th>\n",
       "      <th>DOLocationID</th>\n",
       "      <th>extra</th>\n",
       "      <th>tip_amount</th>\n",
       "      <th>tolls_amount</th>\n",
       "      <th>improvement_surcharge</th>\n",
       "      <th>congestion_surcharge</th>\n",
       "      <th>Airport_fee</th>\n",
       "      <th>store_and_fwd_flag</th>\n",
       "      <th>payment_type</th>\n",
       "    </tr>\n",
       "  </thead>\n",
       "  <tbody>\n",
       "    <tr>\n",
       "      <th>0</th>\n",
       "      <td>0.60956</td>\n",
       "      <td>-0.393181</td>\n",
       "      <td>-0.007611</td>\n",
       "      <td>-0.078158</td>\n",
       "      <td>-0.166915</td>\n",
       "      <td>-1.623543</td>\n",
       "      <td>0.291434</td>\n",
       "      <td>0.225142</td>\n",
       "      <td>-0.27781</td>\n",
       "      <td>0.102183</td>\n",
       "      <td>0.302957</td>\n",
       "      <td>-0.304284</td>\n",
       "      <td>0.0</td>\n",
       "      <td>1.0</td>\n",
       "    </tr>\n",
       "    <tr>\n",
       "      <th>1</th>\n",
       "      <td>-1.63458</td>\n",
       "      <td>-0.393181</td>\n",
       "      <td>-0.006193</td>\n",
       "      <td>-0.078158</td>\n",
       "      <td>-1.545798</td>\n",
       "      <td>1.080143</td>\n",
       "      <td>0.804651</td>\n",
       "      <td>-0.013034</td>\n",
       "      <td>-0.27781</td>\n",
       "      <td>0.102183</td>\n",
       "      <td>0.302957</td>\n",
       "      <td>-0.304284</td>\n",
       "      <td>0.0</td>\n",
       "      <td>1.0</td>\n",
       "    </tr>\n",
       "    <tr>\n",
       "      <th>2</th>\n",
       "      <td>0.60956</td>\n",
       "      <td>-0.393181</td>\n",
       "      <td>-0.010117</td>\n",
       "      <td>-0.078158</td>\n",
       "      <td>0.450299</td>\n",
       "      <td>1.185141</td>\n",
       "      <td>-0.991610</td>\n",
       "      <td>-0.437221</td>\n",
       "      <td>-0.27781</td>\n",
       "      <td>0.102183</td>\n",
       "      <td>0.302957</td>\n",
       "      <td>-0.304284</td>\n",
       "      <td>0.0</td>\n",
       "      <td>1.0</td>\n",
       "    </tr>\n",
       "    <tr>\n",
       "      <th>3</th>\n",
       "      <td>-1.63458</td>\n",
       "      <td>-0.393181</td>\n",
       "      <td>-0.012016</td>\n",
       "      <td>-0.078158</td>\n",
       "      <td>-0.061857</td>\n",
       "      <td>1.395136</td>\n",
       "      <td>0.291434</td>\n",
       "      <td>0.061504</td>\n",
       "      <td>-0.27781</td>\n",
       "      <td>0.102183</td>\n",
       "      <td>0.302957</td>\n",
       "      <td>-0.304284</td>\n",
       "      <td>0.0</td>\n",
       "      <td>1.0</td>\n",
       "    </tr>\n",
       "    <tr>\n",
       "      <th>4</th>\n",
       "      <td>0.60956</td>\n",
       "      <td>1.884429</td>\n",
       "      <td>-0.010244</td>\n",
       "      <td>-0.078158</td>\n",
       "      <td>0.923059</td>\n",
       "      <td>-1.059181</td>\n",
       "      <td>-0.478392</td>\n",
       "      <td>-0.294551</td>\n",
       "      <td>-0.27781</td>\n",
       "      <td>0.102183</td>\n",
       "      <td>0.302957</td>\n",
       "      <td>-0.304284</td>\n",
       "      <td>0.0</td>\n",
       "      <td>1.0</td>\n",
       "    </tr>\n",
       "    <tr>\n",
       "      <th>...</th>\n",
       "      <td>...</td>\n",
       "      <td>...</td>\n",
       "      <td>...</td>\n",
       "      <td>...</td>\n",
       "      <td>...</td>\n",
       "      <td>...</td>\n",
       "      <td>...</td>\n",
       "      <td>...</td>\n",
       "      <td>...</td>\n",
       "      <td>...</td>\n",
       "      <td>...</td>\n",
       "      <td>...</td>\n",
       "      <td>...</td>\n",
       "      <td>...</td>\n",
       "    </tr>\n",
       "    <tr>\n",
       "      <th>174995</th>\n",
       "      <td>0.60956</td>\n",
       "      <td>1.884429</td>\n",
       "      <td>-0.004294</td>\n",
       "      <td>-0.078158</td>\n",
       "      <td>0.187655</td>\n",
       "      <td>0.450158</td>\n",
       "      <td>-0.478392</td>\n",
       "      <td>0.564975</td>\n",
       "      <td>-0.27781</td>\n",
       "      <td>0.102183</td>\n",
       "      <td>0.302957</td>\n",
       "      <td>-0.304284</td>\n",
       "      <td>0.0</td>\n",
       "      <td>1.0</td>\n",
       "    </tr>\n",
       "    <tr>\n",
       "      <th>174996</th>\n",
       "      <td>0.60956</td>\n",
       "      <td>-0.393181</td>\n",
       "      <td>0.010872</td>\n",
       "      <td>-0.078158</td>\n",
       "      <td>0.279580</td>\n",
       "      <td>0.765151</td>\n",
       "      <td>1.574478</td>\n",
       "      <td>-1.267501</td>\n",
       "      <td>-0.27781</td>\n",
       "      <td>0.102183</td>\n",
       "      <td>0.302957</td>\n",
       "      <td>3.169049</td>\n",
       "      <td>0.0</td>\n",
       "      <td>0.0</td>\n",
       "    </tr>\n",
       "    <tr>\n",
       "      <th>174997</th>\n",
       "      <td>-1.63458</td>\n",
       "      <td>-0.393181</td>\n",
       "      <td>-0.006952</td>\n",
       "      <td>-0.078158</td>\n",
       "      <td>0.463432</td>\n",
       "      <td>-0.350448</td>\n",
       "      <td>0.291434</td>\n",
       "      <td>-0.408201</td>\n",
       "      <td>-0.27781</td>\n",
       "      <td>0.102183</td>\n",
       "      <td>0.302957</td>\n",
       "      <td>-0.304284</td>\n",
       "      <td>0.0</td>\n",
       "      <td>1.0</td>\n",
       "    </tr>\n",
       "    <tr>\n",
       "      <th>174998</th>\n",
       "      <td>0.60956</td>\n",
       "      <td>-0.393181</td>\n",
       "      <td>-0.001104</td>\n",
       "      <td>-0.078158</td>\n",
       "      <td>1.408951</td>\n",
       "      <td>-0.429196</td>\n",
       "      <td>0.291434</td>\n",
       "      <td>0.943927</td>\n",
       "      <td>-0.27781</td>\n",
       "      <td>0.102183</td>\n",
       "      <td>0.302957</td>\n",
       "      <td>-0.304284</td>\n",
       "      <td>0.0</td>\n",
       "      <td>1.0</td>\n",
       "    </tr>\n",
       "    <tr>\n",
       "      <th>174999</th>\n",
       "      <td>0.60956</td>\n",
       "      <td>-0.393181</td>\n",
       "      <td>-0.010472</td>\n",
       "      <td>-0.078158</td>\n",
       "      <td>0.266448</td>\n",
       "      <td>-0.796687</td>\n",
       "      <td>-0.478392</td>\n",
       "      <td>0.089833</td>\n",
       "      <td>-0.27781</td>\n",
       "      <td>0.102183</td>\n",
       "      <td>0.302957</td>\n",
       "      <td>-0.304284</td>\n",
       "      <td>0.0</td>\n",
       "      <td>1.0</td>\n",
       "    </tr>\n",
       "  </tbody>\n",
       "</table>\n",
       "<p>175000 rows × 14 columns</p>\n",
       "</div>"
      ],
      "text/plain": [
       "        VendorID  passenger_count  trip_distance  RatecodeID  PULocationID  \\\n",
       "0        0.60956        -0.393181      -0.007611   -0.078158     -0.166915   \n",
       "1       -1.63458        -0.393181      -0.006193   -0.078158     -1.545798   \n",
       "2        0.60956        -0.393181      -0.010117   -0.078158      0.450299   \n",
       "3       -1.63458        -0.393181      -0.012016   -0.078158     -0.061857   \n",
       "4        0.60956         1.884429      -0.010244   -0.078158      0.923059   \n",
       "...          ...              ...            ...         ...           ...   \n",
       "174995   0.60956         1.884429      -0.004294   -0.078158      0.187655   \n",
       "174996   0.60956        -0.393181       0.010872   -0.078158      0.279580   \n",
       "174997  -1.63458        -0.393181      -0.006952   -0.078158      0.463432   \n",
       "174998   0.60956        -0.393181      -0.001104   -0.078158      1.408951   \n",
       "174999   0.60956        -0.393181      -0.010472   -0.078158      0.266448   \n",
       "\n",
       "        DOLocationID     extra  tip_amount  tolls_amount  \\\n",
       "0          -1.623543  0.291434    0.225142      -0.27781   \n",
       "1           1.080143  0.804651   -0.013034      -0.27781   \n",
       "2           1.185141 -0.991610   -0.437221      -0.27781   \n",
       "3           1.395136  0.291434    0.061504      -0.27781   \n",
       "4          -1.059181 -0.478392   -0.294551      -0.27781   \n",
       "...              ...       ...         ...           ...   \n",
       "174995      0.450158 -0.478392    0.564975      -0.27781   \n",
       "174996      0.765151  1.574478   -1.267501      -0.27781   \n",
       "174997     -0.350448  0.291434   -0.408201      -0.27781   \n",
       "174998     -0.429196  0.291434    0.943927      -0.27781   \n",
       "174999     -0.796687 -0.478392    0.089833      -0.27781   \n",
       "\n",
       "        improvement_surcharge  congestion_surcharge  Airport_fee  \\\n",
       "0                    0.102183              0.302957    -0.304284   \n",
       "1                    0.102183              0.302957    -0.304284   \n",
       "2                    0.102183              0.302957    -0.304284   \n",
       "3                    0.102183              0.302957    -0.304284   \n",
       "4                    0.102183              0.302957    -0.304284   \n",
       "...                       ...                   ...          ...   \n",
       "174995               0.102183              0.302957    -0.304284   \n",
       "174996               0.102183              0.302957     3.169049   \n",
       "174997               0.102183              0.302957    -0.304284   \n",
       "174998               0.102183              0.302957    -0.304284   \n",
       "174999               0.102183              0.302957    -0.304284   \n",
       "\n",
       "        store_and_fwd_flag  payment_type  \n",
       "0                      0.0           1.0  \n",
       "1                      0.0           1.0  \n",
       "2                      0.0           1.0  \n",
       "3                      0.0           1.0  \n",
       "4                      0.0           1.0  \n",
       "...                    ...           ...  \n",
       "174995                 0.0           1.0  \n",
       "174996                 0.0           0.0  \n",
       "174997                 0.0           1.0  \n",
       "174998                 0.0           1.0  \n",
       "174999                 0.0           1.0  \n",
       "\n",
       "[175000 rows x 14 columns]"
      ]
     },
     "execution_count": 31,
     "metadata": {},
     "output_type": "execute_result"
    }
   ],
   "source": [
    "transformed_fare_data"
   ]
  },
  {
   "cell_type": "code",
   "execution_count": 32,
   "id": "789f9cd1",
   "metadata": {
    "execution": {
     "iopub.execute_input": "2023-11-26T09:17:14.732906Z",
     "iopub.status.busy": "2023-11-26T09:17:14.732166Z",
     "iopub.status.idle": "2023-11-26T09:17:14.750755Z",
     "shell.execute_reply": "2023-11-26T09:17:14.749175Z"
    },
    "papermill": {
     "duration": 0.073713,
     "end_time": "2023-11-26T09:17:14.753480",
     "exception": false,
     "start_time": "2023-11-26T09:17:14.679767",
     "status": "completed"
    },
    "tags": []
   },
   "outputs": [
    {
     "data": {
      "text/plain": [
       "VendorID                 0\n",
       "passenger_count          0\n",
       "trip_distance            0\n",
       "RatecodeID               0\n",
       "PULocationID             0\n",
       "DOLocationID             0\n",
       "extra                    0\n",
       "tip_amount               0\n",
       "tolls_amount             0\n",
       "improvement_surcharge    0\n",
       "congestion_surcharge     0\n",
       "Airport_fee              0\n",
       "store_and_fwd_flag       0\n",
       "payment_type             0\n",
       "dtype: int64"
      ]
     },
     "execution_count": 32,
     "metadata": {},
     "output_type": "execute_result"
    }
   ],
   "source": [
    "transformed_fare_data.isna().sum()"
   ]
  },
  {
   "cell_type": "markdown",
   "id": "c62e2c31",
   "metadata": {
    "papermill": {
     "duration": 0.054017,
     "end_time": "2023-11-26T09:17:14.859812",
     "exception": false,
     "start_time": "2023-11-26T09:17:14.805795",
     "status": "completed"
    },
    "tags": []
   },
   "source": [
    "# Model Building"
   ]
  },
  {
   "cell_type": "code",
   "execution_count": 33,
   "id": "a3e2c2e6",
   "metadata": {
    "execution": {
     "iopub.execute_input": "2023-11-26T09:17:14.963518Z",
     "iopub.status.busy": "2023-11-26T09:17:14.962690Z",
     "iopub.status.idle": "2023-11-26T09:17:14.969216Z",
     "shell.execute_reply": "2023-11-26T09:17:14.968387Z"
    },
    "papermill": {
     "duration": 0.061004,
     "end_time": "2023-11-26T09:17:14.971779",
     "exception": false,
     "start_time": "2023-11-26T09:17:14.910775",
     "status": "completed"
    },
    "tags": []
   },
   "outputs": [],
   "source": [
    "x=transformed_fare_data\n",
    "y=fare_data[['total_amount']]"
   ]
  },
  {
   "cell_type": "code",
   "execution_count": 34,
   "id": "fd940ba5",
   "metadata": {
    "execution": {
     "iopub.execute_input": "2023-11-26T09:17:15.074701Z",
     "iopub.status.busy": "2023-11-26T09:17:15.073741Z",
     "iopub.status.idle": "2023-11-26T09:17:15.102454Z",
     "shell.execute_reply": "2023-11-26T09:17:15.101120Z"
    },
    "papermill": {
     "duration": 0.083159,
     "end_time": "2023-11-26T09:17:15.105063",
     "exception": false,
     "start_time": "2023-11-26T09:17:15.021904",
     "status": "completed"
    },
    "tags": []
   },
   "outputs": [
    {
     "data": {
      "text/html": [
       "<div>\n",
       "<style scoped>\n",
       "    .dataframe tbody tr th:only-of-type {\n",
       "        vertical-align: middle;\n",
       "    }\n",
       "\n",
       "    .dataframe tbody tr th {\n",
       "        vertical-align: top;\n",
       "    }\n",
       "\n",
       "    .dataframe thead th {\n",
       "        text-align: right;\n",
       "    }\n",
       "</style>\n",
       "<table border=\"1\" class=\"dataframe\">\n",
       "  <thead>\n",
       "    <tr style=\"text-align: right;\">\n",
       "      <th></th>\n",
       "      <th>VendorID</th>\n",
       "      <th>passenger_count</th>\n",
       "      <th>trip_distance</th>\n",
       "      <th>RatecodeID</th>\n",
       "      <th>PULocationID</th>\n",
       "      <th>DOLocationID</th>\n",
       "      <th>extra</th>\n",
       "      <th>tip_amount</th>\n",
       "      <th>tolls_amount</th>\n",
       "      <th>improvement_surcharge</th>\n",
       "      <th>congestion_surcharge</th>\n",
       "      <th>Airport_fee</th>\n",
       "      <th>store_and_fwd_flag</th>\n",
       "      <th>payment_type</th>\n",
       "    </tr>\n",
       "  </thead>\n",
       "  <tbody>\n",
       "    <tr>\n",
       "      <th>0</th>\n",
       "      <td>0.60956</td>\n",
       "      <td>-0.393181</td>\n",
       "      <td>-0.007611</td>\n",
       "      <td>-0.078158</td>\n",
       "      <td>-0.166915</td>\n",
       "      <td>-1.623543</td>\n",
       "      <td>0.291434</td>\n",
       "      <td>0.225142</td>\n",
       "      <td>-0.27781</td>\n",
       "      <td>0.102183</td>\n",
       "      <td>0.302957</td>\n",
       "      <td>-0.304284</td>\n",
       "      <td>0.0</td>\n",
       "      <td>1.0</td>\n",
       "    </tr>\n",
       "    <tr>\n",
       "      <th>1</th>\n",
       "      <td>-1.63458</td>\n",
       "      <td>-0.393181</td>\n",
       "      <td>-0.006193</td>\n",
       "      <td>-0.078158</td>\n",
       "      <td>-1.545798</td>\n",
       "      <td>1.080143</td>\n",
       "      <td>0.804651</td>\n",
       "      <td>-0.013034</td>\n",
       "      <td>-0.27781</td>\n",
       "      <td>0.102183</td>\n",
       "      <td>0.302957</td>\n",
       "      <td>-0.304284</td>\n",
       "      <td>0.0</td>\n",
       "      <td>1.0</td>\n",
       "    </tr>\n",
       "    <tr>\n",
       "      <th>2</th>\n",
       "      <td>0.60956</td>\n",
       "      <td>-0.393181</td>\n",
       "      <td>-0.010117</td>\n",
       "      <td>-0.078158</td>\n",
       "      <td>0.450299</td>\n",
       "      <td>1.185141</td>\n",
       "      <td>-0.991610</td>\n",
       "      <td>-0.437221</td>\n",
       "      <td>-0.27781</td>\n",
       "      <td>0.102183</td>\n",
       "      <td>0.302957</td>\n",
       "      <td>-0.304284</td>\n",
       "      <td>0.0</td>\n",
       "      <td>1.0</td>\n",
       "    </tr>\n",
       "    <tr>\n",
       "      <th>3</th>\n",
       "      <td>-1.63458</td>\n",
       "      <td>-0.393181</td>\n",
       "      <td>-0.012016</td>\n",
       "      <td>-0.078158</td>\n",
       "      <td>-0.061857</td>\n",
       "      <td>1.395136</td>\n",
       "      <td>0.291434</td>\n",
       "      <td>0.061504</td>\n",
       "      <td>-0.27781</td>\n",
       "      <td>0.102183</td>\n",
       "      <td>0.302957</td>\n",
       "      <td>-0.304284</td>\n",
       "      <td>0.0</td>\n",
       "      <td>1.0</td>\n",
       "    </tr>\n",
       "    <tr>\n",
       "      <th>4</th>\n",
       "      <td>0.60956</td>\n",
       "      <td>1.884429</td>\n",
       "      <td>-0.010244</td>\n",
       "      <td>-0.078158</td>\n",
       "      <td>0.923059</td>\n",
       "      <td>-1.059181</td>\n",
       "      <td>-0.478392</td>\n",
       "      <td>-0.294551</td>\n",
       "      <td>-0.27781</td>\n",
       "      <td>0.102183</td>\n",
       "      <td>0.302957</td>\n",
       "      <td>-0.304284</td>\n",
       "      <td>0.0</td>\n",
       "      <td>1.0</td>\n",
       "    </tr>\n",
       "    <tr>\n",
       "      <th>...</th>\n",
       "      <td>...</td>\n",
       "      <td>...</td>\n",
       "      <td>...</td>\n",
       "      <td>...</td>\n",
       "      <td>...</td>\n",
       "      <td>...</td>\n",
       "      <td>...</td>\n",
       "      <td>...</td>\n",
       "      <td>...</td>\n",
       "      <td>...</td>\n",
       "      <td>...</td>\n",
       "      <td>...</td>\n",
       "      <td>...</td>\n",
       "      <td>...</td>\n",
       "    </tr>\n",
       "    <tr>\n",
       "      <th>174995</th>\n",
       "      <td>0.60956</td>\n",
       "      <td>1.884429</td>\n",
       "      <td>-0.004294</td>\n",
       "      <td>-0.078158</td>\n",
       "      <td>0.187655</td>\n",
       "      <td>0.450158</td>\n",
       "      <td>-0.478392</td>\n",
       "      <td>0.564975</td>\n",
       "      <td>-0.27781</td>\n",
       "      <td>0.102183</td>\n",
       "      <td>0.302957</td>\n",
       "      <td>-0.304284</td>\n",
       "      <td>0.0</td>\n",
       "      <td>1.0</td>\n",
       "    </tr>\n",
       "    <tr>\n",
       "      <th>174996</th>\n",
       "      <td>0.60956</td>\n",
       "      <td>-0.393181</td>\n",
       "      <td>0.010872</td>\n",
       "      <td>-0.078158</td>\n",
       "      <td>0.279580</td>\n",
       "      <td>0.765151</td>\n",
       "      <td>1.574478</td>\n",
       "      <td>-1.267501</td>\n",
       "      <td>-0.27781</td>\n",
       "      <td>0.102183</td>\n",
       "      <td>0.302957</td>\n",
       "      <td>3.169049</td>\n",
       "      <td>0.0</td>\n",
       "      <td>0.0</td>\n",
       "    </tr>\n",
       "    <tr>\n",
       "      <th>174997</th>\n",
       "      <td>-1.63458</td>\n",
       "      <td>-0.393181</td>\n",
       "      <td>-0.006952</td>\n",
       "      <td>-0.078158</td>\n",
       "      <td>0.463432</td>\n",
       "      <td>-0.350448</td>\n",
       "      <td>0.291434</td>\n",
       "      <td>-0.408201</td>\n",
       "      <td>-0.27781</td>\n",
       "      <td>0.102183</td>\n",
       "      <td>0.302957</td>\n",
       "      <td>-0.304284</td>\n",
       "      <td>0.0</td>\n",
       "      <td>1.0</td>\n",
       "    </tr>\n",
       "    <tr>\n",
       "      <th>174998</th>\n",
       "      <td>0.60956</td>\n",
       "      <td>-0.393181</td>\n",
       "      <td>-0.001104</td>\n",
       "      <td>-0.078158</td>\n",
       "      <td>1.408951</td>\n",
       "      <td>-0.429196</td>\n",
       "      <td>0.291434</td>\n",
       "      <td>0.943927</td>\n",
       "      <td>-0.27781</td>\n",
       "      <td>0.102183</td>\n",
       "      <td>0.302957</td>\n",
       "      <td>-0.304284</td>\n",
       "      <td>0.0</td>\n",
       "      <td>1.0</td>\n",
       "    </tr>\n",
       "    <tr>\n",
       "      <th>174999</th>\n",
       "      <td>0.60956</td>\n",
       "      <td>-0.393181</td>\n",
       "      <td>-0.010472</td>\n",
       "      <td>-0.078158</td>\n",
       "      <td>0.266448</td>\n",
       "      <td>-0.796687</td>\n",
       "      <td>-0.478392</td>\n",
       "      <td>0.089833</td>\n",
       "      <td>-0.27781</td>\n",
       "      <td>0.102183</td>\n",
       "      <td>0.302957</td>\n",
       "      <td>-0.304284</td>\n",
       "      <td>0.0</td>\n",
       "      <td>1.0</td>\n",
       "    </tr>\n",
       "  </tbody>\n",
       "</table>\n",
       "<p>175000 rows × 14 columns</p>\n",
       "</div>"
      ],
      "text/plain": [
       "        VendorID  passenger_count  trip_distance  RatecodeID  PULocationID  \\\n",
       "0        0.60956        -0.393181      -0.007611   -0.078158     -0.166915   \n",
       "1       -1.63458        -0.393181      -0.006193   -0.078158     -1.545798   \n",
       "2        0.60956        -0.393181      -0.010117   -0.078158      0.450299   \n",
       "3       -1.63458        -0.393181      -0.012016   -0.078158     -0.061857   \n",
       "4        0.60956         1.884429      -0.010244   -0.078158      0.923059   \n",
       "...          ...              ...            ...         ...           ...   \n",
       "174995   0.60956         1.884429      -0.004294   -0.078158      0.187655   \n",
       "174996   0.60956        -0.393181       0.010872   -0.078158      0.279580   \n",
       "174997  -1.63458        -0.393181      -0.006952   -0.078158      0.463432   \n",
       "174998   0.60956        -0.393181      -0.001104   -0.078158      1.408951   \n",
       "174999   0.60956        -0.393181      -0.010472   -0.078158      0.266448   \n",
       "\n",
       "        DOLocationID     extra  tip_amount  tolls_amount  \\\n",
       "0          -1.623543  0.291434    0.225142      -0.27781   \n",
       "1           1.080143  0.804651   -0.013034      -0.27781   \n",
       "2           1.185141 -0.991610   -0.437221      -0.27781   \n",
       "3           1.395136  0.291434    0.061504      -0.27781   \n",
       "4          -1.059181 -0.478392   -0.294551      -0.27781   \n",
       "...              ...       ...         ...           ...   \n",
       "174995      0.450158 -0.478392    0.564975      -0.27781   \n",
       "174996      0.765151  1.574478   -1.267501      -0.27781   \n",
       "174997     -0.350448  0.291434   -0.408201      -0.27781   \n",
       "174998     -0.429196  0.291434    0.943927      -0.27781   \n",
       "174999     -0.796687 -0.478392    0.089833      -0.27781   \n",
       "\n",
       "        improvement_surcharge  congestion_surcharge  Airport_fee  \\\n",
       "0                    0.102183              0.302957    -0.304284   \n",
       "1                    0.102183              0.302957    -0.304284   \n",
       "2                    0.102183              0.302957    -0.304284   \n",
       "3                    0.102183              0.302957    -0.304284   \n",
       "4                    0.102183              0.302957    -0.304284   \n",
       "...                       ...                   ...          ...   \n",
       "174995               0.102183              0.302957    -0.304284   \n",
       "174996               0.102183              0.302957     3.169049   \n",
       "174997               0.102183              0.302957    -0.304284   \n",
       "174998               0.102183              0.302957    -0.304284   \n",
       "174999               0.102183              0.302957    -0.304284   \n",
       "\n",
       "        store_and_fwd_flag  payment_type  \n",
       "0                      0.0           1.0  \n",
       "1                      0.0           1.0  \n",
       "2                      0.0           1.0  \n",
       "3                      0.0           1.0  \n",
       "4                      0.0           1.0  \n",
       "...                    ...           ...  \n",
       "174995                 0.0           1.0  \n",
       "174996                 0.0           0.0  \n",
       "174997                 0.0           1.0  \n",
       "174998                 0.0           1.0  \n",
       "174999                 0.0           1.0  \n",
       "\n",
       "[175000 rows x 14 columns]"
      ]
     },
     "execution_count": 34,
     "metadata": {},
     "output_type": "execute_result"
    }
   ],
   "source": [
    "x"
   ]
  },
  {
   "cell_type": "code",
   "execution_count": 35,
   "id": "7e602de0",
   "metadata": {
    "execution": {
     "iopub.execute_input": "2023-11-26T09:17:15.209866Z",
     "iopub.status.busy": "2023-11-26T09:17:15.209456Z",
     "iopub.status.idle": "2023-11-26T09:17:15.228444Z",
     "shell.execute_reply": "2023-11-26T09:17:15.226808Z"
    },
    "papermill": {
     "duration": 0.074486,
     "end_time": "2023-11-26T09:17:15.231257",
     "exception": false,
     "start_time": "2023-11-26T09:17:15.156771",
     "status": "completed"
    },
    "tags": []
   },
   "outputs": [
    {
     "data": {
      "text/plain": [
       "VendorID                 0\n",
       "passenger_count          0\n",
       "trip_distance            0\n",
       "RatecodeID               0\n",
       "PULocationID             0\n",
       "DOLocationID             0\n",
       "extra                    0\n",
       "tip_amount               0\n",
       "tolls_amount             0\n",
       "improvement_surcharge    0\n",
       "congestion_surcharge     0\n",
       "Airport_fee              0\n",
       "store_and_fwd_flag       0\n",
       "payment_type             0\n",
       "dtype: int64"
      ]
     },
     "execution_count": 35,
     "metadata": {},
     "output_type": "execute_result"
    }
   ],
   "source": [
    "x.isna().sum()"
   ]
  },
  {
   "cell_type": "code",
   "execution_count": 36,
   "id": "8bdef851",
   "metadata": {
    "execution": {
     "iopub.execute_input": "2023-11-26T09:17:15.337623Z",
     "iopub.status.busy": "2023-11-26T09:17:15.336915Z",
     "iopub.status.idle": "2023-11-26T09:17:15.353271Z",
     "shell.execute_reply": "2023-11-26T09:17:15.352332Z"
    },
    "papermill": {
     "duration": 0.07302,
     "end_time": "2023-11-26T09:17:15.355815",
     "exception": false,
     "start_time": "2023-11-26T09:17:15.282795",
     "status": "completed"
    },
    "tags": []
   },
   "outputs": [
    {
     "data": {
      "text/html": [
       "<div>\n",
       "<style scoped>\n",
       "    .dataframe tbody tr th:only-of-type {\n",
       "        vertical-align: middle;\n",
       "    }\n",
       "\n",
       "    .dataframe tbody tr th {\n",
       "        vertical-align: top;\n",
       "    }\n",
       "\n",
       "    .dataframe thead th {\n",
       "        text-align: right;\n",
       "    }\n",
       "</style>\n",
       "<table border=\"1\" class=\"dataframe\">\n",
       "  <thead>\n",
       "    <tr style=\"text-align: right;\">\n",
       "      <th></th>\n",
       "      <th>total_amount</th>\n",
       "    </tr>\n",
       "  </thead>\n",
       "  <tbody>\n",
       "    <tr>\n",
       "      <th>0</th>\n",
       "      <td>20.64</td>\n",
       "    </tr>\n",
       "    <tr>\n",
       "      <th>1</th>\n",
       "      <td>25.55</td>\n",
       "    </tr>\n",
       "    <tr>\n",
       "      <th>2</th>\n",
       "      <td>17.64</td>\n",
       "    </tr>\n",
       "    <tr>\n",
       "      <th>3</th>\n",
       "      <td>12.80</td>\n",
       "    </tr>\n",
       "    <tr>\n",
       "      <th>4</th>\n",
       "      <td>18.00</td>\n",
       "    </tr>\n",
       "    <tr>\n",
       "      <th>5</th>\n",
       "      <td>44.70</td>\n",
       "    </tr>\n",
       "    <tr>\n",
       "      <th>6</th>\n",
       "      <td>18.20</td>\n",
       "    </tr>\n",
       "    <tr>\n",
       "      <th>7</th>\n",
       "      <td>13.70</td>\n",
       "    </tr>\n",
       "    <tr>\n",
       "      <th>8</th>\n",
       "      <td>35.60</td>\n",
       "    </tr>\n",
       "    <tr>\n",
       "      <th>9</th>\n",
       "      <td>23.10</td>\n",
       "    </tr>\n",
       "    <tr>\n",
       "      <th>10</th>\n",
       "      <td>74.40</td>\n",
       "    </tr>\n",
       "    <tr>\n",
       "      <th>11</th>\n",
       "      <td>62.25</td>\n",
       "    </tr>\n",
       "    <tr>\n",
       "      <th>12</th>\n",
       "      <td>10.50</td>\n",
       "    </tr>\n",
       "    <tr>\n",
       "      <th>13</th>\n",
       "      <td>23.50</td>\n",
       "    </tr>\n",
       "    <tr>\n",
       "      <th>14</th>\n",
       "      <td>26.63</td>\n",
       "    </tr>\n",
       "    <tr>\n",
       "      <th>15</th>\n",
       "      <td>27.10</td>\n",
       "    </tr>\n",
       "    <tr>\n",
       "      <th>16</th>\n",
       "      <td>22.65</td>\n",
       "    </tr>\n",
       "    <tr>\n",
       "      <th>17</th>\n",
       "      <td>23.40</td>\n",
       "    </tr>\n",
       "    <tr>\n",
       "      <th>18</th>\n",
       "      <td>25.80</td>\n",
       "    </tr>\n",
       "    <tr>\n",
       "      <th>19</th>\n",
       "      <td>40.90</td>\n",
       "    </tr>\n",
       "    <tr>\n",
       "      <th>20</th>\n",
       "      <td>44.25</td>\n",
       "    </tr>\n",
       "    <tr>\n",
       "      <th>21</th>\n",
       "      <td>28.90</td>\n",
       "    </tr>\n",
       "    <tr>\n",
       "      <th>22</th>\n",
       "      <td>30.03</td>\n",
       "    </tr>\n",
       "    <tr>\n",
       "      <th>23</th>\n",
       "      <td>67.21</td>\n",
       "    </tr>\n",
       "    <tr>\n",
       "      <th>24</th>\n",
       "      <td>13.92</td>\n",
       "    </tr>\n",
       "    <tr>\n",
       "      <th>25</th>\n",
       "      <td>27.30</td>\n",
       "    </tr>\n",
       "    <tr>\n",
       "      <th>26</th>\n",
       "      <td>95.45</td>\n",
       "    </tr>\n",
       "    <tr>\n",
       "      <th>27</th>\n",
       "      <td>194.80</td>\n",
       "    </tr>\n",
       "    <tr>\n",
       "      <th>28</th>\n",
       "      <td>17.50</td>\n",
       "    </tr>\n",
       "    <tr>\n",
       "      <th>29</th>\n",
       "      <td>48.00</td>\n",
       "    </tr>\n",
       "    <tr>\n",
       "      <th>30</th>\n",
       "      <td>18.20</td>\n",
       "    </tr>\n",
       "    <tr>\n",
       "      <th>31</th>\n",
       "      <td>24.36</td>\n",
       "    </tr>\n",
       "    <tr>\n",
       "      <th>32</th>\n",
       "      <td>22.54</td>\n",
       "    </tr>\n",
       "    <tr>\n",
       "      <th>33</th>\n",
       "      <td>26.93</td>\n",
       "    </tr>\n",
       "    <tr>\n",
       "      <th>34</th>\n",
       "      <td>29.30</td>\n",
       "    </tr>\n",
       "    <tr>\n",
       "      <th>35</th>\n",
       "      <td>43.20</td>\n",
       "    </tr>\n",
       "    <tr>\n",
       "      <th>36</th>\n",
       "      <td>98.76</td>\n",
       "    </tr>\n",
       "    <tr>\n",
       "      <th>37</th>\n",
       "      <td>17.20</td>\n",
       "    </tr>\n",
       "    <tr>\n",
       "      <th>38</th>\n",
       "      <td>11.90</td>\n",
       "    </tr>\n",
       "    <tr>\n",
       "      <th>39</th>\n",
       "      <td>24.84</td>\n",
       "    </tr>\n",
       "    <tr>\n",
       "      <th>40</th>\n",
       "      <td>24.40</td>\n",
       "    </tr>\n",
       "    <tr>\n",
       "      <th>41</th>\n",
       "      <td>11.76</td>\n",
       "    </tr>\n",
       "    <tr>\n",
       "      <th>42</th>\n",
       "      <td>85.55</td>\n",
       "    </tr>\n",
       "    <tr>\n",
       "      <th>43</th>\n",
       "      <td>15.12</td>\n",
       "    </tr>\n",
       "    <tr>\n",
       "      <th>44</th>\n",
       "      <td>22.40</td>\n",
       "    </tr>\n",
       "    <tr>\n",
       "      <th>45</th>\n",
       "      <td>18.70</td>\n",
       "    </tr>\n",
       "    <tr>\n",
       "      <th>46</th>\n",
       "      <td>16.61</td>\n",
       "    </tr>\n",
       "    <tr>\n",
       "      <th>47</th>\n",
       "      <td>22.20</td>\n",
       "    </tr>\n",
       "    <tr>\n",
       "      <th>48</th>\n",
       "      <td>68.85</td>\n",
       "    </tr>\n",
       "    <tr>\n",
       "      <th>49</th>\n",
       "      <td>23.88</td>\n",
       "    </tr>\n",
       "  </tbody>\n",
       "</table>\n",
       "</div>"
      ],
      "text/plain": [
       "    total_amount\n",
       "0          20.64\n",
       "1          25.55\n",
       "2          17.64\n",
       "3          12.80\n",
       "4          18.00\n",
       "5          44.70\n",
       "6          18.20\n",
       "7          13.70\n",
       "8          35.60\n",
       "9          23.10\n",
       "10         74.40\n",
       "11         62.25\n",
       "12         10.50\n",
       "13         23.50\n",
       "14         26.63\n",
       "15         27.10\n",
       "16         22.65\n",
       "17         23.40\n",
       "18         25.80\n",
       "19         40.90\n",
       "20         44.25\n",
       "21         28.90\n",
       "22         30.03\n",
       "23         67.21\n",
       "24         13.92\n",
       "25         27.30\n",
       "26         95.45\n",
       "27        194.80\n",
       "28         17.50\n",
       "29         48.00\n",
       "30         18.20\n",
       "31         24.36\n",
       "32         22.54\n",
       "33         26.93\n",
       "34         29.30\n",
       "35         43.20\n",
       "36         98.76\n",
       "37         17.20\n",
       "38         11.90\n",
       "39         24.84\n",
       "40         24.40\n",
       "41         11.76\n",
       "42         85.55\n",
       "43         15.12\n",
       "44         22.40\n",
       "45         18.70\n",
       "46         16.61\n",
       "47         22.20\n",
       "48         68.85\n",
       "49         23.88"
      ]
     },
     "execution_count": 36,
     "metadata": {},
     "output_type": "execute_result"
    }
   ],
   "source": [
    "y.head(50)"
   ]
  },
  {
   "cell_type": "code",
   "execution_count": 37,
   "id": "61c11577",
   "metadata": {
    "execution": {
     "iopub.execute_input": "2023-11-26T09:17:15.462210Z",
     "iopub.status.busy": "2023-11-26T09:17:15.461446Z",
     "iopub.status.idle": "2023-11-26T09:17:15.495960Z",
     "shell.execute_reply": "2023-11-26T09:17:15.494921Z"
    },
    "papermill": {
     "duration": 0.090851,
     "end_time": "2023-11-26T09:17:15.498584",
     "exception": false,
     "start_time": "2023-11-26T09:17:15.407733",
     "status": "completed"
    },
    "tags": []
   },
   "outputs": [],
   "source": [
    "xtrain,xtest,ytrain,ytest=train_test_split(x,y,test_size=.30,random_state=24)"
   ]
  },
  {
   "cell_type": "code",
   "execution_count": 38,
   "id": "fc691248",
   "metadata": {
    "execution": {
     "iopub.execute_input": "2023-11-26T09:17:15.605945Z",
     "iopub.status.busy": "2023-11-26T09:17:15.605395Z",
     "iopub.status.idle": "2023-11-26T09:17:15.612928Z",
     "shell.execute_reply": "2023-11-26T09:17:15.611715Z"
    },
    "papermill": {
     "duration": 0.06339,
     "end_time": "2023-11-26T09:17:15.615510",
     "exception": false,
     "start_time": "2023-11-26T09:17:15.552120",
     "status": "completed"
    },
    "tags": []
   },
   "outputs": [
    {
     "data": {
      "text/plain": [
       "((122500, 14), (122500, 1))"
      ]
     },
     "execution_count": 38,
     "metadata": {},
     "output_type": "execute_result"
    }
   ],
   "source": [
    "xtrain.shape,ytrain.shape"
   ]
  },
  {
   "cell_type": "code",
   "execution_count": 39,
   "id": "1f21629e",
   "metadata": {
    "execution": {
     "iopub.execute_input": "2023-11-26T09:17:15.724593Z",
     "iopub.status.busy": "2023-11-26T09:17:15.724127Z",
     "iopub.status.idle": "2023-11-26T09:17:15.754753Z",
     "shell.execute_reply": "2023-11-26T09:17:15.753474Z"
    },
    "papermill": {
     "duration": 0.088673,
     "end_time": "2023-11-26T09:17:15.757396",
     "exception": false,
     "start_time": "2023-11-26T09:17:15.668723",
     "status": "completed"
    },
    "tags": []
   },
   "outputs": [
    {
     "data": {
      "text/html": [
       "<div>\n",
       "<style scoped>\n",
       "    .dataframe tbody tr th:only-of-type {\n",
       "        vertical-align: middle;\n",
       "    }\n",
       "\n",
       "    .dataframe tbody tr th {\n",
       "        vertical-align: top;\n",
       "    }\n",
       "\n",
       "    .dataframe thead th {\n",
       "        text-align: right;\n",
       "    }\n",
       "</style>\n",
       "<table border=\"1\" class=\"dataframe\">\n",
       "  <thead>\n",
       "    <tr style=\"text-align: right;\">\n",
       "      <th></th>\n",
       "      <th>VendorID</th>\n",
       "      <th>passenger_count</th>\n",
       "      <th>trip_distance</th>\n",
       "      <th>RatecodeID</th>\n",
       "      <th>PULocationID</th>\n",
       "      <th>DOLocationID</th>\n",
       "      <th>extra</th>\n",
       "      <th>tip_amount</th>\n",
       "      <th>tolls_amount</th>\n",
       "      <th>improvement_surcharge</th>\n",
       "      <th>congestion_surcharge</th>\n",
       "      <th>Airport_fee</th>\n",
       "      <th>store_and_fwd_flag</th>\n",
       "      <th>payment_type</th>\n",
       "    </tr>\n",
       "  </thead>\n",
       "  <tbody>\n",
       "    <tr>\n",
       "      <th>46792</th>\n",
       "      <td>0.60956</td>\n",
       "      <td>-0.393181</td>\n",
       "      <td>0.002213</td>\n",
       "      <td>-0.078158</td>\n",
       "      <td>1.435216</td>\n",
       "      <td>-1.216678</td>\n",
       "      <td>-0.478392</td>\n",
       "      <td>1.701703</td>\n",
       "      <td>5.198365</td>\n",
       "      <td>0.102183</td>\n",
       "      <td>-2.798024</td>\n",
       "      <td>-0.304284</td>\n",
       "      <td>0.0</td>\n",
       "      <td>1.0</td>\n",
       "    </tr>\n",
       "    <tr>\n",
       "      <th>68269</th>\n",
       "      <td>0.60956</td>\n",
       "      <td>-0.393181</td>\n",
       "      <td>0.017050</td>\n",
       "      <td>-0.078158</td>\n",
       "      <td>-1.335683</td>\n",
       "      <td>-1.426673</td>\n",
       "      <td>-0.991610</td>\n",
       "      <td>2.341118</td>\n",
       "      <td>-0.277810</td>\n",
       "      <td>0.102183</td>\n",
       "      <td>-2.798024</td>\n",
       "      <td>3.169049</td>\n",
       "      <td>0.0</td>\n",
       "      <td>1.0</td>\n",
       "    </tr>\n",
       "    <tr>\n",
       "      <th>130513</th>\n",
       "      <td>-1.63458</td>\n",
       "      <td>-0.393181</td>\n",
       "      <td>-0.001382</td>\n",
       "      <td>-0.078158</td>\n",
       "      <td>1.080646</td>\n",
       "      <td>-0.678565</td>\n",
       "      <td>0.804651</td>\n",
       "      <td>1.095684</td>\n",
       "      <td>-0.277810</td>\n",
       "      <td>0.102183</td>\n",
       "      <td>0.302957</td>\n",
       "      <td>-0.304284</td>\n",
       "      <td>0.0</td>\n",
       "      <td>1.0</td>\n",
       "    </tr>\n",
       "    <tr>\n",
       "      <th>30180</th>\n",
       "      <td>-1.63458</td>\n",
       "      <td>-0.393181</td>\n",
       "      <td>-0.011256</td>\n",
       "      <td>-0.078158</td>\n",
       "      <td>-0.849791</td>\n",
       "      <td>-0.074829</td>\n",
       "      <td>1.574478</td>\n",
       "      <td>0.296280</td>\n",
       "      <td>-0.277810</td>\n",
       "      <td>0.102183</td>\n",
       "      <td>0.302957</td>\n",
       "      <td>-0.304284</td>\n",
       "      <td>0.0</td>\n",
       "      <td>1.0</td>\n",
       "    </tr>\n",
       "    <tr>\n",
       "      <th>133696</th>\n",
       "      <td>0.60956</td>\n",
       "      <td>-0.393181</td>\n",
       "      <td>-0.012953</td>\n",
       "      <td>0.078062</td>\n",
       "      <td>-1.532666</td>\n",
       "      <td>-0.901685</td>\n",
       "      <td>-0.991610</td>\n",
       "      <td>-1.221604</td>\n",
       "      <td>-0.277810</td>\n",
       "      <td>0.102183</td>\n",
       "      <td>-2.798024</td>\n",
       "      <td>3.169049</td>\n",
       "      <td>0.0</td>\n",
       "      <td>0.0</td>\n",
       "    </tr>\n",
       "    <tr>\n",
       "      <th>...</th>\n",
       "      <td>...</td>\n",
       "      <td>...</td>\n",
       "      <td>...</td>\n",
       "      <td>...</td>\n",
       "      <td>...</td>\n",
       "      <td>...</td>\n",
       "      <td>...</td>\n",
       "      <td>...</td>\n",
       "      <td>...</td>\n",
       "      <td>...</td>\n",
       "      <td>...</td>\n",
       "      <td>...</td>\n",
       "      <td>...</td>\n",
       "      <td>...</td>\n",
       "    </tr>\n",
       "    <tr>\n",
       "      <th>145412</th>\n",
       "      <td>0.60956</td>\n",
       "      <td>-0.393181</td>\n",
       "      <td>0.029405</td>\n",
       "      <td>0.078062</td>\n",
       "      <td>-1.480137</td>\n",
       "      <td>-1.662917</td>\n",
       "      <td>-0.991610</td>\n",
       "      <td>-0.837143</td>\n",
       "      <td>2.535441</td>\n",
       "      <td>0.102183</td>\n",
       "      <td>0.302957</td>\n",
       "      <td>-0.304284</td>\n",
       "      <td>0.0</td>\n",
       "      <td>0.0</td>\n",
       "    </tr>\n",
       "    <tr>\n",
       "      <th>143483</th>\n",
       "      <td>-1.63458</td>\n",
       "      <td>-0.393181</td>\n",
       "      <td>-0.010750</td>\n",
       "      <td>-0.078158</td>\n",
       "      <td>-0.705336</td>\n",
       "      <td>-1.584169</td>\n",
       "      <td>1.574478</td>\n",
       "      <td>0.155478</td>\n",
       "      <td>-0.277810</td>\n",
       "      <td>0.102183</td>\n",
       "      <td>0.302957</td>\n",
       "      <td>-0.304284</td>\n",
       "      <td>0.0</td>\n",
       "      <td>1.0</td>\n",
       "    </tr>\n",
       "    <tr>\n",
       "      <th>6500</th>\n",
       "      <td>0.60956</td>\n",
       "      <td>-0.393181</td>\n",
       "      <td>0.014062</td>\n",
       "      <td>-0.078158</td>\n",
       "      <td>1.251365</td>\n",
       "      <td>1.473884</td>\n",
       "      <td>1.574478</td>\n",
       "      <td>2.134014</td>\n",
       "      <td>2.535441</td>\n",
       "      <td>0.102183</td>\n",
       "      <td>0.302957</td>\n",
       "      <td>3.169049</td>\n",
       "      <td>0.0</td>\n",
       "      <td>1.0</td>\n",
       "    </tr>\n",
       "    <tr>\n",
       "      <th>152705</th>\n",
       "      <td>0.60956</td>\n",
       "      <td>4.162040</td>\n",
       "      <td>-0.004699</td>\n",
       "      <td>-0.078158</td>\n",
       "      <td>1.080646</td>\n",
       "      <td>0.620779</td>\n",
       "      <td>-0.991610</td>\n",
       "      <td>0.168636</td>\n",
       "      <td>-0.277810</td>\n",
       "      <td>0.102183</td>\n",
       "      <td>0.302957</td>\n",
       "      <td>-0.304284</td>\n",
       "      <td>0.0</td>\n",
       "      <td>1.0</td>\n",
       "    </tr>\n",
       "    <tr>\n",
       "      <th>899</th>\n",
       "      <td>0.60956</td>\n",
       "      <td>4.162040</td>\n",
       "      <td>-0.009813</td>\n",
       "      <td>-0.078158</td>\n",
       "      <td>0.200787</td>\n",
       "      <td>-0.035455</td>\n",
       "      <td>-0.991610</td>\n",
       "      <td>0.421500</td>\n",
       "      <td>-0.277810</td>\n",
       "      <td>0.102183</td>\n",
       "      <td>0.302957</td>\n",
       "      <td>-0.304284</td>\n",
       "      <td>0.0</td>\n",
       "      <td>1.0</td>\n",
       "    </tr>\n",
       "  </tbody>\n",
       "</table>\n",
       "<p>122500 rows × 14 columns</p>\n",
       "</div>"
      ],
      "text/plain": [
       "        VendorID  passenger_count  trip_distance  RatecodeID  PULocationID  \\\n",
       "46792    0.60956        -0.393181       0.002213   -0.078158      1.435216   \n",
       "68269    0.60956        -0.393181       0.017050   -0.078158     -1.335683   \n",
       "130513  -1.63458        -0.393181      -0.001382   -0.078158      1.080646   \n",
       "30180   -1.63458        -0.393181      -0.011256   -0.078158     -0.849791   \n",
       "133696   0.60956        -0.393181      -0.012953    0.078062     -1.532666   \n",
       "...          ...              ...            ...         ...           ...   \n",
       "145412   0.60956        -0.393181       0.029405    0.078062     -1.480137   \n",
       "143483  -1.63458        -0.393181      -0.010750   -0.078158     -0.705336   \n",
       "6500     0.60956        -0.393181       0.014062   -0.078158      1.251365   \n",
       "152705   0.60956         4.162040      -0.004699   -0.078158      1.080646   \n",
       "899      0.60956         4.162040      -0.009813   -0.078158      0.200787   \n",
       "\n",
       "        DOLocationID     extra  tip_amount  tolls_amount  \\\n",
       "46792      -1.216678 -0.478392    1.701703      5.198365   \n",
       "68269      -1.426673 -0.991610    2.341118     -0.277810   \n",
       "130513     -0.678565  0.804651    1.095684     -0.277810   \n",
       "30180      -0.074829  1.574478    0.296280     -0.277810   \n",
       "133696     -0.901685 -0.991610   -1.221604     -0.277810   \n",
       "...              ...       ...         ...           ...   \n",
       "145412     -1.662917 -0.991610   -0.837143      2.535441   \n",
       "143483     -1.584169  1.574478    0.155478     -0.277810   \n",
       "6500        1.473884  1.574478    2.134014      2.535441   \n",
       "152705      0.620779 -0.991610    0.168636     -0.277810   \n",
       "899        -0.035455 -0.991610    0.421500     -0.277810   \n",
       "\n",
       "        improvement_surcharge  congestion_surcharge  Airport_fee  \\\n",
       "46792                0.102183             -2.798024    -0.304284   \n",
       "68269                0.102183             -2.798024     3.169049   \n",
       "130513               0.102183              0.302957    -0.304284   \n",
       "30180                0.102183              0.302957    -0.304284   \n",
       "133696               0.102183             -2.798024     3.169049   \n",
       "...                       ...                   ...          ...   \n",
       "145412               0.102183              0.302957    -0.304284   \n",
       "143483               0.102183              0.302957    -0.304284   \n",
       "6500                 0.102183              0.302957     3.169049   \n",
       "152705               0.102183              0.302957    -0.304284   \n",
       "899                  0.102183              0.302957    -0.304284   \n",
       "\n",
       "        store_and_fwd_flag  payment_type  \n",
       "46792                  0.0           1.0  \n",
       "68269                  0.0           1.0  \n",
       "130513                 0.0           1.0  \n",
       "30180                  0.0           1.0  \n",
       "133696                 0.0           0.0  \n",
       "...                    ...           ...  \n",
       "145412                 0.0           0.0  \n",
       "143483                 0.0           1.0  \n",
       "6500                   0.0           1.0  \n",
       "152705                 0.0           1.0  \n",
       "899                    0.0           1.0  \n",
       "\n",
       "[122500 rows x 14 columns]"
      ]
     },
     "execution_count": 39,
     "metadata": {},
     "output_type": "execute_result"
    }
   ],
   "source": [
    "xtrain"
   ]
  },
  {
   "cell_type": "code",
   "execution_count": 40,
   "id": "92c8b26b",
   "metadata": {
    "execution": {
     "iopub.execute_input": "2023-11-26T09:17:15.865570Z",
     "iopub.status.busy": "2023-11-26T09:17:15.865127Z",
     "iopub.status.idle": "2023-11-26T09:17:15.894234Z",
     "shell.execute_reply": "2023-11-26T09:17:15.893006Z"
    },
    "papermill": {
     "duration": 0.08711,
     "end_time": "2023-11-26T09:17:15.896968",
     "exception": false,
     "start_time": "2023-11-26T09:17:15.809858",
     "status": "completed"
    },
    "tags": []
   },
   "outputs": [
    {
     "data": {
      "text/html": [
       "<div>\n",
       "<style scoped>\n",
       "    .dataframe tbody tr th:only-of-type {\n",
       "        vertical-align: middle;\n",
       "    }\n",
       "\n",
       "    .dataframe tbody tr th {\n",
       "        vertical-align: top;\n",
       "    }\n",
       "\n",
       "    .dataframe thead th {\n",
       "        text-align: right;\n",
       "    }\n",
       "</style>\n",
       "<table border=\"1\" class=\"dataframe\">\n",
       "  <thead>\n",
       "    <tr style=\"text-align: right;\">\n",
       "      <th></th>\n",
       "      <th>VendorID</th>\n",
       "      <th>passenger_count</th>\n",
       "      <th>trip_distance</th>\n",
       "      <th>RatecodeID</th>\n",
       "      <th>PULocationID</th>\n",
       "      <th>DOLocationID</th>\n",
       "      <th>extra</th>\n",
       "      <th>tip_amount</th>\n",
       "      <th>tolls_amount</th>\n",
       "      <th>improvement_surcharge</th>\n",
       "      <th>congestion_surcharge</th>\n",
       "      <th>Airport_fee</th>\n",
       "      <th>store_and_fwd_flag</th>\n",
       "      <th>payment_type</th>\n",
       "    </tr>\n",
       "  </thead>\n",
       "  <tbody>\n",
       "    <tr>\n",
       "      <th>111551</th>\n",
       "      <td>0.60956</td>\n",
       "      <td>4.162040</td>\n",
       "      <td>-0.003889</td>\n",
       "      <td>-0.078158</td>\n",
       "      <td>-0.547750</td>\n",
       "      <td>0.135166</td>\n",
       "      <td>-0.991610</td>\n",
       "      <td>-0.303342</td>\n",
       "      <td>-0.27781</td>\n",
       "      <td>0.102183</td>\n",
       "      <td>0.302957</td>\n",
       "      <td>-0.304284</td>\n",
       "      <td>0.000000</td>\n",
       "      <td>0.0</td>\n",
       "    </tr>\n",
       "    <tr>\n",
       "      <th>413</th>\n",
       "      <td>-1.63458</td>\n",
       "      <td>-0.393181</td>\n",
       "      <td>-0.006952</td>\n",
       "      <td>-0.078158</td>\n",
       "      <td>-1.046774</td>\n",
       "      <td>0.266412</td>\n",
       "      <td>0.804651</td>\n",
       "      <td>0.499236</td>\n",
       "      <td>-0.27781</td>\n",
       "      <td>0.102183</td>\n",
       "      <td>0.302957</td>\n",
       "      <td>-0.304284</td>\n",
       "      <td>0.000000</td>\n",
       "      <td>1.0</td>\n",
       "    </tr>\n",
       "    <tr>\n",
       "      <th>96492</th>\n",
       "      <td>0.60956</td>\n",
       "      <td>4.162040</td>\n",
       "      <td>-0.010497</td>\n",
       "      <td>-0.078158</td>\n",
       "      <td>-1.191228</td>\n",
       "      <td>0.752026</td>\n",
       "      <td>-0.991610</td>\n",
       "      <td>0.233934</td>\n",
       "      <td>-0.27781</td>\n",
       "      <td>0.102183</td>\n",
       "      <td>0.302957</td>\n",
       "      <td>-0.304284</td>\n",
       "      <td>0.000000</td>\n",
       "      <td>1.0</td>\n",
       "    </tr>\n",
       "    <tr>\n",
       "      <th>79788</th>\n",
       "      <td>-1.63458</td>\n",
       "      <td>0.745624</td>\n",
       "      <td>0.000643</td>\n",
       "      <td>-0.078158</td>\n",
       "      <td>-1.335683</td>\n",
       "      <td>-0.455445</td>\n",
       "      <td>-0.478392</td>\n",
       "      <td>-0.046124</td>\n",
       "      <td>-0.27781</td>\n",
       "      <td>0.102183</td>\n",
       "      <td>-2.798024</td>\n",
       "      <td>-0.304284</td>\n",
       "      <td>0.000000</td>\n",
       "      <td>1.0</td>\n",
       "    </tr>\n",
       "    <tr>\n",
       "      <th>47053</th>\n",
       "      <td>0.60956</td>\n",
       "      <td>-0.393181</td>\n",
       "      <td>-0.011307</td>\n",
       "      <td>-0.078158</td>\n",
       "      <td>-1.112435</td>\n",
       "      <td>0.542031</td>\n",
       "      <td>0.291434</td>\n",
       "      <td>-0.984386</td>\n",
       "      <td>-0.27781</td>\n",
       "      <td>0.102183</td>\n",
       "      <td>0.302957</td>\n",
       "      <td>-0.304284</td>\n",
       "      <td>0.000000</td>\n",
       "      <td>1.0</td>\n",
       "    </tr>\n",
       "    <tr>\n",
       "      <th>...</th>\n",
       "      <td>...</td>\n",
       "      <td>...</td>\n",
       "      <td>...</td>\n",
       "      <td>...</td>\n",
       "      <td>...</td>\n",
       "      <td>...</td>\n",
       "      <td>...</td>\n",
       "      <td>...</td>\n",
       "      <td>...</td>\n",
       "      <td>...</td>\n",
       "      <td>...</td>\n",
       "      <td>...</td>\n",
       "      <td>...</td>\n",
       "      <td>...</td>\n",
       "    </tr>\n",
       "    <tr>\n",
       "      <th>128774</th>\n",
       "      <td>0.60956</td>\n",
       "      <td>0.745624</td>\n",
       "      <td>-0.011332</td>\n",
       "      <td>-0.078158</td>\n",
       "      <td>-1.427608</td>\n",
       "      <td>0.358285</td>\n",
       "      <td>-0.478392</td>\n",
       "      <td>-0.545113</td>\n",
       "      <td>-0.27781</td>\n",
       "      <td>0.102183</td>\n",
       "      <td>0.302957</td>\n",
       "      <td>-0.304284</td>\n",
       "      <td>0.000000</td>\n",
       "      <td>1.0</td>\n",
       "    </tr>\n",
       "    <tr>\n",
       "      <th>87854</th>\n",
       "      <td>0.60956</td>\n",
       "      <td>-0.393181</td>\n",
       "      <td>-0.009155</td>\n",
       "      <td>-0.078158</td>\n",
       "      <td>-0.915452</td>\n",
       "      <td>-0.849186</td>\n",
       "      <td>-0.991610</td>\n",
       "      <td>-0.264989</td>\n",
       "      <td>-0.27781</td>\n",
       "      <td>0.102183</td>\n",
       "      <td>0.302957</td>\n",
       "      <td>-0.304284</td>\n",
       "      <td>0.007068</td>\n",
       "      <td>3.0</td>\n",
       "    </tr>\n",
       "    <tr>\n",
       "      <th>66146</th>\n",
       "      <td>-1.63458</td>\n",
       "      <td>-0.393181</td>\n",
       "      <td>-0.013029</td>\n",
       "      <td>-0.078158</td>\n",
       "      <td>-0.915452</td>\n",
       "      <td>1.027644</td>\n",
       "      <td>-0.991610</td>\n",
       "      <td>-0.416436</td>\n",
       "      <td>-0.27781</td>\n",
       "      <td>0.102183</td>\n",
       "      <td>-2.798024</td>\n",
       "      <td>-0.304284</td>\n",
       "      <td>0.000000</td>\n",
       "      <td>4.0</td>\n",
       "    </tr>\n",
       "    <tr>\n",
       "      <th>135432</th>\n",
       "      <td>0.60956</td>\n",
       "      <td>4.162040</td>\n",
       "      <td>-0.009433</td>\n",
       "      <td>-0.078158</td>\n",
       "      <td>-1.598327</td>\n",
       "      <td>0.620779</td>\n",
       "      <td>-0.478392</td>\n",
       "      <td>-1.059432</td>\n",
       "      <td>-0.27781</td>\n",
       "      <td>0.102183</td>\n",
       "      <td>0.302957</td>\n",
       "      <td>-0.304284</td>\n",
       "      <td>0.000000</td>\n",
       "      <td>1.0</td>\n",
       "    </tr>\n",
       "    <tr>\n",
       "      <th>6745</th>\n",
       "      <td>0.60956</td>\n",
       "      <td>-0.393181</td>\n",
       "      <td>-0.013029</td>\n",
       "      <td>-0.078158</td>\n",
       "      <td>0.502828</td>\n",
       "      <td>0.528906</td>\n",
       "      <td>-0.478392</td>\n",
       "      <td>0.105707</td>\n",
       "      <td>-0.27781</td>\n",
       "      <td>0.102183</td>\n",
       "      <td>0.302957</td>\n",
       "      <td>-0.304284</td>\n",
       "      <td>0.000000</td>\n",
       "      <td>1.0</td>\n",
       "    </tr>\n",
       "  </tbody>\n",
       "</table>\n",
       "<p>52500 rows × 14 columns</p>\n",
       "</div>"
      ],
      "text/plain": [
       "        VendorID  passenger_count  trip_distance  RatecodeID  PULocationID  \\\n",
       "111551   0.60956         4.162040      -0.003889   -0.078158     -0.547750   \n",
       "413     -1.63458        -0.393181      -0.006952   -0.078158     -1.046774   \n",
       "96492    0.60956         4.162040      -0.010497   -0.078158     -1.191228   \n",
       "79788   -1.63458         0.745624       0.000643   -0.078158     -1.335683   \n",
       "47053    0.60956        -0.393181      -0.011307   -0.078158     -1.112435   \n",
       "...          ...              ...            ...         ...           ...   \n",
       "128774   0.60956         0.745624      -0.011332   -0.078158     -1.427608   \n",
       "87854    0.60956        -0.393181      -0.009155   -0.078158     -0.915452   \n",
       "66146   -1.63458        -0.393181      -0.013029   -0.078158     -0.915452   \n",
       "135432   0.60956         4.162040      -0.009433   -0.078158     -1.598327   \n",
       "6745     0.60956        -0.393181      -0.013029   -0.078158      0.502828   \n",
       "\n",
       "        DOLocationID     extra  tip_amount  tolls_amount  \\\n",
       "111551      0.135166 -0.991610   -0.303342      -0.27781   \n",
       "413         0.266412  0.804651    0.499236      -0.27781   \n",
       "96492       0.752026 -0.991610    0.233934      -0.27781   \n",
       "79788      -0.455445 -0.478392   -0.046124      -0.27781   \n",
       "47053       0.542031  0.291434   -0.984386      -0.27781   \n",
       "...              ...       ...         ...           ...   \n",
       "128774      0.358285 -0.478392   -0.545113      -0.27781   \n",
       "87854      -0.849186 -0.991610   -0.264989      -0.27781   \n",
       "66146       1.027644 -0.991610   -0.416436      -0.27781   \n",
       "135432      0.620779 -0.478392   -1.059432      -0.27781   \n",
       "6745        0.528906 -0.478392    0.105707      -0.27781   \n",
       "\n",
       "        improvement_surcharge  congestion_surcharge  Airport_fee  \\\n",
       "111551               0.102183              0.302957    -0.304284   \n",
       "413                  0.102183              0.302957    -0.304284   \n",
       "96492                0.102183              0.302957    -0.304284   \n",
       "79788                0.102183             -2.798024    -0.304284   \n",
       "47053                0.102183              0.302957    -0.304284   \n",
       "...                       ...                   ...          ...   \n",
       "128774               0.102183              0.302957    -0.304284   \n",
       "87854                0.102183              0.302957    -0.304284   \n",
       "66146                0.102183             -2.798024    -0.304284   \n",
       "135432               0.102183              0.302957    -0.304284   \n",
       "6745                 0.102183              0.302957    -0.304284   \n",
       "\n",
       "        store_and_fwd_flag  payment_type  \n",
       "111551            0.000000           0.0  \n",
       "413               0.000000           1.0  \n",
       "96492             0.000000           1.0  \n",
       "79788             0.000000           1.0  \n",
       "47053             0.000000           1.0  \n",
       "...                    ...           ...  \n",
       "128774            0.000000           1.0  \n",
       "87854             0.007068           3.0  \n",
       "66146             0.000000           4.0  \n",
       "135432            0.000000           1.0  \n",
       "6745              0.000000           1.0  \n",
       "\n",
       "[52500 rows x 14 columns]"
      ]
     },
     "execution_count": 40,
     "metadata": {},
     "output_type": "execute_result"
    }
   ],
   "source": [
    "xtest"
   ]
  },
  {
   "cell_type": "code",
   "execution_count": 41,
   "id": "3e919b17",
   "metadata": {
    "execution": {
     "iopub.execute_input": "2023-11-26T09:17:16.005360Z",
     "iopub.status.busy": "2023-11-26T09:17:16.004678Z",
     "iopub.status.idle": "2023-11-26T09:17:16.017885Z",
     "shell.execute_reply": "2023-11-26T09:17:16.016487Z"
    },
    "papermill": {
     "duration": 0.070321,
     "end_time": "2023-11-26T09:17:16.020176",
     "exception": false,
     "start_time": "2023-11-26T09:17:15.949855",
     "status": "completed"
    },
    "tags": []
   },
   "outputs": [
    {
     "data": {
      "text/html": [
       "<div>\n",
       "<style scoped>\n",
       "    .dataframe tbody tr th:only-of-type {\n",
       "        vertical-align: middle;\n",
       "    }\n",
       "\n",
       "    .dataframe tbody tr th {\n",
       "        vertical-align: top;\n",
       "    }\n",
       "\n",
       "    .dataframe thead th {\n",
       "        text-align: right;\n",
       "    }\n",
       "</style>\n",
       "<table border=\"1\" class=\"dataframe\">\n",
       "  <thead>\n",
       "    <tr style=\"text-align: right;\">\n",
       "      <th></th>\n",
       "      <th>total_amount</th>\n",
       "    </tr>\n",
       "  </thead>\n",
       "  <tbody>\n",
       "    <tr>\n",
       "      <th>46792</th>\n",
       "      <td>54.06</td>\n",
       "    </tr>\n",
       "    <tr>\n",
       "      <th>68269</th>\n",
       "      <td>62.06</td>\n",
       "    </tr>\n",
       "    <tr>\n",
       "      <th>130513</th>\n",
       "      <td>34.50</td>\n",
       "    </tr>\n",
       "    <tr>\n",
       "      <th>30180</th>\n",
       "      <td>21.45</td>\n",
       "    </tr>\n",
       "    <tr>\n",
       "      <th>133696</th>\n",
       "      <td>73.25</td>\n",
       "    </tr>\n",
       "    <tr>\n",
       "      <th>...</th>\n",
       "      <td>...</td>\n",
       "    </tr>\n",
       "    <tr>\n",
       "      <th>145412</th>\n",
       "      <td>80.55</td>\n",
       "    </tr>\n",
       "    <tr>\n",
       "      <th>143483</th>\n",
       "      <td>18.95</td>\n",
       "    </tr>\n",
       "    <tr>\n",
       "      <th>6500</th>\n",
       "      <td>81.13</td>\n",
       "    </tr>\n",
       "    <tr>\n",
       "      <th>152705</th>\n",
       "      <td>29.26</td>\n",
       "    </tr>\n",
       "    <tr>\n",
       "      <th>899</th>\n",
       "      <td>18.48</td>\n",
       "    </tr>\n",
       "  </tbody>\n",
       "</table>\n",
       "<p>122500 rows × 1 columns</p>\n",
       "</div>"
      ],
      "text/plain": [
       "        total_amount\n",
       "46792          54.06\n",
       "68269          62.06\n",
       "130513         34.50\n",
       "30180          21.45\n",
       "133696         73.25\n",
       "...              ...\n",
       "145412         80.55\n",
       "143483         18.95\n",
       "6500           81.13\n",
       "152705         29.26\n",
       "899            18.48\n",
       "\n",
       "[122500 rows x 1 columns]"
      ]
     },
     "execution_count": 41,
     "metadata": {},
     "output_type": "execute_result"
    }
   ],
   "source": [
    "ytrain"
   ]
  },
  {
   "cell_type": "code",
   "execution_count": 42,
   "id": "6e2667e7",
   "metadata": {
    "execution": {
     "iopub.execute_input": "2023-11-26T09:17:16.129689Z",
     "iopub.status.busy": "2023-11-26T09:17:16.128930Z",
     "iopub.status.idle": "2023-11-26T09:17:16.135569Z",
     "shell.execute_reply": "2023-11-26T09:17:16.134385Z"
    },
    "papermill": {
     "duration": 0.063687,
     "end_time": "2023-11-26T09:17:16.138021",
     "exception": false,
     "start_time": "2023-11-26T09:17:16.074334",
     "status": "completed"
    },
    "tags": []
   },
   "outputs": [
    {
     "data": {
      "text/plain": [
       "((52500, 14), (52500, 1))"
      ]
     },
     "execution_count": 42,
     "metadata": {},
     "output_type": "execute_result"
    }
   ],
   "source": [
    "xtest.shape,ytest.shape"
   ]
  },
  {
   "cell_type": "markdown",
   "id": "9af29d47",
   "metadata": {
    "papermill": {
     "duration": 0.057019,
     "end_time": "2023-11-26T09:17:16.248272",
     "exception": false,
     "start_time": "2023-11-26T09:17:16.191253",
     "status": "completed"
    },
    "tags": []
   },
   "source": [
    "# Feature Selection On Training Data"
   ]
  },
  {
   "cell_type": "code",
   "execution_count": 43,
   "id": "d801eb7f",
   "metadata": {
    "execution": {
     "iopub.execute_input": "2023-11-26T09:17:16.360088Z",
     "iopub.status.busy": "2023-11-26T09:17:16.359256Z",
     "iopub.status.idle": "2023-11-26T09:17:16.365572Z",
     "shell.execute_reply": "2023-11-26T09:17:16.364709Z"
    },
    "papermill": {
     "duration": 0.064431,
     "end_time": "2023-11-26T09:17:16.368004",
     "exception": false,
     "start_time": "2023-11-26T09:17:16.303573",
     "status": "completed"
    },
    "tags": []
   },
   "outputs": [],
   "source": [
    "def svv(xtrain,xtest,ytrain,ytest):\n",
    "    svv_cl=XGBRegressor()\n",
    "    svv_cl.fit(xtrain,ytrain)\n",
    "    ypred2=svv_cl.predict(xtest)\n",
    "    print('R2 Score XGBOOST:',r2_score(ytest,ypred2))\n",
    "    return 'R2 Score XGBOOST:',r2_score(ytest,ypred2)"
   ]
  },
  {
   "cell_type": "code",
   "execution_count": 44,
   "id": "6f5be12c",
   "metadata": {
    "execution": {
     "iopub.execute_input": "2023-11-26T09:17:16.479556Z",
     "iopub.status.busy": "2023-11-26T09:17:16.478830Z",
     "iopub.status.idle": "2023-11-26T09:17:16.485398Z",
     "shell.execute_reply": "2023-11-26T09:17:16.484401Z"
    },
    "papermill": {
     "duration": 0.064855,
     "end_time": "2023-11-26T09:17:16.487987",
     "exception": false,
     "start_time": "2023-11-26T09:17:16.423132",
     "status": "completed"
    },
    "tags": []
   },
   "outputs": [],
   "source": [
    "def rr(xtrain,xtest,ytrain,ytest):\n",
    "    svv_cl=RandomForestRegressor(max_depth=17)\n",
    "    svv_cl.fit(xtrain,ytrain)\n",
    "    ypred2=svv_cl.predict(xtest)\n",
    "    print('R2 Score RANDOMFOREST:',r2_score(ytest,ypred2))\n",
    "    return 'R2 Score RANDOMFOREST:',r2_score(ytest,ypred2)"
   ]
  },
  {
   "cell_type": "code",
   "execution_count": 45,
   "id": "537492f9",
   "metadata": {
    "execution": {
     "iopub.execute_input": "2023-11-26T09:17:16.597956Z",
     "iopub.status.busy": "2023-11-26T09:17:16.596905Z",
     "iopub.status.idle": "2023-11-26T09:17:16.603253Z",
     "shell.execute_reply": "2023-11-26T09:17:16.602228Z"
    },
    "papermill": {
     "duration": 0.064451,
     "end_time": "2023-11-26T09:17:16.605795",
     "exception": false,
     "start_time": "2023-11-26T09:17:16.541344",
     "status": "completed"
    },
    "tags": []
   },
   "outputs": [],
   "source": [
    "def dd(xtrain,xtest,ytrain,ytest):\n",
    "    svv_cl=DecisionTreeRegressor(max_depth=11)\n",
    "    svv_cl.fit(xtrain,ytrain)\n",
    "    ypred2=svv_cl.predict(xtest)\n",
    "    print('R2 Score DECISION TREE:',r2_score(ytest,ypred2))\n",
    "    return 'R2 Score DESCISION TREE:',r2_score(ytest,ypred2)"
   ]
  },
  {
   "cell_type": "code",
   "execution_count": 46,
   "id": "68195045",
   "metadata": {
    "execution": {
     "iopub.execute_input": "2023-11-26T09:17:16.717395Z",
     "iopub.status.busy": "2023-11-26T09:17:16.716118Z",
     "iopub.status.idle": "2023-11-26T09:32:21.815740Z",
     "shell.execute_reply": "2023-11-26T09:32:21.814145Z"
    },
    "papermill": {
     "duration": 905.158904,
     "end_time": "2023-11-26T09:32:21.818468",
     "exception": false,
     "start_time": "2023-11-26T09:17:16.659564",
     "status": "completed"
    },
    "tags": []
   },
   "outputs": [
    {
     "name": "stdout",
     "output_type": "stream",
     "text": [
      "no of features- 1\n",
      "R2 Score XGBOOST: 0.495109503831234\n",
      "R2 Score RANDOMFOREST: 0.48378644865214937\n",
      "R2 Score DECISION TREE: 0.48637594572955134\n",
      "==========================================\n",
      "no of features- 2\n",
      "R2 Score XGBOOST: 0.7418552732068143\n",
      "R2 Score RANDOMFOREST: 0.7714232806818622\n",
      "R2 Score DECISION TREE: 0.6742469710134541\n",
      "==========================================\n",
      "no of features- 3\n",
      "R2 Score XGBOOST: 0.8650802706032721\n",
      "R2 Score RANDOMFOREST: 0.8641554401624206\n",
      "R2 Score DECISION TREE: 0.8520723592713892\n",
      "==========================================\n",
      "no of features- 4\n",
      "R2 Score XGBOOST: 0.862381763614115\n",
      "R2 Score RANDOMFOREST: 0.8655916793076728\n",
      "R2 Score DECISION TREE: 0.8396145381060672\n",
      "==========================================\n",
      "no of features- 5\n",
      "R2 Score XGBOOST: 0.8812670418601262\n",
      "R2 Score RANDOMFOREST: 0.8875053051211583\n",
      "R2 Score DECISION TREE: 0.8776225388814038\n",
      "==========================================\n",
      "no of features- 6\n",
      "R2 Score XGBOOST: 0.9056039134788506\n",
      "R2 Score RANDOMFOREST: 0.9100154547013612\n",
      "R2 Score DECISION TREE: 0.8988569309893006\n",
      "==========================================\n",
      "no of features- 7\n",
      "R2 Score XGBOOST: 0.9075235730206103\n",
      "R2 Score RANDOMFOREST: 0.9124566582137703\n",
      "R2 Score DECISION TREE: 0.8903119285611469\n",
      "==========================================\n",
      "no of features- 8\n",
      "R2 Score XGBOOST: 0.9107405360033838\n",
      "R2 Score RANDOMFOREST: 0.9166564330677931\n",
      "R2 Score DECISION TREE: 0.8975168271089669\n",
      "==========================================\n",
      "no of features- 9\n",
      "R2 Score XGBOOST: 0.9346547414927113\n",
      "R2 Score RANDOMFOREST: 0.9356832742080606\n",
      "R2 Score DECISION TREE: 0.9229437342636043\n",
      "==========================================\n",
      "no of features- 10\n",
      "R2 Score XGBOOST: 0.9364209454733623\n",
      "R2 Score RANDOMFOREST: 0.9352003140367265\n",
      "R2 Score DECISION TREE: 0.9255387414456451\n",
      "==========================================\n",
      "no of features- 11\n",
      "R2 Score XGBOOST: 0.93717010014012\n",
      "R2 Score RANDOMFOREST: 0.9387246003681571\n",
      "R2 Score DECISION TREE: 0.9246638169120613\n",
      "==========================================\n",
      "no of features- 12\n",
      "R2 Score XGBOOST: 0.9352505826516557\n",
      "R2 Score RANDOMFOREST: 0.9375883555695125\n",
      "R2 Score DECISION TREE: 0.9217222587955145\n",
      "==========================================\n",
      "no of features- 13\n",
      "R2 Score XGBOOST: 0.9376288074867535\n",
      "R2 Score RANDOMFOREST: 0.9376279304901701\n",
      "R2 Score DECISION TREE: 0.9205944268795732\n",
      "==========================================\n"
     ]
    }
   ],
   "source": [
    "for i in range(1,14):\n",
    "    rfe=RFE(estimator=LGBMRegressor(),n_features_to_select=i)\n",
    "    rfe.fit(xtrain,ytrain)\n",
    "    rfe_train1=rfe.transform(xtrain)\n",
    "    rfe_test1=rfe.transform(xtest)\n",
    "    print('no of features-',i)\n",
    "    svv(rfe_train1,rfe_test1,ytrain,ytest)\n",
    "    rr(rfe_train1,rfe_test1,ytrain,ytest)\n",
    "    dd(rfe_train1,rfe_test1,ytrain,ytest)\n",
    "    print('==========================================')"
   ]
  },
  {
   "cell_type": "markdown",
   "id": "8ddb9b55",
   "metadata": {
    "papermill": {
     "duration": 0.059475,
     "end_time": "2023-11-26T09:32:21.936467",
     "exception": false,
     "start_time": "2023-11-26T09:32:21.876992",
     "status": "completed"
    },
    "tags": []
   },
   "source": [
    "##### From the above, it's clear that every feature holds significance for our model."
   ]
  },
  {
   "cell_type": "markdown",
   "id": "ae042e5d",
   "metadata": {
    "papermill": {
     "duration": 0.058304,
     "end_time": "2023-11-26T09:32:22.054487",
     "exception": false,
     "start_time": "2023-11-26T09:32:21.996183",
     "status": "completed"
    },
    "tags": []
   },
   "source": [
    "## Basline Model"
   ]
  },
  {
   "cell_type": "code",
   "execution_count": 47,
   "id": "6f70c49a",
   "metadata": {
    "execution": {
     "iopub.execute_input": "2023-11-26T09:32:22.177847Z",
     "iopub.status.busy": "2023-11-26T09:32:22.176527Z",
     "iopub.status.idle": "2023-11-26T09:32:22.181589Z",
     "shell.execute_reply": "2023-11-26T09:32:22.180596Z"
    },
    "papermill": {
     "duration": 0.069478,
     "end_time": "2023-11-26T09:32:22.184011",
     "exception": false,
     "start_time": "2023-11-26T09:32:22.114533",
     "status": "completed"
    },
    "tags": []
   },
   "outputs": [],
   "source": [
    "lr=LinearRegression()"
   ]
  },
  {
   "cell_type": "code",
   "execution_count": 48,
   "id": "5f046bb7",
   "metadata": {
    "execution": {
     "iopub.execute_input": "2023-11-26T09:32:22.306796Z",
     "iopub.status.busy": "2023-11-26T09:32:22.305637Z",
     "iopub.status.idle": "2023-11-26T09:32:22.418983Z",
     "shell.execute_reply": "2023-11-26T09:32:22.417435Z"
    },
    "papermill": {
     "duration": 0.179014,
     "end_time": "2023-11-26T09:32:22.423488",
     "exception": false,
     "start_time": "2023-11-26T09:32:22.244474",
     "status": "completed"
    },
    "tags": []
   },
   "outputs": [
    {
     "data": {
      "text/html": [
       "<style>#sk-container-id-1 {color: black;background-color: white;}#sk-container-id-1 pre{padding: 0;}#sk-container-id-1 div.sk-toggleable {background-color: white;}#sk-container-id-1 label.sk-toggleable__label {cursor: pointer;display: block;width: 100%;margin-bottom: 0;padding: 0.3em;box-sizing: border-box;text-align: center;}#sk-container-id-1 label.sk-toggleable__label-arrow:before {content: \"▸\";float: left;margin-right: 0.25em;color: #696969;}#sk-container-id-1 label.sk-toggleable__label-arrow:hover:before {color: black;}#sk-container-id-1 div.sk-estimator:hover label.sk-toggleable__label-arrow:before {color: black;}#sk-container-id-1 div.sk-toggleable__content {max-height: 0;max-width: 0;overflow: hidden;text-align: left;background-color: #f0f8ff;}#sk-container-id-1 div.sk-toggleable__content pre {margin: 0.2em;color: black;border-radius: 0.25em;background-color: #f0f8ff;}#sk-container-id-1 input.sk-toggleable__control:checked~div.sk-toggleable__content {max-height: 200px;max-width: 100%;overflow: auto;}#sk-container-id-1 input.sk-toggleable__control:checked~label.sk-toggleable__label-arrow:before {content: \"▾\";}#sk-container-id-1 div.sk-estimator input.sk-toggleable__control:checked~label.sk-toggleable__label {background-color: #d4ebff;}#sk-container-id-1 div.sk-label input.sk-toggleable__control:checked~label.sk-toggleable__label {background-color: #d4ebff;}#sk-container-id-1 input.sk-hidden--visually {border: 0;clip: rect(1px 1px 1px 1px);clip: rect(1px, 1px, 1px, 1px);height: 1px;margin: -1px;overflow: hidden;padding: 0;position: absolute;width: 1px;}#sk-container-id-1 div.sk-estimator {font-family: monospace;background-color: #f0f8ff;border: 1px dotted black;border-radius: 0.25em;box-sizing: border-box;margin-bottom: 0.5em;}#sk-container-id-1 div.sk-estimator:hover {background-color: #d4ebff;}#sk-container-id-1 div.sk-parallel-item::after {content: \"\";width: 100%;border-bottom: 1px solid gray;flex-grow: 1;}#sk-container-id-1 div.sk-label:hover label.sk-toggleable__label {background-color: #d4ebff;}#sk-container-id-1 div.sk-serial::before {content: \"\";position: absolute;border-left: 1px solid gray;box-sizing: border-box;top: 0;bottom: 0;left: 50%;z-index: 0;}#sk-container-id-1 div.sk-serial {display: flex;flex-direction: column;align-items: center;background-color: white;padding-right: 0.2em;padding-left: 0.2em;position: relative;}#sk-container-id-1 div.sk-item {position: relative;z-index: 1;}#sk-container-id-1 div.sk-parallel {display: flex;align-items: stretch;justify-content: center;background-color: white;position: relative;}#sk-container-id-1 div.sk-item::before, #sk-container-id-1 div.sk-parallel-item::before {content: \"\";position: absolute;border-left: 1px solid gray;box-sizing: border-box;top: 0;bottom: 0;left: 50%;z-index: -1;}#sk-container-id-1 div.sk-parallel-item {display: flex;flex-direction: column;z-index: 1;position: relative;background-color: white;}#sk-container-id-1 div.sk-parallel-item:first-child::after {align-self: flex-end;width: 50%;}#sk-container-id-1 div.sk-parallel-item:last-child::after {align-self: flex-start;width: 50%;}#sk-container-id-1 div.sk-parallel-item:only-child::after {width: 0;}#sk-container-id-1 div.sk-dashed-wrapped {border: 1px dashed gray;margin: 0 0.4em 0.5em 0.4em;box-sizing: border-box;padding-bottom: 0.4em;background-color: white;}#sk-container-id-1 div.sk-label label {font-family: monospace;font-weight: bold;display: inline-block;line-height: 1.2em;}#sk-container-id-1 div.sk-label-container {text-align: center;}#sk-container-id-1 div.sk-container {/* jupyter's `normalize.less` sets `[hidden] { display: none; }` but bootstrap.min.css set `[hidden] { display: none !important; }` so we also need the `!important` here to be able to override the default hidden behavior on the sphinx rendered scikit-learn.org. See: https://github.com/scikit-learn/scikit-learn/issues/21755 */display: inline-block !important;position: relative;}#sk-container-id-1 div.sk-text-repr-fallback {display: none;}</style><div id=\"sk-container-id-1\" class=\"sk-top-container\"><div class=\"sk-text-repr-fallback\"><pre>LinearRegression()</pre><b>In a Jupyter environment, please rerun this cell to show the HTML representation or trust the notebook. <br />On GitHub, the HTML representation is unable to render, please try loading this page with nbviewer.org.</b></div><div class=\"sk-container\" hidden><div class=\"sk-item\"><div class=\"sk-estimator sk-toggleable\"><input class=\"sk-toggleable__control sk-hidden--visually\" id=\"sk-estimator-id-1\" type=\"checkbox\" checked><label for=\"sk-estimator-id-1\" class=\"sk-toggleable__label sk-toggleable__label-arrow\">LinearRegression</label><div class=\"sk-toggleable__content\"><pre>LinearRegression()</pre></div></div></div></div></div>"
      ],
      "text/plain": [
       "LinearRegression()"
      ]
     },
     "execution_count": 48,
     "metadata": {},
     "output_type": "execute_result"
    }
   ],
   "source": [
    "lr.fit(xtrain,ytrain)"
   ]
  },
  {
   "cell_type": "code",
   "execution_count": 49,
   "id": "738e86f0",
   "metadata": {
    "execution": {
     "iopub.execute_input": "2023-11-26T09:32:22.595101Z",
     "iopub.status.busy": "2023-11-26T09:32:22.594684Z",
     "iopub.status.idle": "2023-11-26T09:32:22.614887Z",
     "shell.execute_reply": "2023-11-26T09:32:22.613292Z"
    },
    "papermill": {
     "duration": 0.088895,
     "end_time": "2023-11-26T09:32:22.619346",
     "exception": false,
     "start_time": "2023-11-26T09:32:22.530451",
     "status": "completed"
    },
    "tags": []
   },
   "outputs": [],
   "source": [
    "ytrain_pred_lr=lr.predict(xtrain)"
   ]
  },
  {
   "cell_type": "code",
   "execution_count": 50,
   "id": "27d3586d",
   "metadata": {
    "execution": {
     "iopub.execute_input": "2023-11-26T09:32:22.802128Z",
     "iopub.status.busy": "2023-11-26T09:32:22.801671Z",
     "iopub.status.idle": "2023-11-26T09:32:22.811199Z",
     "shell.execute_reply": "2023-11-26T09:32:22.809879Z"
    },
    "papermill": {
     "duration": 0.072987,
     "end_time": "2023-11-26T09:32:22.813688",
     "exception": false,
     "start_time": "2023-11-26T09:32:22.740701",
     "status": "completed"
    },
    "tags": []
   },
   "outputs": [
    {
     "name": "stdout",
     "output_type": "stream",
     "text": [
      "0.7288426691869264\n"
     ]
    }
   ],
   "source": [
    "print(r2_score(ytrain,ytrain_pred_lr))"
   ]
  },
  {
   "cell_type": "code",
   "execution_count": 51,
   "id": "04705e53",
   "metadata": {
    "execution": {
     "iopub.execute_input": "2023-11-26T09:32:22.935770Z",
     "iopub.status.busy": "2023-11-26T09:32:22.935314Z",
     "iopub.status.idle": "2023-11-26T09:32:22.948870Z",
     "shell.execute_reply": "2023-11-26T09:32:22.946645Z"
    },
    "papermill": {
     "duration": 0.079698,
     "end_time": "2023-11-26T09:32:22.953276",
     "exception": false,
     "start_time": "2023-11-26T09:32:22.873578",
     "status": "completed"
    },
    "tags": []
   },
   "outputs": [],
   "source": [
    "ytest_pred_lr=lr.predict(xtest)"
   ]
  },
  {
   "cell_type": "code",
   "execution_count": 52,
   "id": "9fbf0253",
   "metadata": {
    "execution": {
     "iopub.execute_input": "2023-11-26T09:32:23.138598Z",
     "iopub.status.busy": "2023-11-26T09:32:23.138004Z",
     "iopub.status.idle": "2023-11-26T09:32:23.147737Z",
     "shell.execute_reply": "2023-11-26T09:32:23.146251Z"
    },
    "papermill": {
     "duration": 0.077341,
     "end_time": "2023-11-26T09:32:23.150762",
     "exception": false,
     "start_time": "2023-11-26T09:32:23.073421",
     "status": "completed"
    },
    "tags": []
   },
   "outputs": [
    {
     "name": "stdout",
     "output_type": "stream",
     "text": [
      "0.6979823074402087\n"
     ]
    }
   ],
   "source": [
    "print(r2_score(ytest,ytest_pred_lr))"
   ]
  },
  {
   "cell_type": "code",
   "execution_count": 53,
   "id": "a34e8bf3",
   "metadata": {
    "execution": {
     "iopub.execute_input": "2023-11-26T09:32:23.277587Z",
     "iopub.status.busy": "2023-11-26T09:32:23.276392Z",
     "iopub.status.idle": "2023-11-26T09:32:24.104891Z",
     "shell.execute_reply": "2023-11-26T09:32:24.103363Z"
    },
    "papermill": {
     "duration": 0.895912,
     "end_time": "2023-11-26T09:32:24.109118",
     "exception": false,
     "start_time": "2023-11-26T09:32:23.213206",
     "status": "completed"
    },
    "tags": []
   },
   "outputs": [],
   "source": [
    "cross_val_scores = cross_val_score(lr, x, y, cv=5, scoring='r2')"
   ]
  },
  {
   "cell_type": "code",
   "execution_count": 54,
   "id": "2a300aba",
   "metadata": {
    "execution": {
     "iopub.execute_input": "2023-11-26T09:32:24.312191Z",
     "iopub.status.busy": "2023-11-26T09:32:24.311597Z",
     "iopub.status.idle": "2023-11-26T09:32:24.319553Z",
     "shell.execute_reply": "2023-11-26T09:32:24.318406Z"
    },
    "papermill": {
     "duration": 0.072847,
     "end_time": "2023-11-26T09:32:24.321985",
     "exception": false,
     "start_time": "2023-11-26T09:32:24.249138",
     "status": "completed"
    },
    "tags": []
   },
   "outputs": [
    {
     "data": {
      "text/plain": [
       "(0.7188017177535968, 0.012966709822949939)"
      ]
     },
     "execution_count": 54,
     "metadata": {},
     "output_type": "execute_result"
    }
   ],
   "source": [
    "cross_val_scores.mean(),cross_val_scores.std()"
   ]
  },
  {
   "cell_type": "markdown",
   "id": "dcd8d918",
   "metadata": {
    "papermill": {
     "duration": 0.059633,
     "end_time": "2023-11-26T09:32:24.441673",
     "exception": false,
     "start_time": "2023-11-26T09:32:24.382040",
     "status": "completed"
    },
    "tags": []
   },
   "source": [
    "# Model Training"
   ]
  },
  {
   "cell_type": "markdown",
   "id": "f292e9bd",
   "metadata": {
    "papermill": {
     "duration": 0.059824,
     "end_time": "2023-11-26T09:32:24.561711",
     "exception": false,
     "start_time": "2023-11-26T09:32:24.501887",
     "status": "completed"
    },
    "tags": []
   },
   "source": [
    "### 1 Random Forest"
   ]
  },
  {
   "cell_type": "code",
   "execution_count": 55,
   "id": "34d53e96",
   "metadata": {
    "execution": {
     "iopub.execute_input": "2023-11-26T09:32:24.687785Z",
     "iopub.status.busy": "2023-11-26T09:32:24.687315Z",
     "iopub.status.idle": "2023-11-26T09:32:24.692596Z",
     "shell.execute_reply": "2023-11-26T09:32:24.691365Z"
    },
    "papermill": {
     "duration": 0.06944,
     "end_time": "2023-11-26T09:32:24.694973",
     "exception": false,
     "start_time": "2023-11-26T09:32:24.625533",
     "status": "completed"
    },
    "tags": []
   },
   "outputs": [],
   "source": [
    "lin=RandomForestRegressor(n_estimators=100,max_depth=17,random_state=12)"
   ]
  },
  {
   "cell_type": "markdown",
   "id": "7ff1b2ce",
   "metadata": {
    "papermill": {
     "duration": 0.060784,
     "end_time": "2023-11-26T09:32:24.817582",
     "exception": false,
     "start_time": "2023-11-26T09:32:24.756798",
     "status": "completed"
    },
    "tags": []
   },
   "source": [
    "######  1.1 Model Training"
   ]
  },
  {
   "cell_type": "code",
   "execution_count": 56,
   "id": "74713f5c",
   "metadata": {
    "execution": {
     "iopub.execute_input": "2023-11-26T09:32:24.942145Z",
     "iopub.status.busy": "2023-11-26T09:32:24.941335Z",
     "iopub.status.idle": "2023-11-26T09:33:25.851830Z",
     "shell.execute_reply": "2023-11-26T09:33:25.850749Z"
    },
    "papermill": {
     "duration": 61.036213,
     "end_time": "2023-11-26T09:33:25.914464",
     "exception": false,
     "start_time": "2023-11-26T09:32:24.878251",
     "status": "completed"
    },
    "tags": []
   },
   "outputs": [
    {
     "data": {
      "text/html": [
       "<style>#sk-container-id-2 {color: black;background-color: white;}#sk-container-id-2 pre{padding: 0;}#sk-container-id-2 div.sk-toggleable {background-color: white;}#sk-container-id-2 label.sk-toggleable__label {cursor: pointer;display: block;width: 100%;margin-bottom: 0;padding: 0.3em;box-sizing: border-box;text-align: center;}#sk-container-id-2 label.sk-toggleable__label-arrow:before {content: \"▸\";float: left;margin-right: 0.25em;color: #696969;}#sk-container-id-2 label.sk-toggleable__label-arrow:hover:before {color: black;}#sk-container-id-2 div.sk-estimator:hover label.sk-toggleable__label-arrow:before {color: black;}#sk-container-id-2 div.sk-toggleable__content {max-height: 0;max-width: 0;overflow: hidden;text-align: left;background-color: #f0f8ff;}#sk-container-id-2 div.sk-toggleable__content pre {margin: 0.2em;color: black;border-radius: 0.25em;background-color: #f0f8ff;}#sk-container-id-2 input.sk-toggleable__control:checked~div.sk-toggleable__content {max-height: 200px;max-width: 100%;overflow: auto;}#sk-container-id-2 input.sk-toggleable__control:checked~label.sk-toggleable__label-arrow:before {content: \"▾\";}#sk-container-id-2 div.sk-estimator input.sk-toggleable__control:checked~label.sk-toggleable__label {background-color: #d4ebff;}#sk-container-id-2 div.sk-label input.sk-toggleable__control:checked~label.sk-toggleable__label {background-color: #d4ebff;}#sk-container-id-2 input.sk-hidden--visually {border: 0;clip: rect(1px 1px 1px 1px);clip: rect(1px, 1px, 1px, 1px);height: 1px;margin: -1px;overflow: hidden;padding: 0;position: absolute;width: 1px;}#sk-container-id-2 div.sk-estimator {font-family: monospace;background-color: #f0f8ff;border: 1px dotted black;border-radius: 0.25em;box-sizing: border-box;margin-bottom: 0.5em;}#sk-container-id-2 div.sk-estimator:hover {background-color: #d4ebff;}#sk-container-id-2 div.sk-parallel-item::after {content: \"\";width: 100%;border-bottom: 1px solid gray;flex-grow: 1;}#sk-container-id-2 div.sk-label:hover label.sk-toggleable__label {background-color: #d4ebff;}#sk-container-id-2 div.sk-serial::before {content: \"\";position: absolute;border-left: 1px solid gray;box-sizing: border-box;top: 0;bottom: 0;left: 50%;z-index: 0;}#sk-container-id-2 div.sk-serial {display: flex;flex-direction: column;align-items: center;background-color: white;padding-right: 0.2em;padding-left: 0.2em;position: relative;}#sk-container-id-2 div.sk-item {position: relative;z-index: 1;}#sk-container-id-2 div.sk-parallel {display: flex;align-items: stretch;justify-content: center;background-color: white;position: relative;}#sk-container-id-2 div.sk-item::before, #sk-container-id-2 div.sk-parallel-item::before {content: \"\";position: absolute;border-left: 1px solid gray;box-sizing: border-box;top: 0;bottom: 0;left: 50%;z-index: -1;}#sk-container-id-2 div.sk-parallel-item {display: flex;flex-direction: column;z-index: 1;position: relative;background-color: white;}#sk-container-id-2 div.sk-parallel-item:first-child::after {align-self: flex-end;width: 50%;}#sk-container-id-2 div.sk-parallel-item:last-child::after {align-self: flex-start;width: 50%;}#sk-container-id-2 div.sk-parallel-item:only-child::after {width: 0;}#sk-container-id-2 div.sk-dashed-wrapped {border: 1px dashed gray;margin: 0 0.4em 0.5em 0.4em;box-sizing: border-box;padding-bottom: 0.4em;background-color: white;}#sk-container-id-2 div.sk-label label {font-family: monospace;font-weight: bold;display: inline-block;line-height: 1.2em;}#sk-container-id-2 div.sk-label-container {text-align: center;}#sk-container-id-2 div.sk-container {/* jupyter's `normalize.less` sets `[hidden] { display: none; }` but bootstrap.min.css set `[hidden] { display: none !important; }` so we also need the `!important` here to be able to override the default hidden behavior on the sphinx rendered scikit-learn.org. See: https://github.com/scikit-learn/scikit-learn/issues/21755 */display: inline-block !important;position: relative;}#sk-container-id-2 div.sk-text-repr-fallback {display: none;}</style><div id=\"sk-container-id-2\" class=\"sk-top-container\"><div class=\"sk-text-repr-fallback\"><pre>RandomForestRegressor(max_depth=17, random_state=12)</pre><b>In a Jupyter environment, please rerun this cell to show the HTML representation or trust the notebook. <br />On GitHub, the HTML representation is unable to render, please try loading this page with nbviewer.org.</b></div><div class=\"sk-container\" hidden><div class=\"sk-item\"><div class=\"sk-estimator sk-toggleable\"><input class=\"sk-toggleable__control sk-hidden--visually\" id=\"sk-estimator-id-2\" type=\"checkbox\" checked><label for=\"sk-estimator-id-2\" class=\"sk-toggleable__label sk-toggleable__label-arrow\">RandomForestRegressor</label><div class=\"sk-toggleable__content\"><pre>RandomForestRegressor(max_depth=17, random_state=12)</pre></div></div></div></div></div>"
      ],
      "text/plain": [
       "RandomForestRegressor(max_depth=17, random_state=12)"
      ]
     },
     "execution_count": 56,
     "metadata": {},
     "output_type": "execute_result"
    }
   ],
   "source": [
    "lin.fit(xtrain,ytrain)"
   ]
  },
  {
   "cell_type": "code",
   "execution_count": 57,
   "id": "0f71319d",
   "metadata": {
    "execution": {
     "iopub.execute_input": "2023-11-26T09:33:26.039594Z",
     "iopub.status.busy": "2023-11-26T09:33:26.038581Z",
     "iopub.status.idle": "2023-11-26T09:33:28.284060Z",
     "shell.execute_reply": "2023-11-26T09:33:28.283080Z"
    },
    "papermill": {
     "duration": 2.309965,
     "end_time": "2023-11-26T09:33:28.286771",
     "exception": false,
     "start_time": "2023-11-26T09:33:25.976806",
     "status": "completed"
    },
    "tags": []
   },
   "outputs": [],
   "source": [
    "ytrain_pred=lin.predict(xtrain)"
   ]
  },
  {
   "cell_type": "code",
   "execution_count": 58,
   "id": "2f892aed",
   "metadata": {
    "execution": {
     "iopub.execute_input": "2023-11-26T09:33:28.410372Z",
     "iopub.status.busy": "2023-11-26T09:33:28.409592Z",
     "iopub.status.idle": "2023-11-26T09:33:28.418252Z",
     "shell.execute_reply": "2023-11-26T09:33:28.417275Z"
    },
    "papermill": {
     "duration": 0.074018,
     "end_time": "2023-11-26T09:33:28.420930",
     "exception": false,
     "start_time": "2023-11-26T09:33:28.346912",
     "status": "completed"
    },
    "tags": []
   },
   "outputs": [
    {
     "name": "stdout",
     "output_type": "stream",
     "text": [
      "0.9824086606691678\n"
     ]
    }
   ],
   "source": [
    "print(r2_score(ytrain,ytrain_pred))"
   ]
  },
  {
   "cell_type": "code",
   "execution_count": 59,
   "id": "c9b69717",
   "metadata": {
    "execution": {
     "iopub.execute_input": "2023-11-26T09:33:28.545838Z",
     "iopub.status.busy": "2023-11-26T09:33:28.545424Z",
     "iopub.status.idle": "2023-11-26T09:33:28.555836Z",
     "shell.execute_reply": "2023-11-26T09:33:28.554683Z"
    },
    "papermill": {
     "duration": 0.076167,
     "end_time": "2023-11-26T09:33:28.558781",
     "exception": false,
     "start_time": "2023-11-26T09:33:28.482614",
     "status": "completed"
    },
    "tags": []
   },
   "outputs": [
    {
     "name": "stdout",
     "output_type": "stream",
     "text": [
      "1.9957300619937939\n"
     ]
    }
   ],
   "source": [
    "print(mean_absolute_error(ytrain,ytrain_pred))"
   ]
  },
  {
   "cell_type": "markdown",
   "id": "a7e11687",
   "metadata": {
    "papermill": {
     "duration": 0.06106,
     "end_time": "2023-11-26T09:33:28.679571",
     "exception": false,
     "start_time": "2023-11-26T09:33:28.618511",
     "status": "completed"
    },
    "tags": []
   },
   "source": [
    "##### 1.2 Model testing"
   ]
  },
  {
   "cell_type": "code",
   "execution_count": 60,
   "id": "b5026fab",
   "metadata": {
    "execution": {
     "iopub.execute_input": "2023-11-26T09:33:28.809648Z",
     "iopub.status.busy": "2023-11-26T09:33:28.808246Z",
     "iopub.status.idle": "2023-11-26T09:33:29.816064Z",
     "shell.execute_reply": "2023-11-26T09:33:29.814955Z"
    },
    "papermill": {
     "duration": 1.077347,
     "end_time": "2023-11-26T09:33:29.818742",
     "exception": false,
     "start_time": "2023-11-26T09:33:28.741395",
     "status": "completed"
    },
    "tags": []
   },
   "outputs": [],
   "source": [
    "ytest_pred=lin.predict(xtest)"
   ]
  },
  {
   "cell_type": "code",
   "execution_count": 61,
   "id": "0c3d14c3",
   "metadata": {
    "execution": {
     "iopub.execute_input": "2023-11-26T09:33:29.945617Z",
     "iopub.status.busy": "2023-11-26T09:33:29.944908Z",
     "iopub.status.idle": "2023-11-26T09:33:29.952452Z",
     "shell.execute_reply": "2023-11-26T09:33:29.951550Z"
    },
    "papermill": {
     "duration": 0.072445,
     "end_time": "2023-11-26T09:33:29.954689",
     "exception": false,
     "start_time": "2023-11-26T09:33:29.882244",
     "status": "completed"
    },
    "tags": []
   },
   "outputs": [
    {
     "name": "stdout",
     "output_type": "stream",
     "text": [
      "0.9366237448457384\n"
     ]
    }
   ],
   "source": [
    "print(r2_score(ytest,ytest_pred))"
   ]
  },
  {
   "cell_type": "code",
   "execution_count": 62,
   "id": "d2adce3c",
   "metadata": {
    "execution": {
     "iopub.execute_input": "2023-11-26T09:33:30.078473Z",
     "iopub.status.busy": "2023-11-26T09:33:30.077698Z",
     "iopub.status.idle": "2023-11-26T09:33:30.085153Z",
     "shell.execute_reply": "2023-11-26T09:33:30.084369Z"
    },
    "papermill": {
     "duration": 0.072569,
     "end_time": "2023-11-26T09:33:30.087966",
     "exception": false,
     "start_time": "2023-11-26T09:33:30.015397",
     "status": "completed"
    },
    "tags": []
   },
   "outputs": [
    {
     "name": "stdout",
     "output_type": "stream",
     "text": [
      "2.737322510195987\n"
     ]
    }
   ],
   "source": [
    "print(mean_absolute_error(ytest,ytest_pred))"
   ]
  },
  {
   "cell_type": "markdown",
   "id": "49fbaa75",
   "metadata": {
    "papermill": {
     "duration": 0.061614,
     "end_time": "2023-11-26T09:33:30.213040",
     "exception": false,
     "start_time": "2023-11-26T09:33:30.151426",
     "status": "completed"
    },
    "tags": []
   },
   "source": [
    "### 2 XGBOOST"
   ]
  },
  {
   "cell_type": "code",
   "execution_count": 63,
   "id": "bfe73c01",
   "metadata": {
    "execution": {
     "iopub.execute_input": "2023-11-26T09:33:30.342776Z",
     "iopub.status.busy": "2023-11-26T09:33:30.342237Z",
     "iopub.status.idle": "2023-11-26T09:33:30.347728Z",
     "shell.execute_reply": "2023-11-26T09:33:30.346520Z"
    },
    "papermill": {
     "duration": 0.073411,
     "end_time": "2023-11-26T09:33:30.350229",
     "exception": false,
     "start_time": "2023-11-26T09:33:30.276818",
     "status": "completed"
    },
    "tags": []
   },
   "outputs": [],
   "source": [
    "xgb=XGBRegressor(n_estimators=500 ,random_state=15)"
   ]
  },
  {
   "cell_type": "markdown",
   "id": "d4bd1289",
   "metadata": {
    "papermill": {
     "duration": 0.061243,
     "end_time": "2023-11-26T09:33:30.473833",
     "exception": false,
     "start_time": "2023-11-26T09:33:30.412590",
     "status": "completed"
    },
    "tags": []
   },
   "source": [
    "##### 2.1 Model Training"
   ]
  },
  {
   "cell_type": "code",
   "execution_count": 64,
   "id": "f1be2dca",
   "metadata": {
    "execution": {
     "iopub.execute_input": "2023-11-26T09:33:30.598803Z",
     "iopub.status.busy": "2023-11-26T09:33:30.597951Z",
     "iopub.status.idle": "2023-11-26T09:34:51.783222Z",
     "shell.execute_reply": "2023-11-26T09:34:51.782317Z"
    },
    "papermill": {
     "duration": 81.312253,
     "end_time": "2023-11-26T09:34:51.847218",
     "exception": false,
     "start_time": "2023-11-26T09:33:30.534965",
     "status": "completed"
    },
    "tags": []
   },
   "outputs": [
    {
     "data": {
      "text/html": [
       "<style>#sk-container-id-3 {color: black;background-color: white;}#sk-container-id-3 pre{padding: 0;}#sk-container-id-3 div.sk-toggleable {background-color: white;}#sk-container-id-3 label.sk-toggleable__label {cursor: pointer;display: block;width: 100%;margin-bottom: 0;padding: 0.3em;box-sizing: border-box;text-align: center;}#sk-container-id-3 label.sk-toggleable__label-arrow:before {content: \"▸\";float: left;margin-right: 0.25em;color: #696969;}#sk-container-id-3 label.sk-toggleable__label-arrow:hover:before {color: black;}#sk-container-id-3 div.sk-estimator:hover label.sk-toggleable__label-arrow:before {color: black;}#sk-container-id-3 div.sk-toggleable__content {max-height: 0;max-width: 0;overflow: hidden;text-align: left;background-color: #f0f8ff;}#sk-container-id-3 div.sk-toggleable__content pre {margin: 0.2em;color: black;border-radius: 0.25em;background-color: #f0f8ff;}#sk-container-id-3 input.sk-toggleable__control:checked~div.sk-toggleable__content {max-height: 200px;max-width: 100%;overflow: auto;}#sk-container-id-3 input.sk-toggleable__control:checked~label.sk-toggleable__label-arrow:before {content: \"▾\";}#sk-container-id-3 div.sk-estimator input.sk-toggleable__control:checked~label.sk-toggleable__label {background-color: #d4ebff;}#sk-container-id-3 div.sk-label input.sk-toggleable__control:checked~label.sk-toggleable__label {background-color: #d4ebff;}#sk-container-id-3 input.sk-hidden--visually {border: 0;clip: rect(1px 1px 1px 1px);clip: rect(1px, 1px, 1px, 1px);height: 1px;margin: -1px;overflow: hidden;padding: 0;position: absolute;width: 1px;}#sk-container-id-3 div.sk-estimator {font-family: monospace;background-color: #f0f8ff;border: 1px dotted black;border-radius: 0.25em;box-sizing: border-box;margin-bottom: 0.5em;}#sk-container-id-3 div.sk-estimator:hover {background-color: #d4ebff;}#sk-container-id-3 div.sk-parallel-item::after {content: \"\";width: 100%;border-bottom: 1px solid gray;flex-grow: 1;}#sk-container-id-3 div.sk-label:hover label.sk-toggleable__label {background-color: #d4ebff;}#sk-container-id-3 div.sk-serial::before {content: \"\";position: absolute;border-left: 1px solid gray;box-sizing: border-box;top: 0;bottom: 0;left: 50%;z-index: 0;}#sk-container-id-3 div.sk-serial {display: flex;flex-direction: column;align-items: center;background-color: white;padding-right: 0.2em;padding-left: 0.2em;position: relative;}#sk-container-id-3 div.sk-item {position: relative;z-index: 1;}#sk-container-id-3 div.sk-parallel {display: flex;align-items: stretch;justify-content: center;background-color: white;position: relative;}#sk-container-id-3 div.sk-item::before, #sk-container-id-3 div.sk-parallel-item::before {content: \"\";position: absolute;border-left: 1px solid gray;box-sizing: border-box;top: 0;bottom: 0;left: 50%;z-index: -1;}#sk-container-id-3 div.sk-parallel-item {display: flex;flex-direction: column;z-index: 1;position: relative;background-color: white;}#sk-container-id-3 div.sk-parallel-item:first-child::after {align-self: flex-end;width: 50%;}#sk-container-id-3 div.sk-parallel-item:last-child::after {align-self: flex-start;width: 50%;}#sk-container-id-3 div.sk-parallel-item:only-child::after {width: 0;}#sk-container-id-3 div.sk-dashed-wrapped {border: 1px dashed gray;margin: 0 0.4em 0.5em 0.4em;box-sizing: border-box;padding-bottom: 0.4em;background-color: white;}#sk-container-id-3 div.sk-label label {font-family: monospace;font-weight: bold;display: inline-block;line-height: 1.2em;}#sk-container-id-3 div.sk-label-container {text-align: center;}#sk-container-id-3 div.sk-container {/* jupyter's `normalize.less` sets `[hidden] { display: none; }` but bootstrap.min.css set `[hidden] { display: none !important; }` so we also need the `!important` here to be able to override the default hidden behavior on the sphinx rendered scikit-learn.org. See: https://github.com/scikit-learn/scikit-learn/issues/21755 */display: inline-block !important;position: relative;}#sk-container-id-3 div.sk-text-repr-fallback {display: none;}</style><div id=\"sk-container-id-3\" class=\"sk-top-container\"><div class=\"sk-text-repr-fallback\"><pre>XGBRegressor(base_score=None, booster=None, callbacks=None,\n",
       "             colsample_bylevel=None, colsample_bynode=None,\n",
       "             colsample_bytree=None, early_stopping_rounds=None,\n",
       "             enable_categorical=False, eval_metric=None, feature_types=None,\n",
       "             gamma=None, gpu_id=None, grow_policy=None, importance_type=None,\n",
       "             interaction_constraints=None, learning_rate=None, max_bin=None,\n",
       "             max_cat_threshold=None, max_cat_to_onehot=None,\n",
       "             max_delta_step=None, max_depth=None, max_leaves=None,\n",
       "             min_child_weight=None, missing=nan, monotone_constraints=None,\n",
       "             n_estimators=500, n_jobs=None, num_parallel_tree=None,\n",
       "             predictor=None, random_state=15, ...)</pre><b>In a Jupyter environment, please rerun this cell to show the HTML representation or trust the notebook. <br />On GitHub, the HTML representation is unable to render, please try loading this page with nbviewer.org.</b></div><div class=\"sk-container\" hidden><div class=\"sk-item\"><div class=\"sk-estimator sk-toggleable\"><input class=\"sk-toggleable__control sk-hidden--visually\" id=\"sk-estimator-id-3\" type=\"checkbox\" checked><label for=\"sk-estimator-id-3\" class=\"sk-toggleable__label sk-toggleable__label-arrow\">XGBRegressor</label><div class=\"sk-toggleable__content\"><pre>XGBRegressor(base_score=None, booster=None, callbacks=None,\n",
       "             colsample_bylevel=None, colsample_bynode=None,\n",
       "             colsample_bytree=None, early_stopping_rounds=None,\n",
       "             enable_categorical=False, eval_metric=None, feature_types=None,\n",
       "             gamma=None, gpu_id=None, grow_policy=None, importance_type=None,\n",
       "             interaction_constraints=None, learning_rate=None, max_bin=None,\n",
       "             max_cat_threshold=None, max_cat_to_onehot=None,\n",
       "             max_delta_step=None, max_depth=None, max_leaves=None,\n",
       "             min_child_weight=None, missing=nan, monotone_constraints=None,\n",
       "             n_estimators=500, n_jobs=None, num_parallel_tree=None,\n",
       "             predictor=None, random_state=15, ...)</pre></div></div></div></div></div>"
      ],
      "text/plain": [
       "XGBRegressor(base_score=None, booster=None, callbacks=None,\n",
       "             colsample_bylevel=None, colsample_bynode=None,\n",
       "             colsample_bytree=None, early_stopping_rounds=None,\n",
       "             enable_categorical=False, eval_metric=None, feature_types=None,\n",
       "             gamma=None, gpu_id=None, grow_policy=None, importance_type=None,\n",
       "             interaction_constraints=None, learning_rate=None, max_bin=None,\n",
       "             max_cat_threshold=None, max_cat_to_onehot=None,\n",
       "             max_delta_step=None, max_depth=None, max_leaves=None,\n",
       "             min_child_weight=None, missing=nan, monotone_constraints=None,\n",
       "             n_estimators=500, n_jobs=None, num_parallel_tree=None,\n",
       "             predictor=None, random_state=15, ...)"
      ]
     },
     "execution_count": 64,
     "metadata": {},
     "output_type": "execute_result"
    }
   ],
   "source": [
    "xgb.fit(xtrain,ytrain)"
   ]
  },
  {
   "cell_type": "code",
   "execution_count": 65,
   "id": "fcf02077",
   "metadata": {
    "execution": {
     "iopub.execute_input": "2023-11-26T09:34:51.973998Z",
     "iopub.status.busy": "2023-11-26T09:34:51.973382Z",
     "iopub.status.idle": "2023-11-26T09:34:53.431495Z",
     "shell.execute_reply": "2023-11-26T09:34:53.430505Z"
    },
    "papermill": {
     "duration": 1.524998,
     "end_time": "2023-11-26T09:34:53.434106",
     "exception": false,
     "start_time": "2023-11-26T09:34:51.909108",
     "status": "completed"
    },
    "tags": []
   },
   "outputs": [],
   "source": [
    "y_pred_train_xgb=xgb.predict(xtrain)"
   ]
  },
  {
   "cell_type": "code",
   "execution_count": 66,
   "id": "e27d17eb",
   "metadata": {
    "execution": {
     "iopub.execute_input": "2023-11-26T09:34:53.559105Z",
     "iopub.status.busy": "2023-11-26T09:34:53.558308Z",
     "iopub.status.idle": "2023-11-26T09:34:53.567756Z",
     "shell.execute_reply": "2023-11-26T09:34:53.566889Z"
    },
    "papermill": {
     "duration": 0.074804,
     "end_time": "2023-11-26T09:34:53.570224",
     "exception": false,
     "start_time": "2023-11-26T09:34:53.495420",
     "status": "completed"
    },
    "tags": []
   },
   "outputs": [
    {
     "data": {
      "text/plain": [
       "0.9861485886082753"
      ]
     },
     "execution_count": 66,
     "metadata": {},
     "output_type": "execute_result"
    }
   ],
   "source": [
    "r2_score(ytrain,y_pred_train_xgb)"
   ]
  },
  {
   "cell_type": "markdown",
   "id": "acc3c7d5",
   "metadata": {
    "papermill": {
     "duration": 0.063735,
     "end_time": "2023-11-26T09:34:53.697050",
     "exception": false,
     "start_time": "2023-11-26T09:34:53.633315",
     "status": "completed"
    },
    "tags": []
   },
   "source": [
    "##### 2.2 Model Testing"
   ]
  },
  {
   "cell_type": "code",
   "execution_count": 67,
   "id": "bf1ca7a2",
   "metadata": {
    "execution": {
     "iopub.execute_input": "2023-11-26T09:34:53.825064Z",
     "iopub.status.busy": "2023-11-26T09:34:53.824364Z",
     "iopub.status.idle": "2023-11-26T09:34:54.459122Z",
     "shell.execute_reply": "2023-11-26T09:34:54.458194Z"
    },
    "papermill": {
     "duration": 0.70164,
     "end_time": "2023-11-26T09:34:54.461770",
     "exception": false,
     "start_time": "2023-11-26T09:34:53.760130",
     "status": "completed"
    },
    "tags": []
   },
   "outputs": [],
   "source": [
    "y_pred_test_xgb=xgb.predict(xtest)"
   ]
  },
  {
   "cell_type": "code",
   "execution_count": 68,
   "id": "c59f1270",
   "metadata": {
    "execution": {
     "iopub.execute_input": "2023-11-26T09:34:54.589149Z",
     "iopub.status.busy": "2023-11-26T09:34:54.588503Z",
     "iopub.status.idle": "2023-11-26T09:34:54.597083Z",
     "shell.execute_reply": "2023-11-26T09:34:54.596186Z"
    },
    "papermill": {
     "duration": 0.075987,
     "end_time": "2023-11-26T09:34:54.599537",
     "exception": false,
     "start_time": "2023-11-26T09:34:54.523550",
     "status": "completed"
    },
    "scrolled": true,
    "tags": []
   },
   "outputs": [
    {
     "data": {
      "text/plain": [
       "0.9375607874425954"
      ]
     },
     "execution_count": 68,
     "metadata": {},
     "output_type": "execute_result"
    }
   ],
   "source": [
    "r2_score(ytest,y_pred_test_xgb)"
   ]
  },
  {
   "cell_type": "code",
   "execution_count": 69,
   "id": "da4a40e2",
   "metadata": {
    "execution": {
     "iopub.execute_input": "2023-11-26T09:34:54.727382Z",
     "iopub.status.busy": "2023-11-26T09:34:54.726502Z",
     "iopub.status.idle": "2023-11-26T09:34:54.734586Z",
     "shell.execute_reply": "2023-11-26T09:34:54.733557Z"
    },
    "papermill": {
     "duration": 0.074488,
     "end_time": "2023-11-26T09:34:54.737571",
     "exception": false,
     "start_time": "2023-11-26T09:34:54.663083",
     "status": "completed"
    },
    "tags": []
   },
   "outputs": [
    {
     "name": "stdout",
     "output_type": "stream",
     "text": [
      "2.7576888831110145\n"
     ]
    }
   ],
   "source": [
    "print(mean_absolute_error(ytest,y_pred_test_xgb))"
   ]
  },
  {
   "cell_type": "markdown",
   "id": "ad3077b4",
   "metadata": {
    "papermill": {
     "duration": 0.066629,
     "end_time": "2023-11-26T09:34:54.866130",
     "exception": false,
     "start_time": "2023-11-26T09:34:54.799501",
     "status": "completed"
    },
    "tags": []
   },
   "source": [
    "## 3 LGBOOST"
   ]
  },
  {
   "cell_type": "code",
   "execution_count": 70,
   "id": "b658261c",
   "metadata": {
    "execution": {
     "iopub.execute_input": "2023-11-26T09:34:54.994072Z",
     "iopub.status.busy": "2023-11-26T09:34:54.993614Z",
     "iopub.status.idle": "2023-11-26T09:44:31.836587Z",
     "shell.execute_reply": "2023-11-26T09:44:31.835375Z"
    },
    "papermill": {
     "duration": 576.971093,
     "end_time": "2023-11-26T09:44:31.900576",
     "exception": false,
     "start_time": "2023-11-26T09:34:54.929483",
     "status": "completed"
    },
    "tags": []
   },
   "outputs": [
    {
     "name": "stdout",
     "output_type": "stream",
     "text": [
      "Fitting 5 folds for each of 50 candidates, totalling 250 fits\n"
     ]
    },
    {
     "data": {
      "text/html": [
       "<style>#sk-container-id-4 {color: black;background-color: white;}#sk-container-id-4 pre{padding: 0;}#sk-container-id-4 div.sk-toggleable {background-color: white;}#sk-container-id-4 label.sk-toggleable__label {cursor: pointer;display: block;width: 100%;margin-bottom: 0;padding: 0.3em;box-sizing: border-box;text-align: center;}#sk-container-id-4 label.sk-toggleable__label-arrow:before {content: \"▸\";float: left;margin-right: 0.25em;color: #696969;}#sk-container-id-4 label.sk-toggleable__label-arrow:hover:before {color: black;}#sk-container-id-4 div.sk-estimator:hover label.sk-toggleable__label-arrow:before {color: black;}#sk-container-id-4 div.sk-toggleable__content {max-height: 0;max-width: 0;overflow: hidden;text-align: left;background-color: #f0f8ff;}#sk-container-id-4 div.sk-toggleable__content pre {margin: 0.2em;color: black;border-radius: 0.25em;background-color: #f0f8ff;}#sk-container-id-4 input.sk-toggleable__control:checked~div.sk-toggleable__content {max-height: 200px;max-width: 100%;overflow: auto;}#sk-container-id-4 input.sk-toggleable__control:checked~label.sk-toggleable__label-arrow:before {content: \"▾\";}#sk-container-id-4 div.sk-estimator input.sk-toggleable__control:checked~label.sk-toggleable__label {background-color: #d4ebff;}#sk-container-id-4 div.sk-label input.sk-toggleable__control:checked~label.sk-toggleable__label {background-color: #d4ebff;}#sk-container-id-4 input.sk-hidden--visually {border: 0;clip: rect(1px 1px 1px 1px);clip: rect(1px, 1px, 1px, 1px);height: 1px;margin: -1px;overflow: hidden;padding: 0;position: absolute;width: 1px;}#sk-container-id-4 div.sk-estimator {font-family: monospace;background-color: #f0f8ff;border: 1px dotted black;border-radius: 0.25em;box-sizing: border-box;margin-bottom: 0.5em;}#sk-container-id-4 div.sk-estimator:hover {background-color: #d4ebff;}#sk-container-id-4 div.sk-parallel-item::after {content: \"\";width: 100%;border-bottom: 1px solid gray;flex-grow: 1;}#sk-container-id-4 div.sk-label:hover label.sk-toggleable__label {background-color: #d4ebff;}#sk-container-id-4 div.sk-serial::before {content: \"\";position: absolute;border-left: 1px solid gray;box-sizing: border-box;top: 0;bottom: 0;left: 50%;z-index: 0;}#sk-container-id-4 div.sk-serial {display: flex;flex-direction: column;align-items: center;background-color: white;padding-right: 0.2em;padding-left: 0.2em;position: relative;}#sk-container-id-4 div.sk-item {position: relative;z-index: 1;}#sk-container-id-4 div.sk-parallel {display: flex;align-items: stretch;justify-content: center;background-color: white;position: relative;}#sk-container-id-4 div.sk-item::before, #sk-container-id-4 div.sk-parallel-item::before {content: \"\";position: absolute;border-left: 1px solid gray;box-sizing: border-box;top: 0;bottom: 0;left: 50%;z-index: -1;}#sk-container-id-4 div.sk-parallel-item {display: flex;flex-direction: column;z-index: 1;position: relative;background-color: white;}#sk-container-id-4 div.sk-parallel-item:first-child::after {align-self: flex-end;width: 50%;}#sk-container-id-4 div.sk-parallel-item:last-child::after {align-self: flex-start;width: 50%;}#sk-container-id-4 div.sk-parallel-item:only-child::after {width: 0;}#sk-container-id-4 div.sk-dashed-wrapped {border: 1px dashed gray;margin: 0 0.4em 0.5em 0.4em;box-sizing: border-box;padding-bottom: 0.4em;background-color: white;}#sk-container-id-4 div.sk-label label {font-family: monospace;font-weight: bold;display: inline-block;line-height: 1.2em;}#sk-container-id-4 div.sk-label-container {text-align: center;}#sk-container-id-4 div.sk-container {/* jupyter's `normalize.less` sets `[hidden] { display: none; }` but bootstrap.min.css set `[hidden] { display: none !important; }` so we also need the `!important` here to be able to override the default hidden behavior on the sphinx rendered scikit-learn.org. See: https://github.com/scikit-learn/scikit-learn/issues/21755 */display: inline-block !important;position: relative;}#sk-container-id-4 div.sk-text-repr-fallback {display: none;}</style><div id=\"sk-container-id-4\" class=\"sk-top-container\"><div class=\"sk-text-repr-fallback\"><pre>RandomizedSearchCV(cv=5, estimator=LGBMRegressor(), n_iter=50, n_jobs=-1,\n",
       "                   param_distributions={&#x27;colsample_bytree&#x27;: [0.8, 0.9, 1.0],\n",
       "                                        &#x27;learning_rate&#x27;: [0.01, 0.1, 0.2],\n",
       "                                        &#x27;max_depth&#x27;: [6, 8, 10, 12],\n",
       "                                        &#x27;n_estimators&#x27;: [100, 200, 300],\n",
       "                                        &#x27;subsample&#x27;: [0.8, 0.9, 1.0]},\n",
       "                   scoring=&#x27;neg_mean_squared_error&#x27;, verbose=1)</pre><b>In a Jupyter environment, please rerun this cell to show the HTML representation or trust the notebook. <br />On GitHub, the HTML representation is unable to render, please try loading this page with nbviewer.org.</b></div><div class=\"sk-container\" hidden><div class=\"sk-item sk-dashed-wrapped\"><div class=\"sk-label-container\"><div class=\"sk-label sk-toggleable\"><input class=\"sk-toggleable__control sk-hidden--visually\" id=\"sk-estimator-id-4\" type=\"checkbox\" ><label for=\"sk-estimator-id-4\" class=\"sk-toggleable__label sk-toggleable__label-arrow\">RandomizedSearchCV</label><div class=\"sk-toggleable__content\"><pre>RandomizedSearchCV(cv=5, estimator=LGBMRegressor(), n_iter=50, n_jobs=-1,\n",
       "                   param_distributions={&#x27;colsample_bytree&#x27;: [0.8, 0.9, 1.0],\n",
       "                                        &#x27;learning_rate&#x27;: [0.01, 0.1, 0.2],\n",
       "                                        &#x27;max_depth&#x27;: [6, 8, 10, 12],\n",
       "                                        &#x27;n_estimators&#x27;: [100, 200, 300],\n",
       "                                        &#x27;subsample&#x27;: [0.8, 0.9, 1.0]},\n",
       "                   scoring=&#x27;neg_mean_squared_error&#x27;, verbose=1)</pre></div></div></div><div class=\"sk-parallel\"><div class=\"sk-parallel-item\"><div class=\"sk-item\"><div class=\"sk-label-container\"><div class=\"sk-label sk-toggleable\"><input class=\"sk-toggleable__control sk-hidden--visually\" id=\"sk-estimator-id-5\" type=\"checkbox\" ><label for=\"sk-estimator-id-5\" class=\"sk-toggleable__label sk-toggleable__label-arrow\">estimator: LGBMRegressor</label><div class=\"sk-toggleable__content\"><pre>LGBMRegressor()</pre></div></div></div><div class=\"sk-serial\"><div class=\"sk-item\"><div class=\"sk-estimator sk-toggleable\"><input class=\"sk-toggleable__control sk-hidden--visually\" id=\"sk-estimator-id-6\" type=\"checkbox\" ><label for=\"sk-estimator-id-6\" class=\"sk-toggleable__label sk-toggleable__label-arrow\">LGBMRegressor</label><div class=\"sk-toggleable__content\"><pre>LGBMRegressor()</pre></div></div></div></div></div></div></div></div></div></div>"
      ],
      "text/plain": [
       "RandomizedSearchCV(cv=5, estimator=LGBMRegressor(), n_iter=50, n_jobs=-1,\n",
       "                   param_distributions={'colsample_bytree': [0.8, 0.9, 1.0],\n",
       "                                        'learning_rate': [0.01, 0.1, 0.2],\n",
       "                                        'max_depth': [6, 8, 10, 12],\n",
       "                                        'n_estimators': [100, 200, 300],\n",
       "                                        'subsample': [0.8, 0.9, 1.0]},\n",
       "                   scoring='neg_mean_squared_error', verbose=1)"
      ]
     },
     "execution_count": 70,
     "metadata": {},
     "output_type": "execute_result"
    }
   ],
   "source": [
    "param_dist = {\n",
    "    'n_estimators': [100, 200, 300],\n",
    "    'max_depth': [6, 8, 10, 12],\n",
    "    'learning_rate': [0.01, 0.1, 0.2],\n",
    "    'subsample': [0.8, 0.9, 1.0],\n",
    "    'colsample_bytree': [0.8, 0.9, 1.0],\n",
    "}\n",
    "\n",
    "# Create the LightGBM regressor\n",
    "lgb_reg = LGBMRegressor()\n",
    "\n",
    "# Initialize the RandomizedSearchCV\n",
    "random_search = RandomizedSearchCV(\n",
    "    estimator=lgb_reg,\n",
    "    param_distributions=param_dist,\n",
    "    n_iter=50,  # Reduce the number of iterations\n",
    "    scoring='neg_mean_squared_error',  # Use an appropriate scoring metric\n",
    "    cv=5,\n",
    "    n_jobs=-1,  # Utilize parallel processing if available\n",
    "    verbose=1\n",
    ")\n",
    "\n",
    "# Perform the random search on your data\n",
    "random_search.fit(xtrain, ytrain)"
   ]
  },
  {
   "cell_type": "code",
   "execution_count": 71,
   "id": "4cbfbc63",
   "metadata": {
    "execution": {
     "iopub.execute_input": "2023-11-26T09:44:32.026580Z",
     "iopub.status.busy": "2023-11-26T09:44:32.025956Z",
     "iopub.status.idle": "2023-11-26T09:44:32.030225Z",
     "shell.execute_reply": "2023-11-26T09:44:32.029341Z"
    },
    "papermill": {
     "duration": 0.070595,
     "end_time": "2023-11-26T09:44:32.032616",
     "exception": false,
     "start_time": "2023-11-26T09:44:31.962021",
     "status": "completed"
    },
    "tags": []
   },
   "outputs": [],
   "source": [
    "best_params = random_search.best_params_\n",
    "best_score = random_search.best_score_"
   ]
  },
  {
   "cell_type": "code",
   "execution_count": 72,
   "id": "a908c5f3",
   "metadata": {
    "execution": {
     "iopub.execute_input": "2023-11-26T09:44:32.160462Z",
     "iopub.status.busy": "2023-11-26T09:44:32.159705Z",
     "iopub.status.idle": "2023-11-26T09:44:32.166004Z",
     "shell.execute_reply": "2023-11-26T09:44:32.165137Z"
    },
    "papermill": {
     "duration": 0.072768,
     "end_time": "2023-11-26T09:44:32.168251",
     "exception": false,
     "start_time": "2023-11-26T09:44:32.095483",
     "status": "completed"
    },
    "tags": []
   },
   "outputs": [
    {
     "data": {
      "text/plain": [
       "{'subsample': 0.9,\n",
       " 'n_estimators': 200,\n",
       " 'max_depth': 8,\n",
       " 'learning_rate': 0.1,\n",
       " 'colsample_bytree': 0.8}"
      ]
     },
     "execution_count": 72,
     "metadata": {},
     "output_type": "execute_result"
    }
   ],
   "source": [
    "best_params"
   ]
  },
  {
   "cell_type": "code",
   "execution_count": 73,
   "id": "75a77dc1",
   "metadata": {
    "execution": {
     "iopub.execute_input": "2023-11-26T09:44:32.295401Z",
     "iopub.status.busy": "2023-11-26T09:44:32.294645Z",
     "iopub.status.idle": "2023-11-26T09:44:32.300870Z",
     "shell.execute_reply": "2023-11-26T09:44:32.299702Z"
    },
    "papermill": {
     "duration": 0.073105,
     "end_time": "2023-11-26T09:44:32.303125",
     "exception": false,
     "start_time": "2023-11-26T09:44:32.230020",
     "status": "completed"
    },
    "tags": []
   },
   "outputs": [
    {
     "data": {
      "text/plain": [
       "-41.805251320931816"
      ]
     },
     "execution_count": 73,
     "metadata": {},
     "output_type": "execute_result"
    }
   ],
   "source": [
    "best_score"
   ]
  },
  {
   "cell_type": "markdown",
   "id": "818af497",
   "metadata": {
    "papermill": {
     "duration": 0.062728,
     "end_time": "2023-11-26T09:44:32.427538",
     "exception": false,
     "start_time": "2023-11-26T09:44:32.364810",
     "status": "completed"
    },
    "tags": []
   },
   "source": [
    "##### 3.1 Model Traing"
   ]
  },
  {
   "cell_type": "code",
   "execution_count": 74,
   "id": "3fe4640a",
   "metadata": {
    "execution": {
     "iopub.execute_input": "2023-11-26T09:44:32.555654Z",
     "iopub.status.busy": "2023-11-26T09:44:32.554923Z",
     "iopub.status.idle": "2023-11-26T09:44:32.559804Z",
     "shell.execute_reply": "2023-11-26T09:44:32.558884Z"
    },
    "papermill": {
     "duration": 0.070879,
     "end_time": "2023-11-26T09:44:32.561965",
     "exception": false,
     "start_time": "2023-11-26T09:44:32.491086",
     "status": "completed"
    },
    "tags": []
   },
   "outputs": [],
   "source": [
    "lgbm=LGBMRegressor(subsample=1.0,n_estimators=200,max_depth=12,learning_rate=0.1,colsample_bytree=0.8)"
   ]
  },
  {
   "cell_type": "code",
   "execution_count": 75,
   "id": "78642cb2",
   "metadata": {
    "execution": {
     "iopub.execute_input": "2023-11-26T09:44:32.687956Z",
     "iopub.status.busy": "2023-11-26T09:44:32.687236Z",
     "iopub.status.idle": "2023-11-26T09:44:35.219254Z",
     "shell.execute_reply": "2023-11-26T09:44:35.218027Z"
    },
    "papermill": {
     "duration": 2.597821,
     "end_time": "2023-11-26T09:44:35.221861",
     "exception": false,
     "start_time": "2023-11-26T09:44:32.624040",
     "status": "completed"
    },
    "tags": []
   },
   "outputs": [
    {
     "data": {
      "text/html": [
       "<style>#sk-container-id-5 {color: black;background-color: white;}#sk-container-id-5 pre{padding: 0;}#sk-container-id-5 div.sk-toggleable {background-color: white;}#sk-container-id-5 label.sk-toggleable__label {cursor: pointer;display: block;width: 100%;margin-bottom: 0;padding: 0.3em;box-sizing: border-box;text-align: center;}#sk-container-id-5 label.sk-toggleable__label-arrow:before {content: \"▸\";float: left;margin-right: 0.25em;color: #696969;}#sk-container-id-5 label.sk-toggleable__label-arrow:hover:before {color: black;}#sk-container-id-5 div.sk-estimator:hover label.sk-toggleable__label-arrow:before {color: black;}#sk-container-id-5 div.sk-toggleable__content {max-height: 0;max-width: 0;overflow: hidden;text-align: left;background-color: #f0f8ff;}#sk-container-id-5 div.sk-toggleable__content pre {margin: 0.2em;color: black;border-radius: 0.25em;background-color: #f0f8ff;}#sk-container-id-5 input.sk-toggleable__control:checked~div.sk-toggleable__content {max-height: 200px;max-width: 100%;overflow: auto;}#sk-container-id-5 input.sk-toggleable__control:checked~label.sk-toggleable__label-arrow:before {content: \"▾\";}#sk-container-id-5 div.sk-estimator input.sk-toggleable__control:checked~label.sk-toggleable__label {background-color: #d4ebff;}#sk-container-id-5 div.sk-label input.sk-toggleable__control:checked~label.sk-toggleable__label {background-color: #d4ebff;}#sk-container-id-5 input.sk-hidden--visually {border: 0;clip: rect(1px 1px 1px 1px);clip: rect(1px, 1px, 1px, 1px);height: 1px;margin: -1px;overflow: hidden;padding: 0;position: absolute;width: 1px;}#sk-container-id-5 div.sk-estimator {font-family: monospace;background-color: #f0f8ff;border: 1px dotted black;border-radius: 0.25em;box-sizing: border-box;margin-bottom: 0.5em;}#sk-container-id-5 div.sk-estimator:hover {background-color: #d4ebff;}#sk-container-id-5 div.sk-parallel-item::after {content: \"\";width: 100%;border-bottom: 1px solid gray;flex-grow: 1;}#sk-container-id-5 div.sk-label:hover label.sk-toggleable__label {background-color: #d4ebff;}#sk-container-id-5 div.sk-serial::before {content: \"\";position: absolute;border-left: 1px solid gray;box-sizing: border-box;top: 0;bottom: 0;left: 50%;z-index: 0;}#sk-container-id-5 div.sk-serial {display: flex;flex-direction: column;align-items: center;background-color: white;padding-right: 0.2em;padding-left: 0.2em;position: relative;}#sk-container-id-5 div.sk-item {position: relative;z-index: 1;}#sk-container-id-5 div.sk-parallel {display: flex;align-items: stretch;justify-content: center;background-color: white;position: relative;}#sk-container-id-5 div.sk-item::before, #sk-container-id-5 div.sk-parallel-item::before {content: \"\";position: absolute;border-left: 1px solid gray;box-sizing: border-box;top: 0;bottom: 0;left: 50%;z-index: -1;}#sk-container-id-5 div.sk-parallel-item {display: flex;flex-direction: column;z-index: 1;position: relative;background-color: white;}#sk-container-id-5 div.sk-parallel-item:first-child::after {align-self: flex-end;width: 50%;}#sk-container-id-5 div.sk-parallel-item:last-child::after {align-self: flex-start;width: 50%;}#sk-container-id-5 div.sk-parallel-item:only-child::after {width: 0;}#sk-container-id-5 div.sk-dashed-wrapped {border: 1px dashed gray;margin: 0 0.4em 0.5em 0.4em;box-sizing: border-box;padding-bottom: 0.4em;background-color: white;}#sk-container-id-5 div.sk-label label {font-family: monospace;font-weight: bold;display: inline-block;line-height: 1.2em;}#sk-container-id-5 div.sk-label-container {text-align: center;}#sk-container-id-5 div.sk-container {/* jupyter's `normalize.less` sets `[hidden] { display: none; }` but bootstrap.min.css set `[hidden] { display: none !important; }` so we also need the `!important` here to be able to override the default hidden behavior on the sphinx rendered scikit-learn.org. See: https://github.com/scikit-learn/scikit-learn/issues/21755 */display: inline-block !important;position: relative;}#sk-container-id-5 div.sk-text-repr-fallback {display: none;}</style><div id=\"sk-container-id-5\" class=\"sk-top-container\"><div class=\"sk-text-repr-fallback\"><pre>LGBMRegressor(colsample_bytree=0.8, max_depth=12, n_estimators=200)</pre><b>In a Jupyter environment, please rerun this cell to show the HTML representation or trust the notebook. <br />On GitHub, the HTML representation is unable to render, please try loading this page with nbviewer.org.</b></div><div class=\"sk-container\" hidden><div class=\"sk-item\"><div class=\"sk-estimator sk-toggleable\"><input class=\"sk-toggleable__control sk-hidden--visually\" id=\"sk-estimator-id-7\" type=\"checkbox\" checked><label for=\"sk-estimator-id-7\" class=\"sk-toggleable__label sk-toggleable__label-arrow\">LGBMRegressor</label><div class=\"sk-toggleable__content\"><pre>LGBMRegressor(colsample_bytree=0.8, max_depth=12, n_estimators=200)</pre></div></div></div></div></div>"
      ],
      "text/plain": [
       "LGBMRegressor(colsample_bytree=0.8, max_depth=12, n_estimators=200)"
      ]
     },
     "execution_count": 75,
     "metadata": {},
     "output_type": "execute_result"
    }
   ],
   "source": [
    "lgbm.fit(xtrain,ytrain)"
   ]
  },
  {
   "cell_type": "code",
   "execution_count": 76,
   "id": "5c3847f8",
   "metadata": {
    "execution": {
     "iopub.execute_input": "2023-11-26T09:44:35.351122Z",
     "iopub.status.busy": "2023-11-26T09:44:35.350734Z",
     "iopub.status.idle": "2023-11-26T09:44:35.858089Z",
     "shell.execute_reply": "2023-11-26T09:44:35.856929Z"
    },
    "papermill": {
     "duration": 0.575238,
     "end_time": "2023-11-26T09:44:35.860910",
     "exception": false,
     "start_time": "2023-11-26T09:44:35.285672",
     "status": "completed"
    },
    "tags": []
   },
   "outputs": [],
   "source": [
    "y_pred_train_lgbm=lgbm.predict(xtrain)"
   ]
  },
  {
   "cell_type": "code",
   "execution_count": 77,
   "id": "c7ae2eb1",
   "metadata": {
    "execution": {
     "iopub.execute_input": "2023-11-26T09:44:35.988609Z",
     "iopub.status.busy": "2023-11-26T09:44:35.987927Z",
     "iopub.status.idle": "2023-11-26T09:44:35.998086Z",
     "shell.execute_reply": "2023-11-26T09:44:35.997048Z"
    },
    "papermill": {
     "duration": 0.076132,
     "end_time": "2023-11-26T09:44:36.000308",
     "exception": false,
     "start_time": "2023-11-26T09:44:35.924176",
     "status": "completed"
    },
    "tags": []
   },
   "outputs": [
    {
     "data": {
      "text/plain": [
       "0.9619172012336038"
      ]
     },
     "execution_count": 77,
     "metadata": {},
     "output_type": "execute_result"
    }
   ],
   "source": [
    "r2_score(ytrain,y_pred_train_lgbm)"
   ]
  },
  {
   "cell_type": "markdown",
   "id": "54e10b56",
   "metadata": {
    "papermill": {
     "duration": 0.063067,
     "end_time": "2023-11-26T09:44:36.125298",
     "exception": false,
     "start_time": "2023-11-26T09:44:36.062231",
     "status": "completed"
    },
    "tags": []
   },
   "source": [
    "##### 3.2 Model Testing"
   ]
  },
  {
   "cell_type": "code",
   "execution_count": 78,
   "id": "b4f6467d",
   "metadata": {
    "execution": {
     "iopub.execute_input": "2023-11-26T09:44:36.255692Z",
     "iopub.status.busy": "2023-11-26T09:44:36.254975Z",
     "iopub.status.idle": "2023-11-26T09:44:36.474954Z",
     "shell.execute_reply": "2023-11-26T09:44:36.473932Z"
    },
    "papermill": {
     "duration": 0.287279,
     "end_time": "2023-11-26T09:44:36.477672",
     "exception": false,
     "start_time": "2023-11-26T09:44:36.190393",
     "status": "completed"
    },
    "tags": []
   },
   "outputs": [],
   "source": [
    "y_pred_test_lgbm=lgbm.predict(xtest)"
   ]
  },
  {
   "cell_type": "code",
   "execution_count": 79,
   "id": "14b90757",
   "metadata": {
    "execution": {
     "iopub.execute_input": "2023-11-26T09:44:36.608862Z",
     "iopub.status.busy": "2023-11-26T09:44:36.608167Z",
     "iopub.status.idle": "2023-11-26T09:44:36.617566Z",
     "shell.execute_reply": "2023-11-26T09:44:36.616521Z"
    },
    "papermill": {
     "duration": 0.07714,
     "end_time": "2023-11-26T09:44:36.619779",
     "exception": false,
     "start_time": "2023-11-26T09:44:36.542639",
     "status": "completed"
    },
    "tags": []
   },
   "outputs": [
    {
     "data": {
      "text/plain": [
       "0.9154454214058707"
      ]
     },
     "execution_count": 79,
     "metadata": {},
     "output_type": "execute_result"
    }
   ],
   "source": [
    "r2_score(ytest,y_pred_test_lgbm)"
   ]
  },
  {
   "cell_type": "code",
   "execution_count": 80,
   "id": "38928ede",
   "metadata": {
    "execution": {
     "iopub.execute_input": "2023-11-26T09:44:36.747396Z",
     "iopub.status.busy": "2023-11-26T09:44:36.746996Z",
     "iopub.status.idle": "2023-11-26T09:44:36.755605Z",
     "shell.execute_reply": "2023-11-26T09:44:36.754160Z"
    },
    "papermill": {
     "duration": 0.075349,
     "end_time": "2023-11-26T09:44:36.757956",
     "exception": false,
     "start_time": "2023-11-26T09:44:36.682607",
     "status": "completed"
    },
    "tags": []
   },
   "outputs": [
    {
     "name": "stdout",
     "output_type": "stream",
     "text": [
      "2.8317356724056415\n"
     ]
    }
   ],
   "source": [
    "print(mean_absolute_error(ytest,y_pred_test_lgbm))"
   ]
  },
  {
   "cell_type": "markdown",
   "id": "d6ac2d4a",
   "metadata": {
    "papermill": {
     "duration": 0.063291,
     "end_time": "2023-11-26T09:44:36.886049",
     "exception": false,
     "start_time": "2023-11-26T09:44:36.822758",
     "status": "completed"
    },
    "tags": []
   },
   "source": [
    "## 4 Decision Tree"
   ]
  },
  {
   "cell_type": "code",
   "execution_count": 81,
   "id": "ceaabd75",
   "metadata": {
    "execution": {
     "iopub.execute_input": "2023-11-26T09:44:37.019853Z",
     "iopub.status.busy": "2023-11-26T09:44:37.019099Z",
     "iopub.status.idle": "2023-11-26T09:44:50.776647Z",
     "shell.execute_reply": "2023-11-26T09:44:50.775709Z"
    },
    "papermill": {
     "duration": 13.82897,
     "end_time": "2023-11-26T09:44:50.779048",
     "exception": false,
     "start_time": "2023-11-26T09:44:36.950078",
     "status": "completed"
    },
    "tags": []
   },
   "outputs": [
    {
     "name": "stdout",
     "output_type": "stream",
     "text": [
      "Fitting 5 folds for each of 20 candidates, totalling 100 fits\n",
      "Best Hyperparameters:  {'min_samples_split': 0.2, 'min_samples_leaf': 0.01, 'max_features': 'auto', 'max_depth': 7}\n",
      "Best Score (Negative MSE):  -217.54292781882768\n"
     ]
    }
   ],
   "source": [
    "dt = DecisionTreeRegressor()\n",
    "\n",
    "# Define the hyperparameter grid with fewer values and iterations\n",
    "param_dist = {\n",
    "    'max_depth': [3, 5, 7, 10],\n",
    "    'min_samples_split': [0.1, 0.2, 0.3, 0.4],\n",
    "    'min_samples_leaf': [0.01, 0.05, 0.1],\n",
    "    'max_features': ['auto', 'sqrt', 'log2'],\n",
    "}\n",
    "\n",
    "# Create the randomized search with fewer iterations\n",
    "random_search = RandomizedSearchCV(\n",
    "    dt, param_distributions=param_dist, n_iter=20,\n",
    "    scoring='neg_mean_squared_error', cv=5, verbose=1, n_jobs=-1, random_state=42\n",
    ")\n",
    "\n",
    "# Fit the randomized search to your data\n",
    "random_search.fit(transformed_fare_data,y )\n",
    "\n",
    "# Print the best hyperparameters and score\n",
    "print(\"Best Hyperparameters: \", random_search.best_params_)\n",
    "print(\"Best Score (Negative MSE): \", random_search.best_score_)"
   ]
  },
  {
   "cell_type": "code",
   "execution_count": 82,
   "id": "a8ce7752",
   "metadata": {
    "execution": {
     "iopub.execute_input": "2023-11-26T09:44:50.907589Z",
     "iopub.status.busy": "2023-11-26T09:44:50.906849Z",
     "iopub.status.idle": "2023-11-26T09:44:50.911603Z",
     "shell.execute_reply": "2023-11-26T09:44:50.910681Z"
    },
    "papermill": {
     "duration": 0.071236,
     "end_time": "2023-11-26T09:44:50.913901",
     "exception": false,
     "start_time": "2023-11-26T09:44:50.842665",
     "status": "completed"
    },
    "tags": []
   },
   "outputs": [],
   "source": [
    "ds=DecisionTreeRegressor(max_depth=11)"
   ]
  },
  {
   "cell_type": "code",
   "execution_count": 83,
   "id": "b7f685b1",
   "metadata": {
    "execution": {
     "iopub.execute_input": "2023-11-26T09:44:51.041743Z",
     "iopub.status.busy": "2023-11-26T09:44:51.041002Z",
     "iopub.status.idle": "2023-11-26T09:44:51.676347Z",
     "shell.execute_reply": "2023-11-26T09:44:51.675108Z"
    },
    "papermill": {
     "duration": 0.702392,
     "end_time": "2023-11-26T09:44:51.679011",
     "exception": false,
     "start_time": "2023-11-26T09:44:50.976619",
     "status": "completed"
    },
    "tags": []
   },
   "outputs": [
    {
     "data": {
      "text/html": [
       "<style>#sk-container-id-6 {color: black;background-color: white;}#sk-container-id-6 pre{padding: 0;}#sk-container-id-6 div.sk-toggleable {background-color: white;}#sk-container-id-6 label.sk-toggleable__label {cursor: pointer;display: block;width: 100%;margin-bottom: 0;padding: 0.3em;box-sizing: border-box;text-align: center;}#sk-container-id-6 label.sk-toggleable__label-arrow:before {content: \"▸\";float: left;margin-right: 0.25em;color: #696969;}#sk-container-id-6 label.sk-toggleable__label-arrow:hover:before {color: black;}#sk-container-id-6 div.sk-estimator:hover label.sk-toggleable__label-arrow:before {color: black;}#sk-container-id-6 div.sk-toggleable__content {max-height: 0;max-width: 0;overflow: hidden;text-align: left;background-color: #f0f8ff;}#sk-container-id-6 div.sk-toggleable__content pre {margin: 0.2em;color: black;border-radius: 0.25em;background-color: #f0f8ff;}#sk-container-id-6 input.sk-toggleable__control:checked~div.sk-toggleable__content {max-height: 200px;max-width: 100%;overflow: auto;}#sk-container-id-6 input.sk-toggleable__control:checked~label.sk-toggleable__label-arrow:before {content: \"▾\";}#sk-container-id-6 div.sk-estimator input.sk-toggleable__control:checked~label.sk-toggleable__label {background-color: #d4ebff;}#sk-container-id-6 div.sk-label input.sk-toggleable__control:checked~label.sk-toggleable__label {background-color: #d4ebff;}#sk-container-id-6 input.sk-hidden--visually {border: 0;clip: rect(1px 1px 1px 1px);clip: rect(1px, 1px, 1px, 1px);height: 1px;margin: -1px;overflow: hidden;padding: 0;position: absolute;width: 1px;}#sk-container-id-6 div.sk-estimator {font-family: monospace;background-color: #f0f8ff;border: 1px dotted black;border-radius: 0.25em;box-sizing: border-box;margin-bottom: 0.5em;}#sk-container-id-6 div.sk-estimator:hover {background-color: #d4ebff;}#sk-container-id-6 div.sk-parallel-item::after {content: \"\";width: 100%;border-bottom: 1px solid gray;flex-grow: 1;}#sk-container-id-6 div.sk-label:hover label.sk-toggleable__label {background-color: #d4ebff;}#sk-container-id-6 div.sk-serial::before {content: \"\";position: absolute;border-left: 1px solid gray;box-sizing: border-box;top: 0;bottom: 0;left: 50%;z-index: 0;}#sk-container-id-6 div.sk-serial {display: flex;flex-direction: column;align-items: center;background-color: white;padding-right: 0.2em;padding-left: 0.2em;position: relative;}#sk-container-id-6 div.sk-item {position: relative;z-index: 1;}#sk-container-id-6 div.sk-parallel {display: flex;align-items: stretch;justify-content: center;background-color: white;position: relative;}#sk-container-id-6 div.sk-item::before, #sk-container-id-6 div.sk-parallel-item::before {content: \"\";position: absolute;border-left: 1px solid gray;box-sizing: border-box;top: 0;bottom: 0;left: 50%;z-index: -1;}#sk-container-id-6 div.sk-parallel-item {display: flex;flex-direction: column;z-index: 1;position: relative;background-color: white;}#sk-container-id-6 div.sk-parallel-item:first-child::after {align-self: flex-end;width: 50%;}#sk-container-id-6 div.sk-parallel-item:last-child::after {align-self: flex-start;width: 50%;}#sk-container-id-6 div.sk-parallel-item:only-child::after {width: 0;}#sk-container-id-6 div.sk-dashed-wrapped {border: 1px dashed gray;margin: 0 0.4em 0.5em 0.4em;box-sizing: border-box;padding-bottom: 0.4em;background-color: white;}#sk-container-id-6 div.sk-label label {font-family: monospace;font-weight: bold;display: inline-block;line-height: 1.2em;}#sk-container-id-6 div.sk-label-container {text-align: center;}#sk-container-id-6 div.sk-container {/* jupyter's `normalize.less` sets `[hidden] { display: none; }` but bootstrap.min.css set `[hidden] { display: none !important; }` so we also need the `!important` here to be able to override the default hidden behavior on the sphinx rendered scikit-learn.org. See: https://github.com/scikit-learn/scikit-learn/issues/21755 */display: inline-block !important;position: relative;}#sk-container-id-6 div.sk-text-repr-fallback {display: none;}</style><div id=\"sk-container-id-6\" class=\"sk-top-container\"><div class=\"sk-text-repr-fallback\"><pre>DecisionTreeRegressor(max_depth=11)</pre><b>In a Jupyter environment, please rerun this cell to show the HTML representation or trust the notebook. <br />On GitHub, the HTML representation is unable to render, please try loading this page with nbviewer.org.</b></div><div class=\"sk-container\" hidden><div class=\"sk-item\"><div class=\"sk-estimator sk-toggleable\"><input class=\"sk-toggleable__control sk-hidden--visually\" id=\"sk-estimator-id-8\" type=\"checkbox\" checked><label for=\"sk-estimator-id-8\" class=\"sk-toggleable__label sk-toggleable__label-arrow\">DecisionTreeRegressor</label><div class=\"sk-toggleable__content\"><pre>DecisionTreeRegressor(max_depth=11)</pre></div></div></div></div></div>"
      ],
      "text/plain": [
       "DecisionTreeRegressor(max_depth=11)"
      ]
     },
     "execution_count": 83,
     "metadata": {},
     "output_type": "execute_result"
    }
   ],
   "source": [
    "ds.fit(xtrain,ytrain)"
   ]
  },
  {
   "cell_type": "code",
   "execution_count": 84,
   "id": "28d725e1",
   "metadata": {
    "execution": {
     "iopub.execute_input": "2023-11-26T09:44:51.810070Z",
     "iopub.status.busy": "2023-11-26T09:44:51.809692Z",
     "iopub.status.idle": "2023-11-26T09:44:51.831347Z",
     "shell.execute_reply": "2023-11-26T09:44:51.830257Z"
    },
    "papermill": {
     "duration": 0.090825,
     "end_time": "2023-11-26T09:44:51.833976",
     "exception": false,
     "start_time": "2023-11-26T09:44:51.743151",
     "status": "completed"
    },
    "tags": []
   },
   "outputs": [],
   "source": [
    "ypred_train_ds=ds.predict(xtrain)"
   ]
  },
  {
   "cell_type": "code",
   "execution_count": 85,
   "id": "40366508",
   "metadata": {
    "execution": {
     "iopub.execute_input": "2023-11-26T09:44:51.963590Z",
     "iopub.status.busy": "2023-11-26T09:44:51.963184Z",
     "iopub.status.idle": "2023-11-26T09:44:51.975023Z",
     "shell.execute_reply": "2023-11-26T09:44:51.974048Z"
    },
    "papermill": {
     "duration": 0.079546,
     "end_time": "2023-11-26T09:44:51.977255",
     "exception": false,
     "start_time": "2023-11-26T09:44:51.897709",
     "status": "completed"
    },
    "tags": []
   },
   "outputs": [
    {
     "data": {
      "text/plain": [
       "0.9618702400327515"
      ]
     },
     "execution_count": 85,
     "metadata": {},
     "output_type": "execute_result"
    }
   ],
   "source": [
    "r2_score(ytrain,ypred_train_ds)"
   ]
  },
  {
   "cell_type": "code",
   "execution_count": 86,
   "id": "30111ae6",
   "metadata": {
    "execution": {
     "iopub.execute_input": "2023-11-26T09:44:52.108123Z",
     "iopub.status.busy": "2023-11-26T09:44:52.107675Z",
     "iopub.status.idle": "2023-11-26T09:44:52.121177Z",
     "shell.execute_reply": "2023-11-26T09:44:52.119962Z"
    },
    "papermill": {
     "duration": 0.082372,
     "end_time": "2023-11-26T09:44:52.124483",
     "exception": false,
     "start_time": "2023-11-26T09:44:52.042111",
     "status": "completed"
    },
    "tags": []
   },
   "outputs": [],
   "source": [
    "ypred_test_ds=ds.predict(xtest)"
   ]
  },
  {
   "cell_type": "code",
   "execution_count": 87,
   "id": "fa36a492",
   "metadata": {
    "execution": {
     "iopub.execute_input": "2023-11-26T09:44:52.257378Z",
     "iopub.status.busy": "2023-11-26T09:44:52.256973Z",
     "iopub.status.idle": "2023-11-26T09:44:52.268448Z",
     "shell.execute_reply": "2023-11-26T09:44:52.267317Z"
    },
    "papermill": {
     "duration": 0.080283,
     "end_time": "2023-11-26T09:44:52.270978",
     "exception": false,
     "start_time": "2023-11-26T09:44:52.190695",
     "status": "completed"
    },
    "tags": []
   },
   "outputs": [
    {
     "data": {
      "text/plain": [
       "0.9217301919845466"
      ]
     },
     "execution_count": 87,
     "metadata": {},
     "output_type": "execute_result"
    }
   ],
   "source": [
    "r2_score(ytest,ypred_test_ds)"
   ]
  },
  {
   "cell_type": "code",
   "execution_count": 88,
   "id": "3103edc5",
   "metadata": {
    "execution": {
     "iopub.execute_input": "2023-11-26T09:44:52.401606Z",
     "iopub.status.busy": "2023-11-26T09:44:52.401171Z",
     "iopub.status.idle": "2023-11-26T09:44:52.410063Z",
     "shell.execute_reply": "2023-11-26T09:44:52.408588Z"
    },
    "papermill": {
     "duration": 0.076849,
     "end_time": "2023-11-26T09:44:52.412251",
     "exception": false,
     "start_time": "2023-11-26T09:44:52.335402",
     "status": "completed"
    },
    "tags": []
   },
   "outputs": [
    {
     "name": "stdout",
     "output_type": "stream",
     "text": [
      "3.161101219088342\n"
     ]
    }
   ],
   "source": [
    "print(mean_absolute_error(ytest,ypred_test_ds))"
   ]
  },
  {
   "cell_type": "markdown",
   "id": "d27577db",
   "metadata": {
    "papermill": {
     "duration": 0.06349,
     "end_time": "2023-11-26T09:44:52.540041",
     "exception": false,
     "start_time": "2023-11-26T09:44:52.476551",
     "status": "completed"
    },
    "tags": []
   },
   "source": [
    "### 5.KNN "
   ]
  },
  {
   "cell_type": "code",
   "execution_count": 89,
   "id": "9ebbe07c",
   "metadata": {
    "execution": {
     "iopub.execute_input": "2023-11-26T09:44:52.741662Z",
     "iopub.status.busy": "2023-11-26T09:44:52.741239Z",
     "iopub.status.idle": "2023-11-26T09:44:52.746153Z",
     "shell.execute_reply": "2023-11-26T09:44:52.745071Z"
    },
    "papermill": {
     "duration": 0.072984,
     "end_time": "2023-11-26T09:44:52.748395",
     "exception": false,
     "start_time": "2023-11-26T09:44:52.675411",
     "status": "completed"
    },
    "tags": []
   },
   "outputs": [],
   "source": [
    "knn=KNeighborsRegressor(n_neighbors=3)"
   ]
  },
  {
   "cell_type": "code",
   "execution_count": 90,
   "id": "fb55cbfe",
   "metadata": {
    "execution": {
     "iopub.execute_input": "2023-11-26T09:44:52.878425Z",
     "iopub.status.busy": "2023-11-26T09:44:52.877956Z",
     "iopub.status.idle": "2023-11-26T09:44:53.220077Z",
     "shell.execute_reply": "2023-11-26T09:44:53.218977Z"
    },
    "papermill": {
     "duration": 0.41071,
     "end_time": "2023-11-26T09:44:53.223027",
     "exception": false,
     "start_time": "2023-11-26T09:44:52.812317",
     "status": "completed"
    },
    "tags": []
   },
   "outputs": [
    {
     "data": {
      "text/html": [
       "<style>#sk-container-id-7 {color: black;background-color: white;}#sk-container-id-7 pre{padding: 0;}#sk-container-id-7 div.sk-toggleable {background-color: white;}#sk-container-id-7 label.sk-toggleable__label {cursor: pointer;display: block;width: 100%;margin-bottom: 0;padding: 0.3em;box-sizing: border-box;text-align: center;}#sk-container-id-7 label.sk-toggleable__label-arrow:before {content: \"▸\";float: left;margin-right: 0.25em;color: #696969;}#sk-container-id-7 label.sk-toggleable__label-arrow:hover:before {color: black;}#sk-container-id-7 div.sk-estimator:hover label.sk-toggleable__label-arrow:before {color: black;}#sk-container-id-7 div.sk-toggleable__content {max-height: 0;max-width: 0;overflow: hidden;text-align: left;background-color: #f0f8ff;}#sk-container-id-7 div.sk-toggleable__content pre {margin: 0.2em;color: black;border-radius: 0.25em;background-color: #f0f8ff;}#sk-container-id-7 input.sk-toggleable__control:checked~div.sk-toggleable__content {max-height: 200px;max-width: 100%;overflow: auto;}#sk-container-id-7 input.sk-toggleable__control:checked~label.sk-toggleable__label-arrow:before {content: \"▾\";}#sk-container-id-7 div.sk-estimator input.sk-toggleable__control:checked~label.sk-toggleable__label {background-color: #d4ebff;}#sk-container-id-7 div.sk-label input.sk-toggleable__control:checked~label.sk-toggleable__label {background-color: #d4ebff;}#sk-container-id-7 input.sk-hidden--visually {border: 0;clip: rect(1px 1px 1px 1px);clip: rect(1px, 1px, 1px, 1px);height: 1px;margin: -1px;overflow: hidden;padding: 0;position: absolute;width: 1px;}#sk-container-id-7 div.sk-estimator {font-family: monospace;background-color: #f0f8ff;border: 1px dotted black;border-radius: 0.25em;box-sizing: border-box;margin-bottom: 0.5em;}#sk-container-id-7 div.sk-estimator:hover {background-color: #d4ebff;}#sk-container-id-7 div.sk-parallel-item::after {content: \"\";width: 100%;border-bottom: 1px solid gray;flex-grow: 1;}#sk-container-id-7 div.sk-label:hover label.sk-toggleable__label {background-color: #d4ebff;}#sk-container-id-7 div.sk-serial::before {content: \"\";position: absolute;border-left: 1px solid gray;box-sizing: border-box;top: 0;bottom: 0;left: 50%;z-index: 0;}#sk-container-id-7 div.sk-serial {display: flex;flex-direction: column;align-items: center;background-color: white;padding-right: 0.2em;padding-left: 0.2em;position: relative;}#sk-container-id-7 div.sk-item {position: relative;z-index: 1;}#sk-container-id-7 div.sk-parallel {display: flex;align-items: stretch;justify-content: center;background-color: white;position: relative;}#sk-container-id-7 div.sk-item::before, #sk-container-id-7 div.sk-parallel-item::before {content: \"\";position: absolute;border-left: 1px solid gray;box-sizing: border-box;top: 0;bottom: 0;left: 50%;z-index: -1;}#sk-container-id-7 div.sk-parallel-item {display: flex;flex-direction: column;z-index: 1;position: relative;background-color: white;}#sk-container-id-7 div.sk-parallel-item:first-child::after {align-self: flex-end;width: 50%;}#sk-container-id-7 div.sk-parallel-item:last-child::after {align-self: flex-start;width: 50%;}#sk-container-id-7 div.sk-parallel-item:only-child::after {width: 0;}#sk-container-id-7 div.sk-dashed-wrapped {border: 1px dashed gray;margin: 0 0.4em 0.5em 0.4em;box-sizing: border-box;padding-bottom: 0.4em;background-color: white;}#sk-container-id-7 div.sk-label label {font-family: monospace;font-weight: bold;display: inline-block;line-height: 1.2em;}#sk-container-id-7 div.sk-label-container {text-align: center;}#sk-container-id-7 div.sk-container {/* jupyter's `normalize.less` sets `[hidden] { display: none; }` but bootstrap.min.css set `[hidden] { display: none !important; }` so we also need the `!important` here to be able to override the default hidden behavior on the sphinx rendered scikit-learn.org. See: https://github.com/scikit-learn/scikit-learn/issues/21755 */display: inline-block !important;position: relative;}#sk-container-id-7 div.sk-text-repr-fallback {display: none;}</style><div id=\"sk-container-id-7\" class=\"sk-top-container\"><div class=\"sk-text-repr-fallback\"><pre>KNeighborsRegressor(n_neighbors=3)</pre><b>In a Jupyter environment, please rerun this cell to show the HTML representation or trust the notebook. <br />On GitHub, the HTML representation is unable to render, please try loading this page with nbviewer.org.</b></div><div class=\"sk-container\" hidden><div class=\"sk-item\"><div class=\"sk-estimator sk-toggleable\"><input class=\"sk-toggleable__control sk-hidden--visually\" id=\"sk-estimator-id-9\" type=\"checkbox\" checked><label for=\"sk-estimator-id-9\" class=\"sk-toggleable__label sk-toggleable__label-arrow\">KNeighborsRegressor</label><div class=\"sk-toggleable__content\"><pre>KNeighborsRegressor(n_neighbors=3)</pre></div></div></div></div></div>"
      ],
      "text/plain": [
       "KNeighborsRegressor(n_neighbors=3)"
      ]
     },
     "execution_count": 90,
     "metadata": {},
     "output_type": "execute_result"
    }
   ],
   "source": [
    "knn.fit(xtrain,ytrain)"
   ]
  },
  {
   "cell_type": "code",
   "execution_count": 91,
   "id": "7bae0f3c",
   "metadata": {
    "execution": {
     "iopub.execute_input": "2023-11-26T09:44:53.358425Z",
     "iopub.status.busy": "2023-11-26T09:44:53.357915Z",
     "iopub.status.idle": "2023-11-26T09:47:45.413718Z",
     "shell.execute_reply": "2023-11-26T09:47:45.412261Z"
    },
    "papermill": {
     "duration": 172.126935,
     "end_time": "2023-11-26T09:47:45.416744",
     "exception": false,
     "start_time": "2023-11-26T09:44:53.289809",
     "status": "completed"
    },
    "tags": []
   },
   "outputs": [],
   "source": [
    "ypredknn_train=knn.predict(xtrain)"
   ]
  },
  {
   "cell_type": "code",
   "execution_count": 92,
   "id": "3a11c83e",
   "metadata": {
    "execution": {
     "iopub.execute_input": "2023-11-26T09:47:45.550727Z",
     "iopub.status.busy": "2023-11-26T09:47:45.550306Z",
     "iopub.status.idle": "2023-11-26T09:47:45.561489Z",
     "shell.execute_reply": "2023-11-26T09:47:45.560318Z"
    },
    "papermill": {
     "duration": 0.080974,
     "end_time": "2023-11-26T09:47:45.564070",
     "exception": false,
     "start_time": "2023-11-26T09:47:45.483096",
     "status": "completed"
    },
    "tags": []
   },
   "outputs": [
    {
     "data": {
      "text/plain": [
       "0.8778834545620396"
      ]
     },
     "execution_count": 92,
     "metadata": {},
     "output_type": "execute_result"
    }
   ],
   "source": [
    "r2_score(ytrain,ypredknn_train)"
   ]
  },
  {
   "cell_type": "code",
   "execution_count": 93,
   "id": "957fa315",
   "metadata": {
    "execution": {
     "iopub.execute_input": "2023-11-26T09:47:45.697115Z",
     "iopub.status.busy": "2023-11-26T09:47:45.696704Z",
     "iopub.status.idle": "2023-11-26T09:49:05.092233Z",
     "shell.execute_reply": "2023-11-26T09:49:05.090917Z"
    },
    "papermill": {
     "duration": 79.466135,
     "end_time": "2023-11-26T09:49:05.095551",
     "exception": false,
     "start_time": "2023-11-26T09:47:45.629416",
     "status": "completed"
    },
    "tags": []
   },
   "outputs": [],
   "source": [
    "ypredknn_test=knn.predict(xtest)"
   ]
  },
  {
   "cell_type": "code",
   "execution_count": 94,
   "id": "78cdb556",
   "metadata": {
    "execution": {
     "iopub.execute_input": "2023-11-26T09:49:05.229966Z",
     "iopub.status.busy": "2023-11-26T09:49:05.229558Z",
     "iopub.status.idle": "2023-11-26T09:49:05.241462Z",
     "shell.execute_reply": "2023-11-26T09:49:05.240374Z"
    },
    "papermill": {
     "duration": 0.081539,
     "end_time": "2023-11-26T09:49:05.243940",
     "exception": false,
     "start_time": "2023-11-26T09:49:05.162401",
     "status": "completed"
    },
    "tags": []
   },
   "outputs": [
    {
     "data": {
      "text/plain": [
       "0.7378172434546568"
      ]
     },
     "execution_count": 94,
     "metadata": {},
     "output_type": "execute_result"
    }
   ],
   "source": [
    "r2_score(ytest,ypredknn_test)"
   ]
  },
  {
   "cell_type": "markdown",
   "id": "03ac773d",
   "metadata": {
    "papermill": {
     "duration": 0.065144,
     "end_time": "2023-11-26T09:49:05.375775",
     "exception": false,
     "start_time": "2023-11-26T09:49:05.310631",
     "status": "completed"
    },
    "tags": []
   },
   "source": [
    "## 6 SVM"
   ]
  },
  {
   "cell_type": "code",
   "execution_count": 95,
   "id": "9a2bc310",
   "metadata": {
    "execution": {
     "iopub.execute_input": "2023-11-26T09:49:05.510468Z",
     "iopub.status.busy": "2023-11-26T09:49:05.509689Z",
     "iopub.status.idle": "2023-11-26T09:49:05.514153Z",
     "shell.execute_reply": "2023-11-26T09:49:05.513336Z"
    },
    "papermill": {
     "duration": 0.074634,
     "end_time": "2023-11-26T09:49:05.516589",
     "exception": false,
     "start_time": "2023-11-26T09:49:05.441955",
     "status": "completed"
    },
    "tags": []
   },
   "outputs": [],
   "source": [
    "sv=SVR(kernel='linear')"
   ]
  },
  {
   "cell_type": "markdown",
   "id": "e53dcab9",
   "metadata": {
    "papermill": {
     "duration": 0.070799,
     "end_time": "2023-11-26T09:49:05.654117",
     "exception": false,
     "start_time": "2023-11-26T09:49:05.583318",
     "status": "completed"
    },
    "tags": []
   },
   "source": [
    "##### 6.1 Model Training"
   ]
  },
  {
   "cell_type": "code",
   "execution_count": 96,
   "id": "1b3b0d39",
   "metadata": {
    "execution": {
     "iopub.execute_input": "2023-11-26T09:49:05.793054Z",
     "iopub.status.busy": "2023-11-26T09:49:05.792248Z",
     "iopub.status.idle": "2023-11-26T10:04:03.700908Z",
     "shell.execute_reply": "2023-11-26T10:04:03.699723Z"
    },
    "papermill": {
     "duration": 898.044927,
     "end_time": "2023-11-26T10:04:03.769417",
     "exception": false,
     "start_time": "2023-11-26T09:49:05.724490",
     "status": "completed"
    },
    "tags": []
   },
   "outputs": [
    {
     "data": {
      "text/html": [
       "<style>#sk-container-id-8 {color: black;background-color: white;}#sk-container-id-8 pre{padding: 0;}#sk-container-id-8 div.sk-toggleable {background-color: white;}#sk-container-id-8 label.sk-toggleable__label {cursor: pointer;display: block;width: 100%;margin-bottom: 0;padding: 0.3em;box-sizing: border-box;text-align: center;}#sk-container-id-8 label.sk-toggleable__label-arrow:before {content: \"▸\";float: left;margin-right: 0.25em;color: #696969;}#sk-container-id-8 label.sk-toggleable__label-arrow:hover:before {color: black;}#sk-container-id-8 div.sk-estimator:hover label.sk-toggleable__label-arrow:before {color: black;}#sk-container-id-8 div.sk-toggleable__content {max-height: 0;max-width: 0;overflow: hidden;text-align: left;background-color: #f0f8ff;}#sk-container-id-8 div.sk-toggleable__content pre {margin: 0.2em;color: black;border-radius: 0.25em;background-color: #f0f8ff;}#sk-container-id-8 input.sk-toggleable__control:checked~div.sk-toggleable__content {max-height: 200px;max-width: 100%;overflow: auto;}#sk-container-id-8 input.sk-toggleable__control:checked~label.sk-toggleable__label-arrow:before {content: \"▾\";}#sk-container-id-8 div.sk-estimator input.sk-toggleable__control:checked~label.sk-toggleable__label {background-color: #d4ebff;}#sk-container-id-8 div.sk-label input.sk-toggleable__control:checked~label.sk-toggleable__label {background-color: #d4ebff;}#sk-container-id-8 input.sk-hidden--visually {border: 0;clip: rect(1px 1px 1px 1px);clip: rect(1px, 1px, 1px, 1px);height: 1px;margin: -1px;overflow: hidden;padding: 0;position: absolute;width: 1px;}#sk-container-id-8 div.sk-estimator {font-family: monospace;background-color: #f0f8ff;border: 1px dotted black;border-radius: 0.25em;box-sizing: border-box;margin-bottom: 0.5em;}#sk-container-id-8 div.sk-estimator:hover {background-color: #d4ebff;}#sk-container-id-8 div.sk-parallel-item::after {content: \"\";width: 100%;border-bottom: 1px solid gray;flex-grow: 1;}#sk-container-id-8 div.sk-label:hover label.sk-toggleable__label {background-color: #d4ebff;}#sk-container-id-8 div.sk-serial::before {content: \"\";position: absolute;border-left: 1px solid gray;box-sizing: border-box;top: 0;bottom: 0;left: 50%;z-index: 0;}#sk-container-id-8 div.sk-serial {display: flex;flex-direction: column;align-items: center;background-color: white;padding-right: 0.2em;padding-left: 0.2em;position: relative;}#sk-container-id-8 div.sk-item {position: relative;z-index: 1;}#sk-container-id-8 div.sk-parallel {display: flex;align-items: stretch;justify-content: center;background-color: white;position: relative;}#sk-container-id-8 div.sk-item::before, #sk-container-id-8 div.sk-parallel-item::before {content: \"\";position: absolute;border-left: 1px solid gray;box-sizing: border-box;top: 0;bottom: 0;left: 50%;z-index: -1;}#sk-container-id-8 div.sk-parallel-item {display: flex;flex-direction: column;z-index: 1;position: relative;background-color: white;}#sk-container-id-8 div.sk-parallel-item:first-child::after {align-self: flex-end;width: 50%;}#sk-container-id-8 div.sk-parallel-item:last-child::after {align-self: flex-start;width: 50%;}#sk-container-id-8 div.sk-parallel-item:only-child::after {width: 0;}#sk-container-id-8 div.sk-dashed-wrapped {border: 1px dashed gray;margin: 0 0.4em 0.5em 0.4em;box-sizing: border-box;padding-bottom: 0.4em;background-color: white;}#sk-container-id-8 div.sk-label label {font-family: monospace;font-weight: bold;display: inline-block;line-height: 1.2em;}#sk-container-id-8 div.sk-label-container {text-align: center;}#sk-container-id-8 div.sk-container {/* jupyter's `normalize.less` sets `[hidden] { display: none; }` but bootstrap.min.css set `[hidden] { display: none !important; }` so we also need the `!important` here to be able to override the default hidden behavior on the sphinx rendered scikit-learn.org. See: https://github.com/scikit-learn/scikit-learn/issues/21755 */display: inline-block !important;position: relative;}#sk-container-id-8 div.sk-text-repr-fallback {display: none;}</style><div id=\"sk-container-id-8\" class=\"sk-top-container\"><div class=\"sk-text-repr-fallback\"><pre>SVR(kernel=&#x27;linear&#x27;)</pre><b>In a Jupyter environment, please rerun this cell to show the HTML representation or trust the notebook. <br />On GitHub, the HTML representation is unable to render, please try loading this page with nbviewer.org.</b></div><div class=\"sk-container\" hidden><div class=\"sk-item\"><div class=\"sk-estimator sk-toggleable\"><input class=\"sk-toggleable__control sk-hidden--visually\" id=\"sk-estimator-id-10\" type=\"checkbox\" checked><label for=\"sk-estimator-id-10\" class=\"sk-toggleable__label sk-toggleable__label-arrow\">SVR</label><div class=\"sk-toggleable__content\"><pre>SVR(kernel=&#x27;linear&#x27;)</pre></div></div></div></div></div>"
      ],
      "text/plain": [
       "SVR(kernel='linear')"
      ]
     },
     "execution_count": 96,
     "metadata": {},
     "output_type": "execute_result"
    }
   ],
   "source": [
    "sv.fit(xtrain,ytrain)"
   ]
  },
  {
   "cell_type": "code",
   "execution_count": 97,
   "id": "668ca3f3",
   "metadata": {
    "execution": {
     "iopub.execute_input": "2023-11-26T10:04:03.905435Z",
     "iopub.status.busy": "2023-11-26T10:04:03.904985Z",
     "iopub.status.idle": "2023-11-26T10:12:17.861543Z",
     "shell.execute_reply": "2023-11-26T10:12:17.860179Z"
    },
    "papermill": {
     "duration": 494.027416,
     "end_time": "2023-11-26T10:12:17.864875",
     "exception": false,
     "start_time": "2023-11-26T10:04:03.837459",
     "status": "completed"
    },
    "tags": []
   },
   "outputs": [],
   "source": [
    "ytrainpred_svr=sv.predict(xtrain)"
   ]
  },
  {
   "cell_type": "code",
   "execution_count": 98,
   "id": "3b5c02e8",
   "metadata": {
    "execution": {
     "iopub.execute_input": "2023-11-26T10:12:18.002917Z",
     "iopub.status.busy": "2023-11-26T10:12:18.002145Z",
     "iopub.status.idle": "2023-11-26T10:12:18.015513Z",
     "shell.execute_reply": "2023-11-26T10:12:18.014114Z"
    },
    "papermill": {
     "duration": 0.087096,
     "end_time": "2023-11-26T10:12:18.018577",
     "exception": false,
     "start_time": "2023-11-26T10:12:17.931481",
     "status": "completed"
    },
    "tags": []
   },
   "outputs": [
    {
     "data": {
      "text/plain": [
       "0.4661262401445888"
      ]
     },
     "execution_count": 98,
     "metadata": {},
     "output_type": "execute_result"
    }
   ],
   "source": [
    "r2_score(ytrain,ytrainpred_svr)"
   ]
  },
  {
   "cell_type": "markdown",
   "id": "9b00dece",
   "metadata": {
    "papermill": {
     "duration": 0.066736,
     "end_time": "2023-11-26T10:12:18.155119",
     "exception": false,
     "start_time": "2023-11-26T10:12:18.088383",
     "status": "completed"
    },
    "tags": []
   },
   "source": [
    "##### 6.2 Model Testing"
   ]
  },
  {
   "cell_type": "code",
   "execution_count": 99,
   "id": "df8c2945",
   "metadata": {
    "execution": {
     "iopub.execute_input": "2023-11-26T10:12:18.299226Z",
     "iopub.status.busy": "2023-11-26T10:12:18.298798Z",
     "iopub.status.idle": "2023-11-26T10:15:51.369599Z",
     "shell.execute_reply": "2023-11-26T10:15:51.368200Z"
    },
    "papermill": {
     "duration": 213.149516,
     "end_time": "2023-11-26T10:15:51.372710",
     "exception": false,
     "start_time": "2023-11-26T10:12:18.223194",
     "status": "completed"
    },
    "tags": []
   },
   "outputs": [],
   "source": [
    "ytestpred_svr=sv.predict(xtest)"
   ]
  },
  {
   "cell_type": "code",
   "execution_count": 100,
   "id": "242db0ae",
   "metadata": {
    "execution": {
     "iopub.execute_input": "2023-11-26T10:15:51.509272Z",
     "iopub.status.busy": "2023-11-26T10:15:51.508567Z",
     "iopub.status.idle": "2023-11-26T10:15:51.517734Z",
     "shell.execute_reply": "2023-11-26T10:15:51.516626Z"
    },
    "papermill": {
     "duration": 0.079589,
     "end_time": "2023-11-26T10:15:51.519953",
     "exception": false,
     "start_time": "2023-11-26T10:15:51.440364",
     "status": "completed"
    },
    "tags": []
   },
   "outputs": [
    {
     "data": {
      "text/plain": [
       "0.43210051864215626"
      ]
     },
     "execution_count": 100,
     "metadata": {},
     "output_type": "execute_result"
    }
   ],
   "source": [
    "r2_score(ytest,ytestpred_svr)"
   ]
  },
  {
   "cell_type": "markdown",
   "id": "20ab9d13",
   "metadata": {
    "papermill": {
     "duration": 0.066518,
     "end_time": "2023-11-26T10:15:51.653074",
     "exception": false,
     "start_time": "2023-11-26T10:15:51.586556",
     "status": "completed"
    },
    "tags": []
   },
   "source": [
    "### Model Performance Comparsion "
   ]
  },
  {
   "cell_type": "code",
   "execution_count": 101,
   "id": "a7997854",
   "metadata": {
    "execution": {
     "iopub.execute_input": "2023-11-26T10:15:51.788268Z",
     "iopub.status.busy": "2023-11-26T10:15:51.787613Z",
     "iopub.status.idle": "2023-11-26T10:15:51.820856Z",
     "shell.execute_reply": "2023-11-26T10:15:51.819388Z"
    },
    "papermill": {
     "duration": 0.104241,
     "end_time": "2023-11-26T10:15:51.823674",
     "exception": false,
     "start_time": "2023-11-26T10:15:51.719433",
     "status": "completed"
    },
    "tags": []
   },
   "outputs": [
    {
     "name": "stdout",
     "output_type": "stream",
     "text": [
      "           Model  R2 Score  Mean Absolute Error\n",
      "0  Random Forest  0.936624             2.737323\n",
      "1        XGBoost  0.937561             2.757689\n",
      "2       LightGBM  0.915445             2.831736\n",
      "3  Decision Tree  0.921730             3.161101\n",
      "4            KNN  0.737817             7.442351\n",
      "5            SVM  0.432101             7.835717\n"
     ]
    }
   ],
   "source": [
    "model_names = [\"Random Forest\", \"XGBoost\", \"LightGBM\", \"Decision Tree\",\"KNN\",\"SVM\"]\n",
    "r2_scores = [r2_score(ytest, ytest_pred), r2_score(ytest, y_pred_test_xgb),\n",
    "            r2_score(ytest, y_pred_test_lgbm), r2_score(ytest, ypred_test_ds),r2_score(ytest,ypredknn_test),r2_score(ytest,ytestpred_svr)]\n",
    "mae_scores = [mean_absolute_error(ytest, ytest_pred), mean_absolute_error(ytest, y_pred_test_xgb),\n",
    "             mean_absolute_error(ytest, y_pred_test_lgbm), mean_absolute_error(ytest, ypred_test_ds),mean_absolute_error(ytest,ypredknn_test),mean_absolute_error(ytest,ytestpred_svr)]\n",
    "\n",
    "# Create a DataFrame\n",
    "results_df = pd.DataFrame({'Model': model_names, 'R2 Score': r2_scores, 'Mean Absolute Error': mae_scores})\n",
    "\n",
    "print(results_df)\n"
   ]
  },
  {
   "cell_type": "markdown",
   "id": "a74b2d93",
   "metadata": {
    "papermill": {
     "duration": 0.066319,
     "end_time": "2023-11-26T10:15:51.957189",
     "exception": false,
     "start_time": "2023-11-26T10:15:51.890870",
     "status": "completed"
    },
    "tags": []
   },
   "source": [
    "\n",
    "# The differences in performance scores (R2 score and Mean Absolute Error) among the various models could be attributed to several factors, including the characteristics of the dataset and the inherent properties of each model. Here are potential reasons for differences in scores:\n",
    "\n",
    "\n",
    "\n",
    "**Model Complexity:**\n",
    "\n",
    "Ensemble models like Random Forest, XGBoost, and LightGBM are capable of capturing complex relationships in the data by combining multiple weak learners (trees). They often outperform simpler models like Decision Trees, KNN, and SVM in capturing intricate patterns.\n",
    "\n",
    "\n",
    "**Feature Engineering:**\n",
    "\n",
    "The effectiveness of the models may be influenced by the quality of feature engineering. Ensemble models can handle a wide range of features and may benefit from well-engineered input variables.\n",
    "\n",
    "\n",
    "**Hyperparameter Tuning:**\n",
    "\n",
    "\n",
    "\n",
    "The performance of machine learning models is highly sensitive to hyperparameter settings. Random Forest, XGBoost, and LightGBM typically have more hyperparameters to tune. The superior performance of Random Forest and XGBoost could be due to effective hyperparameter tuning.\n",
    "\n",
    "\n",
    "**Handling Non-linearity:**\n",
    "\n",
    "Ensemble models are generally good at capturing non-linear relationships in the data. If the underlying patterns in the dataset are complex and non-linear, ensemble models may have an advantage over simpler models like linear SVM.\n",
    "\n",
    "\n",
    "**Robustness to Noisy Data:**\n",
    "\n",
    "Ensemble methods are often robust to noisy or irrelevant features. If the dataset contains outliers or noisy information, ensemble models might handle it better than models like KNN or SVM.\n",
    "\n",
    "\n",
    "**Overfitting:**\n",
    "\n",
    "Decision Trees, if not properly pruned, can be prone to overfitting, capturing noise in the training data. Ensemble methods can mitigate this by aggregating the predictions of multiple trees.\n",
    "\n",
    "**Data Scaling and Normalization:**\n",
    "\n",
    "KNN and SVM can be sensitive to the scale of features. If the features are not appropriately scaled, it can impact the performance of these models. Ensemble models are generally less sensitive to feature scaling.\n",
    "\n",
    "\n",
    "**Kernel Selection (SVM):**\n",
    "\n",
    "The choice of kernel in SVM can significantly affect its performance. If the chosen kernel is not suitable for the underlying structure of the data, it may result in lower predictive accuracy."
   ]
  },
  {
   "cell_type": "markdown",
   "id": "ca631226",
   "metadata": {
    "papermill": {
     "duration": 0.06748,
     "end_time": "2023-11-26T10:15:52.091410",
     "exception": false,
     "start_time": "2023-11-26T10:15:52.023930",
     "status": "completed"
    },
    "tags": []
   },
   "source": [
    "# Model Testing On Test.CSV"
   ]
  },
  {
   "cell_type": "code",
   "execution_count": 102,
   "id": "852c2c3e",
   "metadata": {
    "execution": {
     "iopub.execute_input": "2023-11-26T10:15:52.229985Z",
     "iopub.status.busy": "2023-11-26T10:15:52.229586Z",
     "iopub.status.idle": "2023-11-26T10:15:52.470858Z",
     "shell.execute_reply": "2023-11-26T10:15:52.469349Z"
    },
    "papermill": {
     "duration": 0.315847,
     "end_time": "2023-11-26T10:15:52.473880",
     "exception": false,
     "start_time": "2023-11-26T10:15:52.158033",
     "status": "completed"
    },
    "tags": []
   },
   "outputs": [],
   "source": [
    "test_data=pd.read_csv('/kaggle/input/taxi-fare-guru-total-amount-prediction-challenge/test.csv')"
   ]
  },
  {
   "cell_type": "code",
   "execution_count": 103,
   "id": "3ced6a1f",
   "metadata": {
    "execution": {
     "iopub.execute_input": "2023-11-26T10:15:52.611440Z",
     "iopub.status.busy": "2023-11-26T10:15:52.610972Z",
     "iopub.status.idle": "2023-11-26T10:15:52.643531Z",
     "shell.execute_reply": "2023-11-26T10:15:52.642542Z"
    },
    "papermill": {
     "duration": 0.104514,
     "end_time": "2023-11-26T10:15:52.646151",
     "exception": false,
     "start_time": "2023-11-26T10:15:52.541637",
     "status": "completed"
    },
    "tags": []
   },
   "outputs": [
    {
     "data": {
      "text/html": [
       "<div>\n",
       "<style scoped>\n",
       "    .dataframe tbody tr th:only-of-type {\n",
       "        vertical-align: middle;\n",
       "    }\n",
       "\n",
       "    .dataframe tbody tr th {\n",
       "        vertical-align: top;\n",
       "    }\n",
       "\n",
       "    .dataframe thead th {\n",
       "        text-align: right;\n",
       "    }\n",
       "</style>\n",
       "<table border=\"1\" class=\"dataframe\">\n",
       "  <thead>\n",
       "    <tr style=\"text-align: right;\">\n",
       "      <th></th>\n",
       "      <th>VendorID</th>\n",
       "      <th>tpep_pickup_datetime</th>\n",
       "      <th>tpep_dropoff_datetime</th>\n",
       "      <th>passenger_count</th>\n",
       "      <th>trip_distance</th>\n",
       "      <th>RatecodeID</th>\n",
       "      <th>store_and_fwd_flag</th>\n",
       "      <th>PULocationID</th>\n",
       "      <th>DOLocationID</th>\n",
       "      <th>payment_type</th>\n",
       "      <th>extra</th>\n",
       "      <th>tip_amount</th>\n",
       "      <th>tolls_amount</th>\n",
       "      <th>improvement_surcharge</th>\n",
       "      <th>congestion_surcharge</th>\n",
       "      <th>Airport_fee</th>\n",
       "    </tr>\n",
       "  </thead>\n",
       "  <tbody>\n",
       "    <tr>\n",
       "      <th>0</th>\n",
       "      <td>1</td>\n",
       "      <td>2023-06-29 00:21:20</td>\n",
       "      <td>2023-06-29 00:25:20</td>\n",
       "      <td>1.0</td>\n",
       "      <td>4.95</td>\n",
       "      <td>1.0</td>\n",
       "      <td>N</td>\n",
       "      <td>20</td>\n",
       "      <td>3</td>\n",
       "      <td>Credit Card</td>\n",
       "      <td>1.0</td>\n",
       "      <td>6.067612</td>\n",
       "      <td>0.0</td>\n",
       "      <td>1.0</td>\n",
       "      <td>2.5</td>\n",
       "      <td>0.00</td>\n",
       "    </tr>\n",
       "    <tr>\n",
       "      <th>1</th>\n",
       "      <td>1</td>\n",
       "      <td>2023-06-30 17:44:43</td>\n",
       "      <td>2023-06-30 17:53:13</td>\n",
       "      <td>1.0</td>\n",
       "      <td>2.10</td>\n",
       "      <td>1.0</td>\n",
       "      <td>N</td>\n",
       "      <td>9</td>\n",
       "      <td>81</td>\n",
       "      <td>Credit Card</td>\n",
       "      <td>2.5</td>\n",
       "      <td>6.191269</td>\n",
       "      <td>0.0</td>\n",
       "      <td>1.0</td>\n",
       "      <td>2.5</td>\n",
       "      <td>0.00</td>\n",
       "    </tr>\n",
       "    <tr>\n",
       "      <th>2</th>\n",
       "      <td>1</td>\n",
       "      <td>2023-06-29 18:17:04</td>\n",
       "      <td>2023-06-29 19:23:48</td>\n",
       "      <td>1.0</td>\n",
       "      <td>0.95</td>\n",
       "      <td>1.0</td>\n",
       "      <td>N</td>\n",
       "      <td>92</td>\n",
       "      <td>90</td>\n",
       "      <td>Cash</td>\n",
       "      <td>2.5</td>\n",
       "      <td>3.983872</td>\n",
       "      <td>0.0</td>\n",
       "      <td>1.0</td>\n",
       "      <td>2.5</td>\n",
       "      <td>0.00</td>\n",
       "    </tr>\n",
       "    <tr>\n",
       "      <th>3</th>\n",
       "      <td>0</td>\n",
       "      <td>2023-06-30 21:33:53</td>\n",
       "      <td>2023-06-30 21:46:20</td>\n",
       "      <td>1.0</td>\n",
       "      <td>0.80</td>\n",
       "      <td>1.0</td>\n",
       "      <td>N</td>\n",
       "      <td>19</td>\n",
       "      <td>102</td>\n",
       "      <td>Credit Card</td>\n",
       "      <td>3.5</td>\n",
       "      <td>6.839341</td>\n",
       "      <td>0.0</td>\n",
       "      <td>1.0</td>\n",
       "      <td>2.5</td>\n",
       "      <td>0.00</td>\n",
       "    </tr>\n",
       "    <tr>\n",
       "      <th>4</th>\n",
       "      <td>1</td>\n",
       "      <td>2023-06-29 14:53:54</td>\n",
       "      <td>2023-06-29 15:22:17</td>\n",
       "      <td>1.0</td>\n",
       "      <td>4.01</td>\n",
       "      <td>1.0</td>\n",
       "      <td>N</td>\n",
       "      <td>131</td>\n",
       "      <td>229</td>\n",
       "      <td>Cash</td>\n",
       "      <td>0.0</td>\n",
       "      <td>1.468943</td>\n",
       "      <td>0.0</td>\n",
       "      <td>1.0</td>\n",
       "      <td>0.0</td>\n",
       "      <td>0.00</td>\n",
       "    </tr>\n",
       "    <tr>\n",
       "      <th>...</th>\n",
       "      <td>...</td>\n",
       "      <td>...</td>\n",
       "      <td>...</td>\n",
       "      <td>...</td>\n",
       "      <td>...</td>\n",
       "      <td>...</td>\n",
       "      <td>...</td>\n",
       "      <td>...</td>\n",
       "      <td>...</td>\n",
       "      <td>...</td>\n",
       "      <td>...</td>\n",
       "      <td>...</td>\n",
       "      <td>...</td>\n",
       "      <td>...</td>\n",
       "      <td>...</td>\n",
       "      <td>...</td>\n",
       "    </tr>\n",
       "    <tr>\n",
       "      <th>49995</th>\n",
       "      <td>1</td>\n",
       "      <td>2023-06-29 17:41:59</td>\n",
       "      <td>2023-06-29 18:30:36</td>\n",
       "      <td>1.0</td>\n",
       "      <td>0.61</td>\n",
       "      <td>1.0</td>\n",
       "      <td>N</td>\n",
       "      <td>48</td>\n",
       "      <td>72</td>\n",
       "      <td>Credit Card</td>\n",
       "      <td>2.5</td>\n",
       "      <td>4.043482</td>\n",
       "      <td>0.0</td>\n",
       "      <td>1.0</td>\n",
       "      <td>2.5</td>\n",
       "      <td>0.00</td>\n",
       "    </tr>\n",
       "    <tr>\n",
       "      <th>49996</th>\n",
       "      <td>1</td>\n",
       "      <td>2023-06-30 01:25:25</td>\n",
       "      <td>2023-06-30 01:10:40</td>\n",
       "      <td>1.0</td>\n",
       "      <td>5.02</td>\n",
       "      <td>1.0</td>\n",
       "      <td>N</td>\n",
       "      <td>57</td>\n",
       "      <td>103</td>\n",
       "      <td>Cash</td>\n",
       "      <td>1.0</td>\n",
       "      <td>2.895882</td>\n",
       "      <td>0.0</td>\n",
       "      <td>1.0</td>\n",
       "      <td>0.0</td>\n",
       "      <td>1.75</td>\n",
       "    </tr>\n",
       "    <tr>\n",
       "      <th>49997</th>\n",
       "      <td>1</td>\n",
       "      <td>2023-06-30 22:28:44</td>\n",
       "      <td>2023-06-30 21:49:37</td>\n",
       "      <td>1.0</td>\n",
       "      <td>1.92</td>\n",
       "      <td>1.0</td>\n",
       "      <td>N</td>\n",
       "      <td>150</td>\n",
       "      <td>78</td>\n",
       "      <td>Credit Card</td>\n",
       "      <td>1.0</td>\n",
       "      <td>5.636590</td>\n",
       "      <td>0.0</td>\n",
       "      <td>1.0</td>\n",
       "      <td>2.5</td>\n",
       "      <td>0.00</td>\n",
       "    </tr>\n",
       "    <tr>\n",
       "      <th>49998</th>\n",
       "      <td>0</td>\n",
       "      <td>2023-06-30 02:37:18</td>\n",
       "      <td>2023-06-30 02:10:33</td>\n",
       "      <td>1.0</td>\n",
       "      <td>5.40</td>\n",
       "      <td>1.0</td>\n",
       "      <td>N</td>\n",
       "      <td>4</td>\n",
       "      <td>154</td>\n",
       "      <td>Credit Card</td>\n",
       "      <td>3.5</td>\n",
       "      <td>7.293144</td>\n",
       "      <td>0.0</td>\n",
       "      <td>1.0</td>\n",
       "      <td>2.5</td>\n",
       "      <td>0.00</td>\n",
       "    </tr>\n",
       "    <tr>\n",
       "      <th>49999</th>\n",
       "      <td>1</td>\n",
       "      <td>2023-06-30 18:05:15</td>\n",
       "      <td>2023-06-30 17:15:16</td>\n",
       "      <td>1.0</td>\n",
       "      <td>1.31</td>\n",
       "      <td>1.0</td>\n",
       "      <td>N</td>\n",
       "      <td>7</td>\n",
       "      <td>174</td>\n",
       "      <td>Cash</td>\n",
       "      <td>2.5</td>\n",
       "      <td>1.966592</td>\n",
       "      <td>0.0</td>\n",
       "      <td>1.0</td>\n",
       "      <td>2.5</td>\n",
       "      <td>0.00</td>\n",
       "    </tr>\n",
       "  </tbody>\n",
       "</table>\n",
       "<p>50000 rows × 16 columns</p>\n",
       "</div>"
      ],
      "text/plain": [
       "       VendorID tpep_pickup_datetime tpep_dropoff_datetime  passenger_count  \\\n",
       "0             1  2023-06-29 00:21:20   2023-06-29 00:25:20              1.0   \n",
       "1             1  2023-06-30 17:44:43   2023-06-30 17:53:13              1.0   \n",
       "2             1  2023-06-29 18:17:04   2023-06-29 19:23:48              1.0   \n",
       "3             0  2023-06-30 21:33:53   2023-06-30 21:46:20              1.0   \n",
       "4             1  2023-06-29 14:53:54   2023-06-29 15:22:17              1.0   \n",
       "...         ...                  ...                   ...              ...   \n",
       "49995         1  2023-06-29 17:41:59   2023-06-29 18:30:36              1.0   \n",
       "49996         1  2023-06-30 01:25:25   2023-06-30 01:10:40              1.0   \n",
       "49997         1  2023-06-30 22:28:44   2023-06-30 21:49:37              1.0   \n",
       "49998         0  2023-06-30 02:37:18   2023-06-30 02:10:33              1.0   \n",
       "49999         1  2023-06-30 18:05:15   2023-06-30 17:15:16              1.0   \n",
       "\n",
       "       trip_distance  RatecodeID store_and_fwd_flag  PULocationID  \\\n",
       "0               4.95         1.0                  N            20   \n",
       "1               2.10         1.0                  N             9   \n",
       "2               0.95         1.0                  N            92   \n",
       "3               0.80         1.0                  N            19   \n",
       "4               4.01         1.0                  N           131   \n",
       "...              ...         ...                ...           ...   \n",
       "49995           0.61         1.0                  N            48   \n",
       "49996           5.02         1.0                  N            57   \n",
       "49997           1.92         1.0                  N           150   \n",
       "49998           5.40         1.0                  N             4   \n",
       "49999           1.31         1.0                  N             7   \n",
       "\n",
       "       DOLocationID payment_type  extra  tip_amount  tolls_amount  \\\n",
       "0                 3  Credit Card    1.0    6.067612           0.0   \n",
       "1                81  Credit Card    2.5    6.191269           0.0   \n",
       "2                90         Cash    2.5    3.983872           0.0   \n",
       "3               102  Credit Card    3.5    6.839341           0.0   \n",
       "4               229         Cash    0.0    1.468943           0.0   \n",
       "...             ...          ...    ...         ...           ...   \n",
       "49995            72  Credit Card    2.5    4.043482           0.0   \n",
       "49996           103         Cash    1.0    2.895882           0.0   \n",
       "49997            78  Credit Card    1.0    5.636590           0.0   \n",
       "49998           154  Credit Card    3.5    7.293144           0.0   \n",
       "49999           174         Cash    2.5    1.966592           0.0   \n",
       "\n",
       "       improvement_surcharge  congestion_surcharge  Airport_fee  \n",
       "0                        1.0                   2.5         0.00  \n",
       "1                        1.0                   2.5         0.00  \n",
       "2                        1.0                   2.5         0.00  \n",
       "3                        1.0                   2.5         0.00  \n",
       "4                        1.0                   0.0         0.00  \n",
       "...                      ...                   ...          ...  \n",
       "49995                    1.0                   2.5         0.00  \n",
       "49996                    1.0                   0.0         1.75  \n",
       "49997                    1.0                   2.5         0.00  \n",
       "49998                    1.0                   2.5         0.00  \n",
       "49999                    1.0                   2.5         0.00  \n",
       "\n",
       "[50000 rows x 16 columns]"
      ]
     },
     "execution_count": 103,
     "metadata": {},
     "output_type": "execute_result"
    }
   ],
   "source": [
    "test_data"
   ]
  },
  {
   "cell_type": "code",
   "execution_count": 104,
   "id": "7db5ac19",
   "metadata": {
    "execution": {
     "iopub.execute_input": "2023-11-26T10:15:52.787779Z",
     "iopub.status.busy": "2023-11-26T10:15:52.787054Z",
     "iopub.status.idle": "2023-11-26T10:15:52.795160Z",
     "shell.execute_reply": "2023-11-26T10:15:52.794309Z"
    },
    "papermill": {
     "duration": 0.080895,
     "end_time": "2023-11-26T10:15:52.797635",
     "exception": false,
     "start_time": "2023-11-26T10:15:52.716740",
     "status": "completed"
    },
    "tags": []
   },
   "outputs": [],
   "source": [
    "test_data1=test_data.drop(['tpep_pickup_datetime', 'tpep_dropoff_datetime' ], axis=1)\n"
   ]
  },
  {
   "cell_type": "code",
   "execution_count": 105,
   "id": "c1bcbd88",
   "metadata": {
    "execution": {
     "iopub.execute_input": "2023-11-26T10:15:52.938413Z",
     "iopub.status.busy": "2023-11-26T10:15:52.937664Z",
     "iopub.status.idle": "2023-11-26T10:15:52.968723Z",
     "shell.execute_reply": "2023-11-26T10:15:52.967798Z"
    },
    "papermill": {
     "duration": 0.105132,
     "end_time": "2023-11-26T10:15:52.971037",
     "exception": false,
     "start_time": "2023-11-26T10:15:52.865905",
     "status": "completed"
    },
    "tags": []
   },
   "outputs": [
    {
     "data": {
      "text/html": [
       "<div>\n",
       "<style scoped>\n",
       "    .dataframe tbody tr th:only-of-type {\n",
       "        vertical-align: middle;\n",
       "    }\n",
       "\n",
       "    .dataframe tbody tr th {\n",
       "        vertical-align: top;\n",
       "    }\n",
       "\n",
       "    .dataframe thead th {\n",
       "        text-align: right;\n",
       "    }\n",
       "</style>\n",
       "<table border=\"1\" class=\"dataframe\">\n",
       "  <thead>\n",
       "    <tr style=\"text-align: right;\">\n",
       "      <th></th>\n",
       "      <th>VendorID</th>\n",
       "      <th>passenger_count</th>\n",
       "      <th>trip_distance</th>\n",
       "      <th>RatecodeID</th>\n",
       "      <th>store_and_fwd_flag</th>\n",
       "      <th>PULocationID</th>\n",
       "      <th>DOLocationID</th>\n",
       "      <th>payment_type</th>\n",
       "      <th>extra</th>\n",
       "      <th>tip_amount</th>\n",
       "      <th>tolls_amount</th>\n",
       "      <th>improvement_surcharge</th>\n",
       "      <th>congestion_surcharge</th>\n",
       "      <th>Airport_fee</th>\n",
       "    </tr>\n",
       "  </thead>\n",
       "  <tbody>\n",
       "    <tr>\n",
       "      <th>0</th>\n",
       "      <td>1</td>\n",
       "      <td>1.0</td>\n",
       "      <td>4.95</td>\n",
       "      <td>1.0</td>\n",
       "      <td>N</td>\n",
       "      <td>20</td>\n",
       "      <td>3</td>\n",
       "      <td>Credit Card</td>\n",
       "      <td>1.0</td>\n",
       "      <td>6.067612</td>\n",
       "      <td>0.0</td>\n",
       "      <td>1.0</td>\n",
       "      <td>2.5</td>\n",
       "      <td>0.00</td>\n",
       "    </tr>\n",
       "    <tr>\n",
       "      <th>1</th>\n",
       "      <td>1</td>\n",
       "      <td>1.0</td>\n",
       "      <td>2.10</td>\n",
       "      <td>1.0</td>\n",
       "      <td>N</td>\n",
       "      <td>9</td>\n",
       "      <td>81</td>\n",
       "      <td>Credit Card</td>\n",
       "      <td>2.5</td>\n",
       "      <td>6.191269</td>\n",
       "      <td>0.0</td>\n",
       "      <td>1.0</td>\n",
       "      <td>2.5</td>\n",
       "      <td>0.00</td>\n",
       "    </tr>\n",
       "    <tr>\n",
       "      <th>2</th>\n",
       "      <td>1</td>\n",
       "      <td>1.0</td>\n",
       "      <td>0.95</td>\n",
       "      <td>1.0</td>\n",
       "      <td>N</td>\n",
       "      <td>92</td>\n",
       "      <td>90</td>\n",
       "      <td>Cash</td>\n",
       "      <td>2.5</td>\n",
       "      <td>3.983872</td>\n",
       "      <td>0.0</td>\n",
       "      <td>1.0</td>\n",
       "      <td>2.5</td>\n",
       "      <td>0.00</td>\n",
       "    </tr>\n",
       "    <tr>\n",
       "      <th>3</th>\n",
       "      <td>0</td>\n",
       "      <td>1.0</td>\n",
       "      <td>0.80</td>\n",
       "      <td>1.0</td>\n",
       "      <td>N</td>\n",
       "      <td>19</td>\n",
       "      <td>102</td>\n",
       "      <td>Credit Card</td>\n",
       "      <td>3.5</td>\n",
       "      <td>6.839341</td>\n",
       "      <td>0.0</td>\n",
       "      <td>1.0</td>\n",
       "      <td>2.5</td>\n",
       "      <td>0.00</td>\n",
       "    </tr>\n",
       "    <tr>\n",
       "      <th>4</th>\n",
       "      <td>1</td>\n",
       "      <td>1.0</td>\n",
       "      <td>4.01</td>\n",
       "      <td>1.0</td>\n",
       "      <td>N</td>\n",
       "      <td>131</td>\n",
       "      <td>229</td>\n",
       "      <td>Cash</td>\n",
       "      <td>0.0</td>\n",
       "      <td>1.468943</td>\n",
       "      <td>0.0</td>\n",
       "      <td>1.0</td>\n",
       "      <td>0.0</td>\n",
       "      <td>0.00</td>\n",
       "    </tr>\n",
       "    <tr>\n",
       "      <th>...</th>\n",
       "      <td>...</td>\n",
       "      <td>...</td>\n",
       "      <td>...</td>\n",
       "      <td>...</td>\n",
       "      <td>...</td>\n",
       "      <td>...</td>\n",
       "      <td>...</td>\n",
       "      <td>...</td>\n",
       "      <td>...</td>\n",
       "      <td>...</td>\n",
       "      <td>...</td>\n",
       "      <td>...</td>\n",
       "      <td>...</td>\n",
       "      <td>...</td>\n",
       "    </tr>\n",
       "    <tr>\n",
       "      <th>49995</th>\n",
       "      <td>1</td>\n",
       "      <td>1.0</td>\n",
       "      <td>0.61</td>\n",
       "      <td>1.0</td>\n",
       "      <td>N</td>\n",
       "      <td>48</td>\n",
       "      <td>72</td>\n",
       "      <td>Credit Card</td>\n",
       "      <td>2.5</td>\n",
       "      <td>4.043482</td>\n",
       "      <td>0.0</td>\n",
       "      <td>1.0</td>\n",
       "      <td>2.5</td>\n",
       "      <td>0.00</td>\n",
       "    </tr>\n",
       "    <tr>\n",
       "      <th>49996</th>\n",
       "      <td>1</td>\n",
       "      <td>1.0</td>\n",
       "      <td>5.02</td>\n",
       "      <td>1.0</td>\n",
       "      <td>N</td>\n",
       "      <td>57</td>\n",
       "      <td>103</td>\n",
       "      <td>Cash</td>\n",
       "      <td>1.0</td>\n",
       "      <td>2.895882</td>\n",
       "      <td>0.0</td>\n",
       "      <td>1.0</td>\n",
       "      <td>0.0</td>\n",
       "      <td>1.75</td>\n",
       "    </tr>\n",
       "    <tr>\n",
       "      <th>49997</th>\n",
       "      <td>1</td>\n",
       "      <td>1.0</td>\n",
       "      <td>1.92</td>\n",
       "      <td>1.0</td>\n",
       "      <td>N</td>\n",
       "      <td>150</td>\n",
       "      <td>78</td>\n",
       "      <td>Credit Card</td>\n",
       "      <td>1.0</td>\n",
       "      <td>5.636590</td>\n",
       "      <td>0.0</td>\n",
       "      <td>1.0</td>\n",
       "      <td>2.5</td>\n",
       "      <td>0.00</td>\n",
       "    </tr>\n",
       "    <tr>\n",
       "      <th>49998</th>\n",
       "      <td>0</td>\n",
       "      <td>1.0</td>\n",
       "      <td>5.40</td>\n",
       "      <td>1.0</td>\n",
       "      <td>N</td>\n",
       "      <td>4</td>\n",
       "      <td>154</td>\n",
       "      <td>Credit Card</td>\n",
       "      <td>3.5</td>\n",
       "      <td>7.293144</td>\n",
       "      <td>0.0</td>\n",
       "      <td>1.0</td>\n",
       "      <td>2.5</td>\n",
       "      <td>0.00</td>\n",
       "    </tr>\n",
       "    <tr>\n",
       "      <th>49999</th>\n",
       "      <td>1</td>\n",
       "      <td>1.0</td>\n",
       "      <td>1.31</td>\n",
       "      <td>1.0</td>\n",
       "      <td>N</td>\n",
       "      <td>7</td>\n",
       "      <td>174</td>\n",
       "      <td>Cash</td>\n",
       "      <td>2.5</td>\n",
       "      <td>1.966592</td>\n",
       "      <td>0.0</td>\n",
       "      <td>1.0</td>\n",
       "      <td>2.5</td>\n",
       "      <td>0.00</td>\n",
       "    </tr>\n",
       "  </tbody>\n",
       "</table>\n",
       "<p>50000 rows × 14 columns</p>\n",
       "</div>"
      ],
      "text/plain": [
       "       VendorID  passenger_count  trip_distance  RatecodeID  \\\n",
       "0             1              1.0           4.95         1.0   \n",
       "1             1              1.0           2.10         1.0   \n",
       "2             1              1.0           0.95         1.0   \n",
       "3             0              1.0           0.80         1.0   \n",
       "4             1              1.0           4.01         1.0   \n",
       "...         ...              ...            ...         ...   \n",
       "49995         1              1.0           0.61         1.0   \n",
       "49996         1              1.0           5.02         1.0   \n",
       "49997         1              1.0           1.92         1.0   \n",
       "49998         0              1.0           5.40         1.0   \n",
       "49999         1              1.0           1.31         1.0   \n",
       "\n",
       "      store_and_fwd_flag  PULocationID  DOLocationID payment_type  extra  \\\n",
       "0                      N            20             3  Credit Card    1.0   \n",
       "1                      N             9            81  Credit Card    2.5   \n",
       "2                      N            92            90         Cash    2.5   \n",
       "3                      N            19           102  Credit Card    3.5   \n",
       "4                      N           131           229         Cash    0.0   \n",
       "...                  ...           ...           ...          ...    ...   \n",
       "49995                  N            48            72  Credit Card    2.5   \n",
       "49996                  N            57           103         Cash    1.0   \n",
       "49997                  N           150            78  Credit Card    1.0   \n",
       "49998                  N             4           154  Credit Card    3.5   \n",
       "49999                  N             7           174         Cash    2.5   \n",
       "\n",
       "       tip_amount  tolls_amount  improvement_surcharge  congestion_surcharge  \\\n",
       "0        6.067612           0.0                    1.0                   2.5   \n",
       "1        6.191269           0.0                    1.0                   2.5   \n",
       "2        3.983872           0.0                    1.0                   2.5   \n",
       "3        6.839341           0.0                    1.0                   2.5   \n",
       "4        1.468943           0.0                    1.0                   0.0   \n",
       "...           ...           ...                    ...                   ...   \n",
       "49995    4.043482           0.0                    1.0                   2.5   \n",
       "49996    2.895882           0.0                    1.0                   0.0   \n",
       "49997    5.636590           0.0                    1.0                   2.5   \n",
       "49998    7.293144           0.0                    1.0                   2.5   \n",
       "49999    1.966592           0.0                    1.0                   2.5   \n",
       "\n",
       "       Airport_fee  \n",
       "0             0.00  \n",
       "1             0.00  \n",
       "2             0.00  \n",
       "3             0.00  \n",
       "4             0.00  \n",
       "...            ...  \n",
       "49995         0.00  \n",
       "49996         1.75  \n",
       "49997         0.00  \n",
       "49998         0.00  \n",
       "49999         0.00  \n",
       "\n",
       "[50000 rows x 14 columns]"
      ]
     },
     "execution_count": 105,
     "metadata": {},
     "output_type": "execute_result"
    }
   ],
   "source": [
    "test_data1"
   ]
  },
  {
   "cell_type": "code",
   "execution_count": 106,
   "id": "e0d37ee3",
   "metadata": {
    "execution": {
     "iopub.execute_input": "2023-11-26T10:15:53.111421Z",
     "iopub.status.busy": "2023-11-26T10:15:53.110686Z",
     "iopub.status.idle": "2023-11-26T10:15:53.178420Z",
     "shell.execute_reply": "2023-11-26T10:15:53.177397Z"
    },
    "papermill": {
     "duration": 0.14114,
     "end_time": "2023-11-26T10:15:53.181005",
     "exception": false,
     "start_time": "2023-11-26T10:15:53.039865",
     "status": "completed"
    },
    "tags": []
   },
   "outputs": [],
   "source": [
    "transformed_data =pipe.transform(test_data1)\n",
    "\n",
    "\n",
    "# Create a DataFrame\n",
    "transformed_df = pd.DataFrame(transformed_data, columns=column_names)"
   ]
  },
  {
   "cell_type": "code",
   "execution_count": 107,
   "id": "77b1397e",
   "metadata": {
    "execution": {
     "iopub.execute_input": "2023-11-26T10:15:53.324616Z",
     "iopub.status.busy": "2023-11-26T10:15:53.323894Z",
     "iopub.status.idle": "2023-11-26T10:15:53.351044Z",
     "shell.execute_reply": "2023-11-26T10:15:53.349764Z"
    },
    "papermill": {
     "duration": 0.103221,
     "end_time": "2023-11-26T10:15:53.353674",
     "exception": false,
     "start_time": "2023-11-26T10:15:53.250453",
     "status": "completed"
    },
    "tags": []
   },
   "outputs": [
    {
     "data": {
      "text/html": [
       "<div>\n",
       "<style scoped>\n",
       "    .dataframe tbody tr th:only-of-type {\n",
       "        vertical-align: middle;\n",
       "    }\n",
       "\n",
       "    .dataframe tbody tr th {\n",
       "        vertical-align: top;\n",
       "    }\n",
       "\n",
       "    .dataframe thead th {\n",
       "        text-align: right;\n",
       "    }\n",
       "</style>\n",
       "<table border=\"1\" class=\"dataframe\">\n",
       "  <thead>\n",
       "    <tr style=\"text-align: right;\">\n",
       "      <th></th>\n",
       "      <th>VendorID</th>\n",
       "      <th>passenger_count</th>\n",
       "      <th>trip_distance</th>\n",
       "      <th>RatecodeID</th>\n",
       "      <th>PULocationID</th>\n",
       "      <th>DOLocationID</th>\n",
       "      <th>extra</th>\n",
       "      <th>tip_amount</th>\n",
       "      <th>tolls_amount</th>\n",
       "      <th>improvement_surcharge</th>\n",
       "      <th>congestion_surcharge</th>\n",
       "      <th>Airport_fee</th>\n",
       "      <th>store_and_fwd_flag</th>\n",
       "      <th>payment_type</th>\n",
       "    </tr>\n",
       "  </thead>\n",
       "  <tbody>\n",
       "    <tr>\n",
       "      <th>0</th>\n",
       "      <td>0.60956</td>\n",
       "      <td>-0.393181</td>\n",
       "      <td>-0.000496</td>\n",
       "      <td>-0.078158</td>\n",
       "      <td>-1.480137</td>\n",
       "      <td>-1.702291</td>\n",
       "      <td>-0.478392</td>\n",
       "      <td>-0.012988</td>\n",
       "      <td>-0.27781</td>\n",
       "      <td>0.102183</td>\n",
       "      <td>0.302957</td>\n",
       "      <td>-0.304284</td>\n",
       "      <td>0.0</td>\n",
       "      <td>1.0</td>\n",
       "    </tr>\n",
       "    <tr>\n",
       "      <th>1</th>\n",
       "      <td>0.60956</td>\n",
       "      <td>-0.393181</td>\n",
       "      <td>-0.007712</td>\n",
       "      <td>-0.078158</td>\n",
       "      <td>-1.624592</td>\n",
       "      <td>-0.678565</td>\n",
       "      <td>0.291434</td>\n",
       "      <td>0.013831</td>\n",
       "      <td>-0.27781</td>\n",
       "      <td>0.102183</td>\n",
       "      <td>0.302957</td>\n",
       "      <td>-0.304284</td>\n",
       "      <td>0.0</td>\n",
       "      <td>1.0</td>\n",
       "    </tr>\n",
       "    <tr>\n",
       "      <th>2</th>\n",
       "      <td>0.60956</td>\n",
       "      <td>-0.393181</td>\n",
       "      <td>-0.010623</td>\n",
       "      <td>-0.078158</td>\n",
       "      <td>-0.534617</td>\n",
       "      <td>-0.560443</td>\n",
       "      <td>0.291434</td>\n",
       "      <td>-0.464912</td>\n",
       "      <td>-0.27781</td>\n",
       "      <td>0.102183</td>\n",
       "      <td>0.302957</td>\n",
       "      <td>-0.304284</td>\n",
       "      <td>0.0</td>\n",
       "      <td>0.0</td>\n",
       "    </tr>\n",
       "    <tr>\n",
       "      <th>3</th>\n",
       "      <td>-1.63458</td>\n",
       "      <td>-0.393181</td>\n",
       "      <td>-0.011003</td>\n",
       "      <td>-0.078158</td>\n",
       "      <td>-1.493269</td>\n",
       "      <td>-0.402947</td>\n",
       "      <td>0.804651</td>\n",
       "      <td>0.154385</td>\n",
       "      <td>-0.27781</td>\n",
       "      <td>0.102183</td>\n",
       "      <td>0.302957</td>\n",
       "      <td>-0.304284</td>\n",
       "      <td>0.0</td>\n",
       "      <td>1.0</td>\n",
       "    </tr>\n",
       "    <tr>\n",
       "      <th>4</th>\n",
       "      <td>0.60956</td>\n",
       "      <td>-0.393181</td>\n",
       "      <td>-0.002876</td>\n",
       "      <td>-0.078158</td>\n",
       "      <td>-0.022461</td>\n",
       "      <td>1.263889</td>\n",
       "      <td>-0.991610</td>\n",
       "      <td>-1.010352</td>\n",
       "      <td>-0.27781</td>\n",
       "      <td>0.102183</td>\n",
       "      <td>-2.798024</td>\n",
       "      <td>-0.304284</td>\n",
       "      <td>0.0</td>\n",
       "      <td>0.0</td>\n",
       "    </tr>\n",
       "    <tr>\n",
       "      <th>...</th>\n",
       "      <td>...</td>\n",
       "      <td>...</td>\n",
       "      <td>...</td>\n",
       "      <td>...</td>\n",
       "      <td>...</td>\n",
       "      <td>...</td>\n",
       "      <td>...</td>\n",
       "      <td>...</td>\n",
       "      <td>...</td>\n",
       "      <td>...</td>\n",
       "      <td>...</td>\n",
       "      <td>...</td>\n",
       "      <td>...</td>\n",
       "      <td>...</td>\n",
       "    </tr>\n",
       "    <tr>\n",
       "      <th>49995</th>\n",
       "      <td>0.60956</td>\n",
       "      <td>-0.393181</td>\n",
       "      <td>-0.011484</td>\n",
       "      <td>-0.078158</td>\n",
       "      <td>-1.112435</td>\n",
       "      <td>-0.796687</td>\n",
       "      <td>0.291434</td>\n",
       "      <td>-0.451984</td>\n",
       "      <td>-0.27781</td>\n",
       "      <td>0.102183</td>\n",
       "      <td>0.302957</td>\n",
       "      <td>-0.304284</td>\n",
       "      <td>0.0</td>\n",
       "      <td>1.0</td>\n",
       "    </tr>\n",
       "    <tr>\n",
       "      <th>49996</th>\n",
       "      <td>0.60956</td>\n",
       "      <td>-0.393181</td>\n",
       "      <td>-0.000319</td>\n",
       "      <td>-0.078158</td>\n",
       "      <td>-0.994245</td>\n",
       "      <td>-0.389822</td>\n",
       "      <td>-0.478392</td>\n",
       "      <td>-0.700876</td>\n",
       "      <td>-0.27781</td>\n",
       "      <td>0.102183</td>\n",
       "      <td>-2.798024</td>\n",
       "      <td>3.169049</td>\n",
       "      <td>0.0</td>\n",
       "      <td>0.0</td>\n",
       "    </tr>\n",
       "    <tr>\n",
       "      <th>49997</th>\n",
       "      <td>0.60956</td>\n",
       "      <td>-0.393181</td>\n",
       "      <td>-0.008168</td>\n",
       "      <td>-0.078158</td>\n",
       "      <td>0.227052</td>\n",
       "      <td>-0.717939</td>\n",
       "      <td>-0.478392</td>\n",
       "      <td>-0.106468</td>\n",
       "      <td>-0.27781</td>\n",
       "      <td>0.102183</td>\n",
       "      <td>0.302957</td>\n",
       "      <td>-0.304284</td>\n",
       "      <td>0.0</td>\n",
       "      <td>1.0</td>\n",
       "    </tr>\n",
       "    <tr>\n",
       "      <th>49998</th>\n",
       "      <td>-1.63458</td>\n",
       "      <td>-0.393181</td>\n",
       "      <td>0.000643</td>\n",
       "      <td>-0.078158</td>\n",
       "      <td>-1.690253</td>\n",
       "      <td>0.279537</td>\n",
       "      <td>0.804651</td>\n",
       "      <td>0.252807</td>\n",
       "      <td>-0.27781</td>\n",
       "      <td>0.102183</td>\n",
       "      <td>0.302957</td>\n",
       "      <td>-0.304284</td>\n",
       "      <td>0.0</td>\n",
       "      <td>1.0</td>\n",
       "    </tr>\n",
       "    <tr>\n",
       "      <th>49999</th>\n",
       "      <td>0.60956</td>\n",
       "      <td>-0.393181</td>\n",
       "      <td>-0.009712</td>\n",
       "      <td>-0.078158</td>\n",
       "      <td>-1.650856</td>\n",
       "      <td>0.542031</td>\n",
       "      <td>0.291434</td>\n",
       "      <td>-0.902422</td>\n",
       "      <td>-0.27781</td>\n",
       "      <td>0.102183</td>\n",
       "      <td>0.302957</td>\n",
       "      <td>-0.304284</td>\n",
       "      <td>0.0</td>\n",
       "      <td>0.0</td>\n",
       "    </tr>\n",
       "  </tbody>\n",
       "</table>\n",
       "<p>50000 rows × 14 columns</p>\n",
       "</div>"
      ],
      "text/plain": [
       "       VendorID  passenger_count  trip_distance  RatecodeID  PULocationID  \\\n",
       "0       0.60956        -0.393181      -0.000496   -0.078158     -1.480137   \n",
       "1       0.60956        -0.393181      -0.007712   -0.078158     -1.624592   \n",
       "2       0.60956        -0.393181      -0.010623   -0.078158     -0.534617   \n",
       "3      -1.63458        -0.393181      -0.011003   -0.078158     -1.493269   \n",
       "4       0.60956        -0.393181      -0.002876   -0.078158     -0.022461   \n",
       "...         ...              ...            ...         ...           ...   \n",
       "49995   0.60956        -0.393181      -0.011484   -0.078158     -1.112435   \n",
       "49996   0.60956        -0.393181      -0.000319   -0.078158     -0.994245   \n",
       "49997   0.60956        -0.393181      -0.008168   -0.078158      0.227052   \n",
       "49998  -1.63458        -0.393181       0.000643   -0.078158     -1.690253   \n",
       "49999   0.60956        -0.393181      -0.009712   -0.078158     -1.650856   \n",
       "\n",
       "       DOLocationID     extra  tip_amount  tolls_amount  \\\n",
       "0         -1.702291 -0.478392   -0.012988      -0.27781   \n",
       "1         -0.678565  0.291434    0.013831      -0.27781   \n",
       "2         -0.560443  0.291434   -0.464912      -0.27781   \n",
       "3         -0.402947  0.804651    0.154385      -0.27781   \n",
       "4          1.263889 -0.991610   -1.010352      -0.27781   \n",
       "...             ...       ...         ...           ...   \n",
       "49995     -0.796687  0.291434   -0.451984      -0.27781   \n",
       "49996     -0.389822 -0.478392   -0.700876      -0.27781   \n",
       "49997     -0.717939 -0.478392   -0.106468      -0.27781   \n",
       "49998      0.279537  0.804651    0.252807      -0.27781   \n",
       "49999      0.542031  0.291434   -0.902422      -0.27781   \n",
       "\n",
       "       improvement_surcharge  congestion_surcharge  Airport_fee  \\\n",
       "0                   0.102183              0.302957    -0.304284   \n",
       "1                   0.102183              0.302957    -0.304284   \n",
       "2                   0.102183              0.302957    -0.304284   \n",
       "3                   0.102183              0.302957    -0.304284   \n",
       "4                   0.102183             -2.798024    -0.304284   \n",
       "...                      ...                   ...          ...   \n",
       "49995               0.102183              0.302957    -0.304284   \n",
       "49996               0.102183             -2.798024     3.169049   \n",
       "49997               0.102183              0.302957    -0.304284   \n",
       "49998               0.102183              0.302957    -0.304284   \n",
       "49999               0.102183              0.302957    -0.304284   \n",
       "\n",
       "       store_and_fwd_flag  payment_type  \n",
       "0                     0.0           1.0  \n",
       "1                     0.0           1.0  \n",
       "2                     0.0           0.0  \n",
       "3                     0.0           1.0  \n",
       "4                     0.0           0.0  \n",
       "...                   ...           ...  \n",
       "49995                 0.0           1.0  \n",
       "49996                 0.0           0.0  \n",
       "49997                 0.0           1.0  \n",
       "49998                 0.0           1.0  \n",
       "49999                 0.0           0.0  \n",
       "\n",
       "[50000 rows x 14 columns]"
      ]
     },
     "execution_count": 107,
     "metadata": {},
     "output_type": "execute_result"
    }
   ],
   "source": [
    "transformed_df"
   ]
  },
  {
   "cell_type": "code",
   "execution_count": null,
   "id": "6d84d2ec",
   "metadata": {
    "papermill": {
     "duration": 0.069416,
     "end_time": "2023-11-26T10:15:53.495835",
     "exception": false,
     "start_time": "2023-11-26T10:15:53.426419",
     "status": "completed"
    },
    "tags": []
   },
   "outputs": [],
   "source": []
  },
  {
   "cell_type": "code",
   "execution_count": 108,
   "id": "bdf6919e",
   "metadata": {
    "execution": {
     "iopub.execute_input": "2023-11-26T10:15:53.636637Z",
     "iopub.status.busy": "2023-11-26T10:15:53.635893Z",
     "iopub.status.idle": "2023-11-26T10:15:53.646879Z",
     "shell.execute_reply": "2023-11-26T10:15:53.645658Z"
    },
    "papermill": {
     "duration": 0.08461,
     "end_time": "2023-11-26T10:15:53.649425",
     "exception": false,
     "start_time": "2023-11-26T10:15:53.564815",
     "status": "completed"
    },
    "tags": []
   },
   "outputs": [
    {
     "data": {
      "text/plain": [
       "VendorID                 0\n",
       "passenger_count          0\n",
       "trip_distance            0\n",
       "RatecodeID               0\n",
       "PULocationID             0\n",
       "DOLocationID             0\n",
       "extra                    0\n",
       "tip_amount               0\n",
       "tolls_amount             0\n",
       "improvement_surcharge    0\n",
       "congestion_surcharge     0\n",
       "Airport_fee              0\n",
       "store_and_fwd_flag       0\n",
       "payment_type             0\n",
       "dtype: int64"
      ]
     },
     "execution_count": 108,
     "metadata": {},
     "output_type": "execute_result"
    }
   ],
   "source": [
    "transformed_df.isna().sum()"
   ]
  },
  {
   "cell_type": "markdown",
   "id": "8a7c968c",
   "metadata": {
    "papermill": {
     "duration": 0.069486,
     "end_time": "2023-11-26T10:15:53.788846",
     "exception": false,
     "start_time": "2023-11-26T10:15:53.719360",
     "status": "completed"
    },
    "tags": []
   },
   "source": [
    "####  Testing Random Forest Model On Test data"
   ]
  },
  {
   "cell_type": "code",
   "execution_count": 109,
   "id": "4c6427e3",
   "metadata": {
    "execution": {
     "iopub.execute_input": "2023-11-26T10:15:53.932148Z",
     "iopub.status.busy": "2023-11-26T10:15:53.931261Z",
     "iopub.status.idle": "2023-11-26T10:15:54.879036Z",
     "shell.execute_reply": "2023-11-26T10:15:54.878060Z"
    },
    "papermill": {
     "duration": 1.020957,
     "end_time": "2023-11-26T10:15:54.881581",
     "exception": false,
     "start_time": "2023-11-26T10:15:53.860624",
     "status": "completed"
    },
    "tags": []
   },
   "outputs": [],
   "source": [
    "yfinal_pred=lin.predict(transformed_df)"
   ]
  },
  {
   "cell_type": "code",
   "execution_count": 110,
   "id": "3f47ffb8",
   "metadata": {
    "execution": {
     "iopub.execute_input": "2023-11-26T10:15:55.023380Z",
     "iopub.status.busy": "2023-11-26T10:15:55.022632Z",
     "iopub.status.idle": "2023-11-26T10:15:55.028891Z",
     "shell.execute_reply": "2023-11-26T10:15:55.027841Z"
    },
    "papermill": {
     "duration": 0.079618,
     "end_time": "2023-11-26T10:15:55.031020",
     "exception": false,
     "start_time": "2023-11-26T10:15:54.951402",
     "status": "completed"
    },
    "tags": []
   },
   "outputs": [
    {
     "data": {
      "text/plain": [
       "array([35.75648783, 26.66131842, 15.85650211, ..., 20.39773271,\n",
       "       38.31629318, 17.89967784])"
      ]
     },
     "execution_count": 110,
     "metadata": {},
     "output_type": "execute_result"
    }
   ],
   "source": [
    "yfinal_pred"
   ]
  },
  {
   "cell_type": "code",
   "execution_count": 111,
   "id": "d8813f44",
   "metadata": {
    "execution": {
     "iopub.execute_input": "2023-11-26T10:15:55.174463Z",
     "iopub.status.busy": "2023-11-26T10:15:55.173888Z",
     "iopub.status.idle": "2023-11-26T10:15:55.388017Z",
     "shell.execute_reply": "2023-11-26T10:15:55.387125Z"
    },
    "papermill": {
     "duration": 0.288518,
     "end_time": "2023-11-26T10:15:55.390722",
     "exception": false,
     "start_time": "2023-11-26T10:15:55.102204",
     "status": "completed"
    },
    "tags": []
   },
   "outputs": [],
   "source": [
    "submission_df = pd.DataFrame({'ID': range(1, len(yfinal_pred) + 1), 'total_amount': yfinal_pred})\n",
    "\n",
    "# Save the DataFrame to a CSV file\n",
    "submission_df.to_csv('submission.csv', index=False)"
   ]
  },
  {
   "cell_type": "markdown",
   "id": "d1ae5c52",
   "metadata": {
    "papermill": {
     "duration": 0.069616,
     "end_time": "2023-11-26T10:15:55.530179",
     "exception": false,
     "start_time": "2023-11-26T10:15:55.460563",
     "status": "completed"
    },
    "tags": []
   },
   "source": [
    "#### Testing  XGBOOST  Model On Test data"
   ]
  },
  {
   "cell_type": "code",
   "execution_count": 112,
   "id": "7e973f3d",
   "metadata": {
    "execution": {
     "iopub.execute_input": "2023-11-26T10:15:55.671796Z",
     "iopub.status.busy": "2023-11-26T10:15:55.671046Z",
     "iopub.status.idle": "2023-11-26T10:15:56.256753Z",
     "shell.execute_reply": "2023-11-26T10:15:56.255661Z"
    },
    "papermill": {
     "duration": 0.659422,
     "end_time": "2023-11-26T10:15:56.259255",
     "exception": false,
     "start_time": "2023-11-26T10:15:55.599833",
     "status": "completed"
    },
    "tags": []
   },
   "outputs": [],
   "source": [
    "yfinal_pred_xgb=xgb.predict(transformed_df)"
   ]
  },
  {
   "cell_type": "code",
   "execution_count": 113,
   "id": "8dd6941a",
   "metadata": {
    "execution": {
     "iopub.execute_input": "2023-11-26T10:15:56.402637Z",
     "iopub.status.busy": "2023-11-26T10:15:56.401911Z",
     "iopub.status.idle": "2023-11-26T10:15:56.409655Z",
     "shell.execute_reply": "2023-11-26T10:15:56.408279Z"
    },
    "papermill": {
     "duration": 0.082749,
     "end_time": "2023-11-26T10:15:56.412192",
     "exception": false,
     "start_time": "2023-11-26T10:15:56.329443",
     "status": "completed"
    },
    "tags": []
   },
   "outputs": [
    {
     "data": {
      "text/plain": [
       "array([33.802807, 25.70746 , 15.270814, ..., 20.081459, 37.176743,\n",
       "       17.125805], dtype=float32)"
      ]
     },
     "execution_count": 113,
     "metadata": {},
     "output_type": "execute_result"
    }
   ],
   "source": [
    "yfinal_pred_xgb"
   ]
  },
  {
   "cell_type": "code",
   "execution_count": 114,
   "id": "dee2de33",
   "metadata": {
    "execution": {
     "iopub.execute_input": "2023-11-26T10:15:56.562877Z",
     "iopub.status.busy": "2023-11-26T10:15:56.562490Z",
     "iopub.status.idle": "2023-11-26T10:15:56.734242Z",
     "shell.execute_reply": "2023-11-26T10:15:56.733176Z"
    },
    "papermill": {
     "duration": 0.251112,
     "end_time": "2023-11-26T10:15:56.737122",
     "exception": false,
     "start_time": "2023-11-26T10:15:56.486010",
     "status": "completed"
    },
    "tags": []
   },
   "outputs": [],
   "source": [
    " submission_df = pd.DataFrame({'ID': range(1, len(yfinal_pred_xgb) + 1), 'total_amount': yfinal_pred_xgb})\n",
    "\n",
    "# Save the DataFrame to a CSV file\n",
    "submission_df.to_csv('submission1.csv', index=False)"
   ]
  },
  {
   "cell_type": "code",
   "execution_count": null,
   "id": "a052bf9a",
   "metadata": {
    "papermill": {
     "duration": 0.06952,
     "end_time": "2023-11-26T10:15:56.877391",
     "exception": false,
     "start_time": "2023-11-26T10:15:56.807871",
     "status": "completed"
    },
    "tags": []
   },
   "outputs": [],
   "source": []
  },
  {
   "cell_type": "code",
   "execution_count": null,
   "id": "b768e4cc",
   "metadata": {
    "papermill": {
     "duration": 0.070425,
     "end_time": "2023-11-26T10:15:57.017609",
     "exception": false,
     "start_time": "2023-11-26T10:15:56.947184",
     "status": "completed"
    },
    "tags": []
   },
   "outputs": [],
   "source": []
  }
 ],
 "metadata": {
  "kaggle": {
   "accelerator": "none",
   "dataSources": [
    {
     "databundleVersionId": 6604167,
     "sourceId": 61246,
     "sourceType": "competition"
    }
   ],
   "dockerImageVersionId": 30558,
   "isGpuEnabled": false,
   "isInternetEnabled": true,
   "language": "python",
   "sourceType": "notebook"
  },
  "kernelspec": {
   "display_name": "Python 3",
   "language": "python",
   "name": "python3"
  },
  "language_info": {
   "codemirror_mode": {
    "name": "ipython",
    "version": 3
   },
   "file_extension": ".py",
   "mimetype": "text/x-python",
   "name": "python",
   "nbconvert_exporter": "python",
   "pygments_lexer": "ipython3",
   "version": "3.10.12"
  },
  "papermill": {
   "default_parameters": {},
   "duration": 3545.912113,
   "end_time": "2023-11-26T10:15:57.918942",
   "environment_variables": {},
   "exception": null,
   "input_path": "__notebook__.ipynb",
   "output_path": "__notebook__.ipynb",
   "parameters": {},
   "start_time": "2023-11-26T09:16:52.006829",
   "version": "2.4.0"
  }
 },
 "nbformat": 4,
 "nbformat_minor": 5
}
